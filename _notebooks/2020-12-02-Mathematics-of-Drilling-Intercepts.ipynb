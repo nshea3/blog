{
  "nbformat": 4,
  "nbformat_minor": 0,
  "metadata": {
    "colab": {
      "name": "2020-12-02-Mathematics-of-Drilling-Intercepts.ipynb",
      "provenance": [],
      "collapsed_sections": [],
      "authorship_tag": "ABX9TyMli09qZk1PuxjVTWufLECh"
    },
    "kernelspec": {
      "name": "python3",
      "display_name": "Python 3"
    }
  },
  "cells": [
    {
      "cell_type": "markdown",
      "metadata": {
        "id": "_F72ERgVjc2v"
      },
      "source": [
        "# The Mathematics of Drilling Intercepts\r\n",
        "\r\n",
        "- toc: true\r\n",
        "- branch: master\r\n",
        "- badges: true\r\n",
        "- comments: true"
      ]
    },
    {
      "cell_type": "markdown",
      "metadata": {
        "id": "XmvMzXUWVDSM"
      },
      "source": [
        "## Introduction\n",
        "\n",
        "\n",
        "Drilling intercepts are a prominent feature of junior mining news releases. They are closely monitored by the mining investment community, and a particularly good intercept can raise the prospects for a project. \n",
        "\n",
        "As an example, consider this November 10 2020 release from Freegold Ventures:\n",
        "\n",
        "> *Freegold Intercepts 3.78 g/t Au Over 119 Metres Including 131.5 g/t Over 3 Metres Within 573 Metres of 1.21 g/t Au at Golden Summit*\n",
        "\n",
        "The market responded with a 3% boost in the share price the next trading day, so clearly this was regarded as a positive signal for the company's prospects. [(This is typical: capital markets tend to treat any news of this sort as good news.)](https://doi.org/10.1177%2F0312896212473401)\n",
        "\n",
        "The implications for the economic, geological, and engineering variables surrounding the project are much less clear. *Is this a good geological result? Is it a good engineering result?* Intercepts are *highlights*: incomplete data, collected and released selectively, so is it even possible to make an informed judgement using these numbers?\n",
        "\n",
        "To complicate things even further, the selectively reported drilling intercepts are usually released in a rather complex manner, which can make it difficult to distinguish between truly good numbers and deceptively good results.  Drilling intercepts are discussed at great length in other sources (here and here and here) but we'll take a mathematical perspective and develop a model that describes nested intercept configurations of arbitrary complexity.\n",
        " \n",
        "We'll take Great Bear Resources for an extended example. Great Bear Resources is a Canadian junior mining company whose stock gained substantially on announcement of very high grade intercepts at their Dixie project in Ontario. At time of writing, GBR is trading at a $886 million CAD market cap (which is not very bearish at all!) \n",
        "\n",
        "<!-- TradingView Widget BEGIN -->\n",
        "<div class=\"tradingview-widget-container\">\n",
        "  <div class=\"tradingview-widget-container__widget\"></div>\n",
        "  <div class=\"tradingview-widget-copyright\"><a href=\"https://www.tradingview.com/symbols/TSXV-GBR/\" rel=\"noopener\" target=\"_blank\"><span class=\"blue-text\">GBR Price Today</span></a> by TradingView</div>\n",
        "  <script type=\"text/javascript\" src=\"https://s3.tradingview.com/external-embedding/embed-widget-single-quote.js\" async>\n",
        "  {\n",
        "  \"symbol\": \"TSXV:GBR\",\n",
        "  \"width\": \"100%\",\n",
        "  \"colorTheme\": \"light\",\n",
        "  \"isTransparent\": false,\n",
        "  \"locale\": \"en\"\n",
        "}\n",
        "  </script>\n",
        "</div>\n",
        "<!-- TradingView Widget END -->\n"
      ]
    },
    {
      "cell_type": "code",
      "metadata": {
        "colab": {
          "base_uri": "https://localhost:8080/"
        },
        "id": "Jcfrn30kT5sL",
        "outputId": "28e0e405-85a1-46f1-99bc-2009bc83963f"
      },
      "source": [
        "#hide\n",
        "\n",
        "from google.colab import drive\n",
        "drive.mount('/content/drive')\n",
        "\n",
        "\n",
        "!pip install anytree\n",
        "\n",
        "from anytree import Node, RenderTree\n",
        "\n",
        "from anytree import Node, RenderTree, AsciiStyle, LevelOrderIter\n",
        "\n"
      ],
      "execution_count": 1,
      "outputs": [
        {
          "output_type": "stream",
          "text": [
            "Mounted at /content/drive\n"
          ],
          "name": "stdout"
        }
      ]
    },
    {
      "cell_type": "markdown",
      "metadata": {
        "id": "40qVjBXGX0ae"
      },
      "source": [
        "\n",
        "Here we open up the spreadsheet of drilling results (available on their website), and then filter on `Drill Hole` to consider a single hole:"
      ]
    },
    {
      "cell_type": "code",
      "metadata": {
        "id": "PtdFKDo5V7Z3",
        "colab": {
          "base_uri": "https://localhost:8080/",
          "height": 452
        },
        "outputId": "849f0b40-945a-4c46-b7c4-d63302c78bc6"
      },
      "source": [
        "import pandas as pd\n",
        "\n",
        "intercepts = pd.read_excel('drive/My Drive/Projects/posts/data/Great_Bear/lp_drill_hole_composites_all.xlsx')\n",
        "intercepts['Record'] = intercepts.index\n",
        "\n",
        "dh = intercepts[intercepts['Drill Hole'] == 'BR-022']\n",
        "\n",
        "dh"
      ],
      "execution_count": 53,
      "outputs": [
        {
          "output_type": "execute_result",
          "data": {
            "text/html": [
              "<div>\n",
              "<style scoped>\n",
              "    .dataframe tbody tr th:only-of-type {\n",
              "        vertical-align: middle;\n",
              "    }\n",
              "\n",
              "    .dataframe tbody tr th {\n",
              "        vertical-align: top;\n",
              "    }\n",
              "\n",
              "    .dataframe thead th {\n",
              "        text-align: right;\n",
              "    }\n",
              "</style>\n",
              "<table border=\"1\" class=\"dataframe\">\n",
              "  <thead>\n",
              "    <tr style=\"text-align: right;\">\n",
              "      <th></th>\n",
              "      <th>Drill Hole</th>\n",
              "      <th>Unnamed: 1</th>\n",
              "      <th>From (m)</th>\n",
              "      <th>To (m)</th>\n",
              "      <th>Width (m)</th>\n",
              "      <th>Gold (g/t)</th>\n",
              "      <th>Record</th>\n",
              "    </tr>\n",
              "  </thead>\n",
              "  <tbody>\n",
              "    <tr>\n",
              "      <th>95</th>\n",
              "      <td>BR-022</td>\n",
              "      <td>including</td>\n",
              "      <td>110.0</td>\n",
              "      <td>116.10</td>\n",
              "      <td>6.10</td>\n",
              "      <td>2.62</td>\n",
              "      <td>95</td>\n",
              "    </tr>\n",
              "    <tr>\n",
              "      <th>96</th>\n",
              "      <td>BR-022</td>\n",
              "      <td>and including</td>\n",
              "      <td>111.4</td>\n",
              "      <td>113.10</td>\n",
              "      <td>1.70</td>\n",
              "      <td>7.92</td>\n",
              "      <td>96</td>\n",
              "    </tr>\n",
              "    <tr>\n",
              "      <th>97</th>\n",
              "      <td>BR-022</td>\n",
              "      <td>and</td>\n",
              "      <td>274.0</td>\n",
              "      <td>299.00</td>\n",
              "      <td>25.00</td>\n",
              "      <td>0.19</td>\n",
              "      <td>97</td>\n",
              "    </tr>\n",
              "    <tr>\n",
              "      <th>98</th>\n",
              "      <td>BR-022</td>\n",
              "      <td>and</td>\n",
              "      <td>432.9</td>\n",
              "      <td>439.00</td>\n",
              "      <td>6.10</td>\n",
              "      <td>4.05</td>\n",
              "      <td>98</td>\n",
              "    </tr>\n",
              "    <tr>\n",
              "      <th>99</th>\n",
              "      <td>BR-022</td>\n",
              "      <td>including</td>\n",
              "      <td>432.9</td>\n",
              "      <td>435.70</td>\n",
              "      <td>2.80</td>\n",
              "      <td>8.18</td>\n",
              "      <td>99</td>\n",
              "    </tr>\n",
              "    <tr>\n",
              "      <th>100</th>\n",
              "      <td>BR-022</td>\n",
              "      <td>and</td>\n",
              "      <td>445.0</td>\n",
              "      <td>452.00</td>\n",
              "      <td>7.00</td>\n",
              "      <td>0.41</td>\n",
              "      <td>100</td>\n",
              "    </tr>\n",
              "    <tr>\n",
              "      <th>101</th>\n",
              "      <td>BR-022</td>\n",
              "      <td>and</td>\n",
              "      <td>461.6</td>\n",
              "      <td>512.00</td>\n",
              "      <td>50.40</td>\n",
              "      <td>1.78</td>\n",
              "      <td>101</td>\n",
              "    </tr>\n",
              "    <tr>\n",
              "      <th>102</th>\n",
              "      <td>BR-022</td>\n",
              "      <td>including</td>\n",
              "      <td>471.0</td>\n",
              "      <td>512.00</td>\n",
              "      <td>41.00</td>\n",
              "      <td>2.09</td>\n",
              "      <td>102</td>\n",
              "    </tr>\n",
              "    <tr>\n",
              "      <th>103</th>\n",
              "      <td>BR-022</td>\n",
              "      <td>and including</td>\n",
              "      <td>471.0</td>\n",
              "      <td>478.00</td>\n",
              "      <td>7.00</td>\n",
              "      <td>2.37</td>\n",
              "      <td>103</td>\n",
              "    </tr>\n",
              "    <tr>\n",
              "      <th>104</th>\n",
              "      <td>BR-022</td>\n",
              "      <td>and including</td>\n",
              "      <td>490.0</td>\n",
              "      <td>491.00</td>\n",
              "      <td>1.00</td>\n",
              "      <td>8.15</td>\n",
              "      <td>104</td>\n",
              "    </tr>\n",
              "    <tr>\n",
              "      <th>105</th>\n",
              "      <td>BR-022</td>\n",
              "      <td>and including</td>\n",
              "      <td>505.2</td>\n",
              "      <td>508.75</td>\n",
              "      <td>3.55</td>\n",
              "      <td>14.90</td>\n",
              "      <td>105</td>\n",
              "    </tr>\n",
              "    <tr>\n",
              "      <th>106</th>\n",
              "      <td>BR-022</td>\n",
              "      <td>and including</td>\n",
              "      <td>506.2</td>\n",
              "      <td>506.70</td>\n",
              "      <td>0.50</td>\n",
              "      <td>100.48</td>\n",
              "      <td>106</td>\n",
              "    </tr>\n",
              "    <tr>\n",
              "      <th>107</th>\n",
              "      <td>BR-022</td>\n",
              "      <td>and</td>\n",
              "      <td>600.0</td>\n",
              "      <td>620.00</td>\n",
              "      <td>20.00</td>\n",
              "      <td>0.52</td>\n",
              "      <td>107</td>\n",
              "    </tr>\n",
              "  </tbody>\n",
              "</table>\n",
              "</div>"
            ],
            "text/plain": [
              "    Drill Hole     Unnamed: 1  From (m)  To (m)  Width (m)  Gold (g/t)  Record\n",
              "95      BR-022      including     110.0  116.10       6.10        2.62      95\n",
              "96      BR-022  and including     111.4  113.10       1.70        7.92      96\n",
              "97      BR-022            and     274.0  299.00      25.00        0.19      97\n",
              "98      BR-022            and     432.9  439.00       6.10        4.05      98\n",
              "99      BR-022      including     432.9  435.70       2.80        8.18      99\n",
              "100     BR-022            and     445.0  452.00       7.00        0.41     100\n",
              "101     BR-022            and     461.6  512.00      50.40        1.78     101\n",
              "102     BR-022      including     471.0  512.00      41.00        2.09     102\n",
              "103     BR-022  and including     471.0  478.00       7.00        2.37     103\n",
              "104     BR-022  and including     490.0  491.00       1.00        8.15     104\n",
              "105     BR-022  and including     505.2  508.75       3.55       14.90     105\n",
              "106     BR-022  and including     506.2  506.70       0.50      100.48     106\n",
              "107     BR-022            and     600.0  620.00      20.00        0.52     107"
            ]
          },
          "metadata": {
            "tags": []
          },
          "execution_count": 53
        }
      ]
    },
    {
      "cell_type": "markdown",
      "metadata": {
        "id": "9M4XBs_akRLE"
      },
      "source": [
        "This is how intercepts are typically presented: a table with a `From` field describing where they started measuring, a `To` field describing where they stopped, and a `Grade` field (called `Gold` here) that tells us how enriched that interval is with the valuable stuff. `From` and `To` are typically measured downhole from the drill collar. "
      ]
    },
    {
      "cell_type": "markdown",
      "metadata": {
        "id": "I_3h5OIjjtNJ"
      },
      "source": [
        "It's easy to establish a basic understanding of how these tables are read, and many experienced mining investors immediately recognize these grades as very high. The rest of us might need to rely on statistics, since we don't have the benefit of many years' experience with drilling results. \r\n",
        "\r\n",
        "Of course it is first necessary to determine the true assay values for each separate interval from top to bottom. Unfortunately, each row is not independent - some of the intercepts are contained in others, and the subinterval gold is INCLUDED in the parent interval calculation! So we can't just use the `Gold (g/t)` field directly, since intercepts are reported with these \"highlights\", or higher grade sections within the longer interval. \r\n",
        "\r\n",
        "Sometimes this convention is used unethically to suggest larger intervals of enrichment than truly exist. This is called \"grade smearing\" and the method of residual grade calculation applied here will detect any such attempt to disguise poor results. "
      ]
    },
    {
      "cell_type": "markdown",
      "metadata": {
        "id": "gq8P-j-yqFfm"
      },
      "source": [
        "At first it may seem like the correct interpretation of these intervals is to imagine them intervals stacked on top of one another, but this is very misleading. We can easily visualize this to see the error:\n"
      ]
    },
    {
      "cell_type": "code",
      "metadata": {
        "colab": {
          "base_uri": "https://localhost:8080/",
          "height": 163
        },
        "id": "dDwSOPichGGa",
        "outputId": "3a2c3ba3-475c-49fb-9d2c-2b097d176455"
      },
      "source": [
        "#hide_input\n",
        "\n",
        "import altair as alt\n",
        "\n",
        "y_axis = alt.Axis(\n",
        "    title='Intercept ID',\n",
        "    offset=5,\n",
        "    ticks=False,\n",
        "    domain=False\n",
        ")\n",
        "\n",
        "alt.Chart(dh).mark_bar().encode(\n",
        "    alt.X('From (m):Q',\n",
        "        scale=alt.Scale(zero=False)),\n",
        "    x2='To (m):Q',\n",
        "    y=alt.Y('Drill Hole:N', axis=y_axis),\n",
        "    color=alt.Color('Gold (g/t):Q', scale=alt.Scale(scheme=\"inferno\")),\n",
        "    tooltip=[\n",
        "        alt.Tooltip('Width (m):Q', title='Width'),\n",
        "        alt.Tooltip('Gold (g/t):Q', title='Gold Grade')\n",
        "    ]\n",
        ").properties(width=800, height=100).configure(background='#D9E9F0')"
      ],
      "execution_count": 55,
      "outputs": [
        {
          "output_type": "execute_result",
          "data": {
            "text/plain": [
              "alt.Chart(...)"
            ],
            "text/html": [
              "\n",
              "<div id=\"altair-viz-361a1f1d786945a4a4400c3f6db4e5c2\"></div>\n",
              "<script type=\"text/javascript\">\n",
              "  (function(spec, embedOpt){\n",
              "    let outputDiv = document.currentScript.previousElementSibling;\n",
              "    if (outputDiv.id !== \"altair-viz-361a1f1d786945a4a4400c3f6db4e5c2\") {\n",
              "      outputDiv = document.getElementById(\"altair-viz-361a1f1d786945a4a4400c3f6db4e5c2\");\n",
              "    }\n",
              "    const paths = {\n",
              "      \"vega\": \"https://cdn.jsdelivr.net/npm//vega@5?noext\",\n",
              "      \"vega-lib\": \"https://cdn.jsdelivr.net/npm//vega-lib?noext\",\n",
              "      \"vega-lite\": \"https://cdn.jsdelivr.net/npm//vega-lite@4.8.1?noext\",\n",
              "      \"vega-embed\": \"https://cdn.jsdelivr.net/npm//vega-embed@6?noext\",\n",
              "    };\n",
              "\n",
              "    function loadScript(lib) {\n",
              "      return new Promise(function(resolve, reject) {\n",
              "        var s = document.createElement('script');\n",
              "        s.src = paths[lib];\n",
              "        s.async = true;\n",
              "        s.onload = () => resolve(paths[lib]);\n",
              "        s.onerror = () => reject(`Error loading script: ${paths[lib]}`);\n",
              "        document.getElementsByTagName(\"head\")[0].appendChild(s);\n",
              "      });\n",
              "    }\n",
              "\n",
              "    function showError(err) {\n",
              "      outputDiv.innerHTML = `<div class=\"error\" style=\"color:red;\">${err}</div>`;\n",
              "      throw err;\n",
              "    }\n",
              "\n",
              "    function displayChart(vegaEmbed) {\n",
              "      vegaEmbed(outputDiv, spec, embedOpt)\n",
              "        .catch(err => showError(`Javascript Error: ${err.message}<br>This usually means there's a typo in your chart specification. See the javascript console for the full traceback.`));\n",
              "    }\n",
              "\n",
              "    if(typeof define === \"function\" && define.amd) {\n",
              "      requirejs.config({paths});\n",
              "      require([\"vega-embed\"], displayChart, err => showError(`Error loading script: ${err.message}`));\n",
              "    } else if (typeof vegaEmbed === \"function\") {\n",
              "      displayChart(vegaEmbed);\n",
              "    } else {\n",
              "      loadScript(\"vega\")\n",
              "        .then(() => loadScript(\"vega-lite\"))\n",
              "        .then(() => loadScript(\"vega-embed\"))\n",
              "        .catch(showError)\n",
              "        .then(() => displayChart(vegaEmbed));\n",
              "    }\n",
              "  })({\"config\": {\"view\": {\"continuousWidth\": 400, \"continuousHeight\": 300}, \"background\": \"#D9E9F0\"}, \"data\": {\"name\": \"data-70b56d0e4e560e80b77da584878b3f69\"}, \"mark\": \"bar\", \"encoding\": {\"color\": {\"type\": \"quantitative\", \"field\": \"Gold (g/t)\", \"scale\": {\"scheme\": \"inferno\"}}, \"tooltip\": [{\"type\": \"quantitative\", \"field\": \"Width (m)\", \"title\": \"Width\"}, {\"type\": \"quantitative\", \"field\": \"Gold (g/t)\", \"title\": \"Gold Grade\"}], \"x\": {\"type\": \"quantitative\", \"field\": \"From (m)\", \"scale\": {\"zero\": false}}, \"x2\": {\"field\": \"To (m)\"}, \"y\": {\"type\": \"nominal\", \"axis\": {\"domain\": false, \"offset\": 5, \"ticks\": false, \"title\": \"Intercept ID\"}, \"field\": \"Drill Hole\"}}, \"height\": 100, \"width\": 800, \"$schema\": \"https://vega.github.io/schema/vega-lite/v4.8.1.json\", \"datasets\": {\"data-70b56d0e4e560e80b77da584878b3f69\": [{\"Drill Hole\": \"BR-022\", \"Unnamed: 1\": \"including\", \"From (m)\": 110.0, \"To (m)\": 116.1, \"Width (m)\": 6.1, \"Gold (g/t)\": 2.62, \"Record\": 95}, {\"Drill Hole\": \"BR-022\", \"Unnamed: 1\": \"and including\", \"From (m)\": 111.4, \"To (m)\": 113.1, \"Width (m)\": 1.7, \"Gold (g/t)\": 7.92, \"Record\": 96}, {\"Drill Hole\": \"BR-022\", \"Unnamed: 1\": \"and\", \"From (m)\": 274.0, \"To (m)\": 299.0, \"Width (m)\": 25.0, \"Gold (g/t)\": 0.19, \"Record\": 97}, {\"Drill Hole\": \"BR-022\", \"Unnamed: 1\": \"and\", \"From (m)\": 432.9, \"To (m)\": 439.0, \"Width (m)\": 6.1, \"Gold (g/t)\": 4.05, \"Record\": 98}, {\"Drill Hole\": \"BR-022\", \"Unnamed: 1\": \"including\", \"From (m)\": 432.9, \"To (m)\": 435.7, \"Width (m)\": 2.8, \"Gold (g/t)\": 8.18, \"Record\": 99}, {\"Drill Hole\": \"BR-022\", \"Unnamed: 1\": \"and\", \"From (m)\": 445.0, \"To (m)\": 452.0, \"Width (m)\": 7.0, \"Gold (g/t)\": 0.41, \"Record\": 100}, {\"Drill Hole\": \"BR-022\", \"Unnamed: 1\": \"and\", \"From (m)\": 461.6, \"To (m)\": 512.0, \"Width (m)\": 50.4, \"Gold (g/t)\": 1.78, \"Record\": 101}, {\"Drill Hole\": \"BR-022\", \"Unnamed: 1\": \"including\", \"From (m)\": 471.0, \"To (m)\": 512.0, \"Width (m)\": 41.0, \"Gold (g/t)\": 2.09, \"Record\": 102}, {\"Drill Hole\": \"BR-022\", \"Unnamed: 1\": \"and including\", \"From (m)\": 471.0, \"To (m)\": 478.0, \"Width (m)\": 7.0, \"Gold (g/t)\": 2.37, \"Record\": 103}, {\"Drill Hole\": \"BR-022\", \"Unnamed: 1\": \"and including\", \"From (m)\": 490.0, \"To (m)\": 491.0, \"Width (m)\": 1.0, \"Gold (g/t)\": 8.15, \"Record\": 104}, {\"Drill Hole\": \"BR-022\", \"Unnamed: 1\": \"and including\", \"From (m)\": 505.2, \"To (m)\": 508.75, \"Width (m)\": 3.55, \"Gold (g/t)\": 14.9, \"Record\": 105}, {\"Drill Hole\": \"BR-022\", \"Unnamed: 1\": \"and including\", \"From (m)\": 506.2, \"To (m)\": 506.7, \"Width (m)\": 0.5, \"Gold (g/t)\": 100.48, \"Record\": 106}, {\"Drill Hole\": \"BR-022\", \"Unnamed: 1\": \"and\", \"From (m)\": 600.0, \"To (m)\": 620.0, \"Width (m)\": 20.0, \"Gold (g/t)\": 0.52, \"Record\": 107}]}}, {\"mode\": \"vega-lite\"});\n",
              "</script>"
            ]
          },
          "metadata": {
            "tags": []
          },
          "execution_count": 55
        }
      ]
    },
    {
      "cell_type": "markdown",
      "metadata": {
        "id": "pNmqkY_HoY8m"
      },
      "source": [
        "\r\n",
        "- We only have the total grade, INCLUDING the high-grade, child subintervals. Considering it in that way ignores the fact that the high-grade intervals are included in the wider, lower-grade intervals, inflating the grade measured over that length. This has enormous implications for the *continuity* of the mineralization, which determines the feasibility of the project. \r\n",
        "\r\n",
        "In order to eliminate this effect we'll need to do some math with the intercepts. This visualization attempts to show this hierarchical, branching structure:"
      ]
    },
    {
      "cell_type": "code",
      "metadata": {
        "colab": {
          "base_uri": "https://localhost:8080/",
          "height": 463
        },
        "id": "3q9YMV7UdDCl",
        "outputId": "38571306-f6c7-42a1-dca3-fb381e719c59"
      },
      "source": [
        "#hide_input\n",
        "\n",
        "import altair as alt\n",
        "\n",
        "y_axis = alt.Axis(\n",
        "    title='Interval ID',\n",
        "    offset=5,\n",
        "    ticks=False,\n",
        "    domain=False\n",
        ")\n",
        "\n",
        "alt.Chart(dh).mark_bar().encode(\n",
        "    alt.X('From (m):Q',\n",
        "        scale=alt.Scale(zero=False)),\n",
        "    x2='To (m):Q',\n",
        "    y=alt.Y('Record:N', axis=y_axis),\n",
        "    color=alt.Color('Gold (g/t):Q', scale=alt.Scale(scheme=\"inferno\")),\n",
        "    tooltip=[\n",
        "        alt.Tooltip('Width (m):Q', title='Width'),\n",
        "        alt.Tooltip('Gold (g/t):Q', title='Gold Grade')\n",
        "    ]\n",
        ").properties(width=800, height=400).configure(background='#D9E9F0')"
      ],
      "execution_count": 56,
      "outputs": [
        {
          "output_type": "execute_result",
          "data": {
            "text/plain": [
              "alt.Chart(...)"
            ],
            "text/html": [
              "\n",
              "<div id=\"altair-viz-a6414c22b76d4196b3709511ad6319be\"></div>\n",
              "<script type=\"text/javascript\">\n",
              "  (function(spec, embedOpt){\n",
              "    let outputDiv = document.currentScript.previousElementSibling;\n",
              "    if (outputDiv.id !== \"altair-viz-a6414c22b76d4196b3709511ad6319be\") {\n",
              "      outputDiv = document.getElementById(\"altair-viz-a6414c22b76d4196b3709511ad6319be\");\n",
              "    }\n",
              "    const paths = {\n",
              "      \"vega\": \"https://cdn.jsdelivr.net/npm//vega@5?noext\",\n",
              "      \"vega-lib\": \"https://cdn.jsdelivr.net/npm//vega-lib?noext\",\n",
              "      \"vega-lite\": \"https://cdn.jsdelivr.net/npm//vega-lite@4.8.1?noext\",\n",
              "      \"vega-embed\": \"https://cdn.jsdelivr.net/npm//vega-embed@6?noext\",\n",
              "    };\n",
              "\n",
              "    function loadScript(lib) {\n",
              "      return new Promise(function(resolve, reject) {\n",
              "        var s = document.createElement('script');\n",
              "        s.src = paths[lib];\n",
              "        s.async = true;\n",
              "        s.onload = () => resolve(paths[lib]);\n",
              "        s.onerror = () => reject(`Error loading script: ${paths[lib]}`);\n",
              "        document.getElementsByTagName(\"head\")[0].appendChild(s);\n",
              "      });\n",
              "    }\n",
              "\n",
              "    function showError(err) {\n",
              "      outputDiv.innerHTML = `<div class=\"error\" style=\"color:red;\">${err}</div>`;\n",
              "      throw err;\n",
              "    }\n",
              "\n",
              "    function displayChart(vegaEmbed) {\n",
              "      vegaEmbed(outputDiv, spec, embedOpt)\n",
              "        .catch(err => showError(`Javascript Error: ${err.message}<br>This usually means there's a typo in your chart specification. See the javascript console for the full traceback.`));\n",
              "    }\n",
              "\n",
              "    if(typeof define === \"function\" && define.amd) {\n",
              "      requirejs.config({paths});\n",
              "      require([\"vega-embed\"], displayChart, err => showError(`Error loading script: ${err.message}`));\n",
              "    } else if (typeof vegaEmbed === \"function\") {\n",
              "      displayChart(vegaEmbed);\n",
              "    } else {\n",
              "      loadScript(\"vega\")\n",
              "        .then(() => loadScript(\"vega-lite\"))\n",
              "        .then(() => loadScript(\"vega-embed\"))\n",
              "        .catch(showError)\n",
              "        .then(() => displayChart(vegaEmbed));\n",
              "    }\n",
              "  })({\"config\": {\"view\": {\"continuousWidth\": 400, \"continuousHeight\": 300}, \"background\": \"#D9E9F0\"}, \"data\": {\"name\": \"data-70b56d0e4e560e80b77da584878b3f69\"}, \"mark\": \"bar\", \"encoding\": {\"color\": {\"type\": \"quantitative\", \"field\": \"Gold (g/t)\", \"scale\": {\"scheme\": \"inferno\"}}, \"tooltip\": [{\"type\": \"quantitative\", \"field\": \"Width (m)\", \"title\": \"Width\"}, {\"type\": \"quantitative\", \"field\": \"Gold (g/t)\", \"title\": \"Gold Grade\"}], \"x\": {\"type\": \"quantitative\", \"field\": \"From (m)\", \"scale\": {\"zero\": false}}, \"x2\": {\"field\": \"To (m)\"}, \"y\": {\"type\": \"nominal\", \"axis\": {\"domain\": false, \"offset\": 5, \"ticks\": false, \"title\": \"Interval ID\"}, \"field\": \"Record\"}}, \"height\": 400, \"width\": 800, \"$schema\": \"https://vega.github.io/schema/vega-lite/v4.8.1.json\", \"datasets\": {\"data-70b56d0e4e560e80b77da584878b3f69\": [{\"Drill Hole\": \"BR-022\", \"Unnamed: 1\": \"including\", \"From (m)\": 110.0, \"To (m)\": 116.1, \"Width (m)\": 6.1, \"Gold (g/t)\": 2.62, \"Record\": 95}, {\"Drill Hole\": \"BR-022\", \"Unnamed: 1\": \"and including\", \"From (m)\": 111.4, \"To (m)\": 113.1, \"Width (m)\": 1.7, \"Gold (g/t)\": 7.92, \"Record\": 96}, {\"Drill Hole\": \"BR-022\", \"Unnamed: 1\": \"and\", \"From (m)\": 274.0, \"To (m)\": 299.0, \"Width (m)\": 25.0, \"Gold (g/t)\": 0.19, \"Record\": 97}, {\"Drill Hole\": \"BR-022\", \"Unnamed: 1\": \"and\", \"From (m)\": 432.9, \"To (m)\": 439.0, \"Width (m)\": 6.1, \"Gold (g/t)\": 4.05, \"Record\": 98}, {\"Drill Hole\": \"BR-022\", \"Unnamed: 1\": \"including\", \"From (m)\": 432.9, \"To (m)\": 435.7, \"Width (m)\": 2.8, \"Gold (g/t)\": 8.18, \"Record\": 99}, {\"Drill Hole\": \"BR-022\", \"Unnamed: 1\": \"and\", \"From (m)\": 445.0, \"To (m)\": 452.0, \"Width (m)\": 7.0, \"Gold (g/t)\": 0.41, \"Record\": 100}, {\"Drill Hole\": \"BR-022\", \"Unnamed: 1\": \"and\", \"From (m)\": 461.6, \"To (m)\": 512.0, \"Width (m)\": 50.4, \"Gold (g/t)\": 1.78, \"Record\": 101}, {\"Drill Hole\": \"BR-022\", \"Unnamed: 1\": \"including\", \"From (m)\": 471.0, \"To (m)\": 512.0, \"Width (m)\": 41.0, \"Gold (g/t)\": 2.09, \"Record\": 102}, {\"Drill Hole\": \"BR-022\", \"Unnamed: 1\": \"and including\", \"From (m)\": 471.0, \"To (m)\": 478.0, \"Width (m)\": 7.0, \"Gold (g/t)\": 2.37, \"Record\": 103}, {\"Drill Hole\": \"BR-022\", \"Unnamed: 1\": \"and including\", \"From (m)\": 490.0, \"To (m)\": 491.0, \"Width (m)\": 1.0, \"Gold (g/t)\": 8.15, \"Record\": 104}, {\"Drill Hole\": \"BR-022\", \"Unnamed: 1\": \"and including\", \"From (m)\": 505.2, \"To (m)\": 508.75, \"Width (m)\": 3.55, \"Gold (g/t)\": 14.9, \"Record\": 105}, {\"Drill Hole\": \"BR-022\", \"Unnamed: 1\": \"and including\", \"From (m)\": 506.2, \"To (m)\": 506.7, \"Width (m)\": 0.5, \"Gold (g/t)\": 100.48, \"Record\": 106}, {\"Drill Hole\": \"BR-022\", \"Unnamed: 1\": \"and\", \"From (m)\": 600.0, \"To (m)\": 620.0, \"Width (m)\": 20.0, \"Gold (g/t)\": 0.52, \"Record\": 107}]}}, {\"mode\": \"vega-lite\"});\n",
              "</script>"
            ]
          },
          "metadata": {
            "tags": []
          },
          "execution_count": 56
        }
      ]
    },
    {
      "cell_type": "markdown",
      "metadata": {
        "id": "W_fS--jIS__x"
      },
      "source": [
        "\r\n",
        "\r\n",
        "Plotted side by side, the intercepts show the parent-child overlapping relationship and capture the complexity of the problem. \r\n",
        "\r\n",
        "Parent intervals can have no child intervals, a single child interval, or several child intervals. Child intervals themselves can have no child intervals, a single child interval, or several child intervals. Clearly there is a whole class of related problems we could solve with a general solution to this problem.\r\n"
      ]
    },
    {
      "cell_type": "markdown",
      "metadata": {
        "id": "fsDicO3WsB1a"
      },
      "source": [
        "So far we have treated the `From` and `To` fields in isolation, and we can use a cool feature of Pandas to convert them to intervals:"
      ]
    },
    {
      "cell_type": "code",
      "metadata": {
        "colab": {
          "base_uri": "https://localhost:8080/"
        },
        "id": "rHV0Cr7vpVFB",
        "outputId": "b57b177f-a93d-4ad3-d1d7-a3876220ee9c"
      },
      "source": [
        "dh['Interval'] = dh.apply(lambda x: pd.Interval(x['From (m)'], x['To (m)']), axis=1)\r\n",
        "\r\n",
        "dh"
      ],
      "execution_count": 60,
      "outputs": [
        {
          "output_type": "stream",
          "text": [
            "/usr/local/lib/python3.6/dist-packages/ipykernel_launcher.py:1: SettingWithCopyWarning: \n",
            "A value is trying to be set on a copy of a slice from a DataFrame.\n",
            "Try using .loc[row_indexer,col_indexer] = value instead\n",
            "\n",
            "See the caveats in the documentation: https://pandas.pydata.org/pandas-docs/stable/user_guide/indexing.html#returning-a-view-versus-a-copy\n",
            "  \"\"\"Entry point for launching an IPython kernel.\n"
          ],
          "name": "stderr"
        }
      ]
    },
    {
      "cell_type": "markdown",
      "metadata": {
        "id": "UnumMxdzt9pn"
      },
      "source": [
        "So the motivation here was to create `Interval` objects to use them with the `pd.Overlaps` function and then model the overlap relationship among the different intervals:\n"
      ]
    },
    {
      "cell_type": "code",
      "metadata": {
        "id": "KjvIkg3Vt6rM"
      },
      "source": [
        "import itertools\n",
        "import numpy as np\n",
        "\n",
        "cross_interval = itertools.product(dh.Interval,dh.Interval)\n",
        "\n",
        "\n",
        "\n",
        "overlap_matrix = np.array([interval[0].overlaps(interval[1]) for interval in cross_interval])\n",
        "\n",
        "intersect_matrix = np.array([interval[0].intersect(interval[1]) for interval in cross_interval])\n",
        "\n",
        "ns = int(np.sqrt(overlap_matrix.shape[0]))\n"
      ],
      "execution_count": 131,
      "outputs": []
    },
    {
      "cell_type": "code",
      "metadata": {
        "colab": {
          "base_uri": "https://localhost:8080/",
          "height": 611
        },
        "id": "dC514BJd2oO2",
        "outputId": "4fa87ebc-f660-4a76-fb18-8d67ce648622"
      },
      "source": [
        "#hide_input\n",
        "\n",
        "import matplotlib.pyplot as plt\n",
        "\n",
        "plt.rcParams.update({'font.size': 16})\n",
        "\n",
        "fig, ax = plt.subplots(1,1, figsize=(10,11))\n",
        "\n",
        "img = ax.imshow(overlap_matrix.reshape(ns,ns), cmap='hot', interpolation='nearest')\n",
        "\n",
        "x_label_list = dh.Record.values\n",
        "\n",
        "ax.set_xticks(np.arange(0, ns, 1))\n",
        "ax.set_yticks(np.arange(0, ns, 1))\n",
        "\n",
        "text = ax.set_xticklabels(x_label_list)\n",
        "text = ax.set_yticklabels(x_label_list)\n"
      ],
      "execution_count": 136,
      "outputs": [
        {
          "output_type": "display_data",
          "data": {
            "image/png": "[encoded data removed]",
            "text/plain": [
              "<Figure size 720x792 with 1 Axes>"
            ]
          },
          "metadata": {
            "tags": [],
            "needs_background": "light"
          }
        }
      ]
    },
    {
      "cell_type": "markdown",
      "metadata": {
        "id": "DMZwteBL5dPA"
      },
      "source": [
        "Here we see the overlaps: if a pixel is white, it means that the interval on the x-axis and the interval on the y-axis overlap. \n",
        "\n",
        "\n",
        "Overlap is symmetric: so each 'child' overlaps with its parent and vice versa. It should become clear that we are actually interested in the \"contains\" relationship, which is not symmetric and will help us identify parent intervals and child intervals and start reducing the intervals. \n",
        "\n",
        "Fortunately this is also supported in Python:"
      ]
    },
    {
      "cell_type": "code",
      "metadata": {
        "id": "a8tIqsM67DdX",
        "colab": {
          "base_uri": "https://localhost:8080/"
        },
        "outputId": "d596911f-ad0a-431d-a908-ea88488cb147"
      },
      "source": [
        "#hide\r\n",
        "\r\n",
        "from sympy import Interval\r\n",
        "\r\n",
        "dh['Interval_obj'] = dh.apply(lambda x: Interval(x['From (m)'], x['To (m)']), axis=1)\r\n",
        "\r\n",
        "\r\n",
        "cross_interval = itertools.product(dh.Interval_obj,dh.Interval_obj)\r\n",
        "contain_matrix = np.array([interval[0].is_proper_superset(interval[1]) for interval in cross_interval])\r\n"
      ],
      "execution_count": 137,
      "outputs": [
        {
          "output_type": "stream",
          "text": [
            "/usr/local/lib/python3.6/dist-packages/ipykernel_launcher.py:5: SettingWithCopyWarning:\n",
            "\n",
            "\n",
            "A value is trying to be set on a copy of a slice from a DataFrame.\n",
            "Try using .loc[row_indexer,col_indexer] = value instead\n",
            "\n",
            "See the caveats in the documentation: https://pandas.pydata.org/pandas-docs/stable/user_guide/indexing.html#returning-a-view-versus-a-copy\n",
            "\n"
          ],
          "name": "stderr"
        }
      ]
    },
    {
      "cell_type": "code",
      "metadata": {
        "colab": {
          "base_uri": "https://localhost:8080/",
          "height": 611
        },
        "id": "p8gMm3dp_NAI",
        "outputId": "ea406ea5-d30b-428d-ca67-62c8525f7144"
      },
      "source": [
        "#hide_input\n",
        "\n",
        "import matplotlib.pyplot as plt\n",
        "\n",
        "plt.rcParams.update({'font.size': 16})\n",
        "\n",
        "fig, ax = plt.subplots(1,1, figsize=(10,11))\n",
        "\n",
        "img = ax.imshow(contain_matrix.reshape(ns,ns), cmap='hot', interpolation='nearest')\n",
        "\n",
        "x_label_list = dh.Record.values\n",
        "\n",
        "ax.set_xticks(np.arange(0, ns, 1))\n",
        "ax.set_yticks(np.arange(0, ns, 1))\n",
        "\n",
        "text = ax.set_xticklabels(x_label_list)\n",
        "text = ax.set_yticklabels(x_label_list)"
      ],
      "execution_count": 138,
      "outputs": [
        {
          "output_type": "display_data",
          "data": {
            "image/png": "[encoded data removed]",
            "text/plain": [
              "<Figure size 720x792 with 1 Axes>"
            ]
          },
          "metadata": {
            "tags": [],
            "needs_background": "light"
          }
        }
      ]
    },
    {
      "cell_type": "markdown",
      "metadata": {
        "id": "HBKVJAdD_pB9"
      },
      "source": [
        "Now we can pull out a tree "
      ]
    },
    {
      "cell_type": "markdown",
      "metadata": {
        "id": "OBbbgX7_no-a"
      },
      "source": [
        "Of the machine-intelligible formats, a **tree data structure** is clearly the most suited to representing the intervals. "
      ]
    },
    {
      "cell_type": "code",
      "metadata": {
        "id": "IK1pc360ABld"
      },
      "source": [
        "#hide\n",
        "from anytree import Node, RenderTree, AsciiStyle, PreOrderIter\n",
        "\n",
        "interval_pairs = list(itertools.product(dh.Record.values, dh.Record.values))\n",
        "parent_child = list(contain_matrix)\n",
        "\n",
        "root = Node(\"DH\")\n",
        "\n",
        "all_str_to_node = {str(dh['Record'].values[i]) : Node(str(dh['Record'].values[i]), parent = root) for i, column in enumerate(contain_matrix.reshape(ns,ns).T)}\n",
        "\n",
        "#[all_str_to_node[str(dh_101['Record'].values[i])].parent := root for i, column in enumerate(contain_matrix.reshape(14,14).T) if ~np.any(column)]\n",
        "\n",
        "contain_matrix_sq = contain_matrix.reshape(ns,ns)\n",
        "\n",
        "#for i, col in enumerate(contain_matrix_sq.T):\n",
        "#  print(col)\n",
        "#  if ~np.any(col):\n",
        "#    #all_str_to_node[str(dh_101['Record'].values[i])].parent = root\n",
        "#    print(\"Root: {}\".format(dh_101['Record'].values[i]))\n",
        "#  else:\n",
        "#    print(\"Parent: {}\".format(dh_101['Record'].values[::-1][np.argmax(col[::-1])]))\n",
        "#    print(\"Child: {}\".format(dh_101['Record'].values[i]))\n",
        "\n"
      ],
      "execution_count": 74,
      "outputs": []
    },
    {
      "cell_type": "code",
      "metadata": {
        "id": "HbVrXSeecY34",
        "colab": {
          "base_uri": "https://localhost:8080/"
        },
        "outputId": "ac8a54d9-c0bc-431c-f437-02ad111b4299"
      },
      "source": [
        "for i, col in enumerate(contain_matrix_sq.T):\n",
        "\n",
        "  if ~np.any(col):\n",
        "\n",
        "    all_str_to_node[str(dh['Record'].values[i])].parent = root\n",
        "\n",
        "  else:\n",
        "\n",
        "    all_str_to_node[str(dh['Record'].values[i])].parent = all_str_to_node[str(dh['Record'].values[::-1][np.argmax(col[::-1])])]\n",
        "\n",
        "print(RenderTree(root, style=AsciiStyle()).by_attr())"
      ],
      "execution_count": 75,
      "outputs": [
        {
          "output_type": "stream",
          "text": [
            "DH\n",
            "|-- 95\n",
            "|   +-- 96\n",
            "|-- 97\n",
            "|-- 98\n",
            "|   +-- 99\n",
            "|-- 100\n",
            "|-- 101\n",
            "|   +-- 102\n",
            "|       |-- 103\n",
            "|       |-- 104\n",
            "|       +-- 105\n",
            "|           +-- 106\n",
            "+-- 107\n"
          ],
          "name": "stdout"
        }
      ]
    },
    {
      "cell_type": "markdown",
      "metadata": {
        "id": "PuMeV3Xw78gB"
      },
      "source": [
        "Now we are really getting somewhere- we can actually start looking at the global picture (since we now know which intervals are not \"child\" intervals)"
      ]
    },
    {
      "cell_type": "markdown",
      "metadata": {
        "id": "bl94M7rP8mRv"
      },
      "source": [
        "These are the direct children. We can go ahead and plot them and have a totally accurate picture of the log: "
      ]
    },
    {
      "cell_type": "code",
      "metadata": {
        "colab": {
          "base_uri": "https://localhost:8080/",
          "height": 163
        },
        "id": "ii9JJyJ-8lu4",
        "outputId": "9da1ab6e-9921-4246-9f4d-a4e1bb371e28"
      },
      "source": [
        "#hide_input\n",
        "\n",
        "dh_prime = dh[dh.Record.isin((child.name for child in root.children))]\n",
        "\n",
        "\n",
        "y_axis = alt.Axis(\n",
        "    title='Intercept ID',\n",
        "    offset=5,\n",
        "    ticks=False,\n",
        "    domain=False\n",
        ")\n",
        "\n",
        "\n",
        "reqd_cols = ['From (m)', 'To (m)', 'Gold (g/t)', 'Width (m)']\n",
        "\n",
        "\n",
        "alt.Chart(dh_prime[reqd_cols]).mark_bar().encode(\n",
        "    alt.X('From (m):Q',\n",
        "        scale=alt.Scale(zero=False)),\n",
        "    x2='To (m):Q',\n",
        "    y=alt.Y('Drill Hole:N', axis=y_axis),\n",
        "    color=alt.Color('Gold (g/t):Q', scale=alt.Scale(scheme=\"inferno\")),\n",
        "    tooltip=[\n",
        "        alt.Tooltip('Width (m):Q', title='Width'),\n",
        "        alt.Tooltip('Gold (g/t):Q', title='Gold Grade')\n",
        "    ]\n",
        ").properties(width=800, height=100).configure(background='#D9E9F0')"
      ],
      "execution_count": 73,
      "outputs": [
        {
          "output_type": "execute_result",
          "data": {
            "text/plain": [
              "alt.Chart(...)"
            ],
            "text/html": [
              "\n",
              "<div id=\"altair-viz-7d6568aa89f14912ba55c20d78a5e12f\"></div>\n",
              "<script type=\"text/javascript\">\n",
              "  (function(spec, embedOpt){\n",
              "    let outputDiv = document.currentScript.previousElementSibling;\n",
              "    if (outputDiv.id !== \"altair-viz-7d6568aa89f14912ba55c20d78a5e12f\") {\n",
              "      outputDiv = document.getElementById(\"altair-viz-7d6568aa89f14912ba55c20d78a5e12f\");\n",
              "    }\n",
              "    const paths = {\n",
              "      \"vega\": \"https://cdn.jsdelivr.net/npm//vega@5?noext\",\n",
              "      \"vega-lib\": \"https://cdn.jsdelivr.net/npm//vega-lib?noext\",\n",
              "      \"vega-lite\": \"https://cdn.jsdelivr.net/npm//vega-lite@4.8.1?noext\",\n",
              "      \"vega-embed\": \"https://cdn.jsdelivr.net/npm//vega-embed@6?noext\",\n",
              "    };\n",
              "\n",
              "    function loadScript(lib) {\n",
              "      return new Promise(function(resolve, reject) {\n",
              "        var s = document.createElement('script');\n",
              "        s.src = paths[lib];\n",
              "        s.async = true;\n",
              "        s.onload = () => resolve(paths[lib]);\n",
              "        s.onerror = () => reject(`Error loading script: ${paths[lib]}`);\n",
              "        document.getElementsByTagName(\"head\")[0].appendChild(s);\n",
              "      });\n",
              "    }\n",
              "\n",
              "    function showError(err) {\n",
              "      outputDiv.innerHTML = `<div class=\"error\" style=\"color:red;\">${err}</div>`;\n",
              "      throw err;\n",
              "    }\n",
              "\n",
              "    function displayChart(vegaEmbed) {\n",
              "      vegaEmbed(outputDiv, spec, embedOpt)\n",
              "        .catch(err => showError(`Javascript Error: ${err.message}<br>This usually means there's a typo in your chart specification. See the javascript console for the full traceback.`));\n",
              "    }\n",
              "\n",
              "    if(typeof define === \"function\" && define.amd) {\n",
              "      requirejs.config({paths});\n",
              "      require([\"vega-embed\"], displayChart, err => showError(`Error loading script: ${err.message}`));\n",
              "    } else if (typeof vegaEmbed === \"function\") {\n",
              "      displayChart(vegaEmbed);\n",
              "    } else {\n",
              "      loadScript(\"vega\")\n",
              "        .then(() => loadScript(\"vega-lite\"))\n",
              "        .then(() => loadScript(\"vega-embed\"))\n",
              "        .catch(showError)\n",
              "        .then(() => displayChart(vegaEmbed));\n",
              "    }\n",
              "  })({\"config\": {\"view\": {\"continuousWidth\": 400, \"continuousHeight\": 300}, \"background\": \"#D9E9F0\"}, \"data\": {\"name\": \"data-34add9d3459026fe9b045663cebd3770\"}, \"mark\": \"bar\", \"encoding\": {\"color\": {\"type\": \"quantitative\", \"field\": \"Gold (g/t)\", \"scale\": {\"scheme\": \"inferno\"}}, \"tooltip\": [{\"type\": \"quantitative\", \"field\": \"Width (m)\", \"title\": \"Width\"}, {\"type\": \"quantitative\", \"field\": \"Gold (g/t)\", \"title\": \"Gold Grade\"}], \"x\": {\"type\": \"quantitative\", \"field\": \"From (m)\", \"scale\": {\"zero\": false}}, \"x2\": {\"field\": \"To (m)\"}, \"y\": {\"type\": \"nominal\", \"axis\": {\"domain\": false, \"offset\": 5, \"ticks\": false, \"title\": \"Intercept ID\"}, \"field\": \"Drill Hole\"}}, \"height\": 100, \"width\": 800, \"$schema\": \"https://vega.github.io/schema/vega-lite/v4.8.1.json\", \"datasets\": {\"data-34add9d3459026fe9b045663cebd3770\": [{\"From (m)\": 110.0, \"To (m)\": 116.1, \"Gold (g/t)\": 2.62, \"Width (m)\": 6.1}, {\"From (m)\": 274.0, \"To (m)\": 299.0, \"Gold (g/t)\": 0.19, \"Width (m)\": 25.0}, {\"From (m)\": 432.9, \"To (m)\": 439.0, \"Gold (g/t)\": 4.05, \"Width (m)\": 6.1}, {\"From (m)\": 445.0, \"To (m)\": 452.0, \"Gold (g/t)\": 0.41, \"Width (m)\": 7.0}, {\"From (m)\": 461.6, \"To (m)\": 512.0, \"Gold (g/t)\": 1.78, \"Width (m)\": 50.4}, {\"From (m)\": 600.0, \"To (m)\": 620.0, \"Gold (g/t)\": 0.52, \"Width (m)\": 20.0}]}}, {\"mode\": \"vega-lite\"});\n",
              "</script>"
            ]
          },
          "metadata": {
            "tags": []
          },
          "execution_count": 73
        }
      ]
    },
    {
      "cell_type": "code",
      "metadata": {
        "colab": {
          "base_uri": "https://localhost:8080/"
        },
        "id": "dBTeebh9g64e",
        "outputId": "7e29200e-51b4-4b09-c5bd-babf8203f67c"
      },
      "source": [
        "dh_prime.dtypes"
      ],
      "execution_count": 115,
      "outputs": [
        {
          "output_type": "execute_result",
          "data": {
            "text/plain": [
              "Drill Hole                 object\n",
              "Unnamed: 1                 object\n",
              "From (m)                  float64\n",
              "To (m)                    float64\n",
              "Width (m)                 float64\n",
              "Gold (g/t)                float64\n",
              "Record                      int64\n",
              "Interval        interval[float64]\n",
              "Interval_obj               object\n",
              "dtype: object"
            ]
          },
          "metadata": {
            "tags": []
          },
          "execution_count": 115
        }
      ]
    },
    {
      "cell_type": "markdown",
      "metadata": {
        "id": "CYrMAUG--mvs"
      },
      "source": [
        "While that is correct, it is not complete: we have left out all of the additional information provided by the smaller sub-intervals! \n",
        "\n",
        "In order to incorporate that we will have to remove them from the parent intervals and determine the residual grade (whatever is left once we pull out the gold contained in the subinterval) "
      ]
    },
    {
      "cell_type": "code",
      "metadata": {
        "id": "hXVQEQHZBtya",
        "colab": {
          "base_uri": "https://localhost:8080/"
        },
        "outputId": "bf487264-f191-4425-aad5-998472af9322"
      },
      "source": [
        "((119) * (3.78) - (3) * (131.5)) / (119 - 3)"
      ],
      "execution_count": 35,
      "outputs": [
        {
          "output_type": "execute_result",
          "data": {
            "text/plain": [
              "0.47689655172413786"
            ]
          },
          "metadata": {
            "tags": []
          },
          "execution_count": 35
        }
      ]
    },
    {
      "cell_type": "markdown",
      "metadata": {
        "id": "lFMut0LuABlr"
      },
      "source": [
        "As an example of this kind of calculation, a simpler set of intervals from a  Freegold Ventures press release: \n",
        "\n",
        "> *Freegold Intercepts 3.78 g/t Au Over 119 Metres Including 131.5 g/t Over 3 Metres Within 573 Metres of 1.21 g/t Au at Golden Summit*\n",
        "\n",
        "We know the gold grade over the whole 119 meters, and the gold grade over 3 meters, but what is the gold grade over the $119 - 3 = 116 m$?\n",
        "\n",
        "The solution is a simple weighted average calculation, like compositing over a drillhole: \n",
        "\n",
        "$\\frac{119 \\times 3.78-3 \\times 131.5}{119-3} = 0.477 g/t$\n",
        "\n",
        "\n",
        "Credit to https://twitter.com/BrentCo77759016/status/1326183861722599424 and \n",
        "\n",
        "\n",
        "So now we have to do this, but with every single subinterval until we get the residual grade at every point along the drillhole\n",
        "\n",
        "Fortunately, the tree data structure we selected has specialized methods that make a traversal very simple. \n"
      ]
    },
    {
      "cell_type": "code",
      "metadata": {
        "colab": {
          "base_uri": "https://localhost:8080/"
        },
        "id": "Bk0p1vLZBxV2",
        "outputId": "e6451ad2-fcd2-4600-90ae-7d76ddf71534"
      },
      "source": [
        "levelord_nodes = [(node.name, node.children) for node in LevelOrderIter(root)]\n",
        "\n",
        "levelord_nodes"
      ],
      "execution_count": 76,
      "outputs": [
        {
          "output_type": "execute_result",
          "data": {
            "text/plain": [
              "[('DH',\n",
              "  (Node('/DH/95'),\n",
              "   Node('/DH/97'),\n",
              "   Node('/DH/98'),\n",
              "   Node('/DH/100'),\n",
              "   Node('/DH/101'),\n",
              "   Node('/DH/107'))),\n",
              " ('95', (Node('/DH/95/96'),)),\n",
              " ('97', ()),\n",
              " ('98', (Node('/DH/98/99'),)),\n",
              " ('100', ()),\n",
              " ('101', (Node('/DH/101/102'),)),\n",
              " ('107', ()),\n",
              " ('96', ()),\n",
              " ('99', ()),\n",
              " ('102',\n",
              "  (Node('/DH/101/102/103'), Node('/DH/101/102/104'), Node('/DH/101/102/105'))),\n",
              " ('103', ()),\n",
              " ('104', ()),\n",
              " ('105', (Node('/DH/101/102/105/106'),)),\n",
              " ('106', ())]"
            ]
          },
          "metadata": {
            "tags": []
          },
          "execution_count": 76
        }
      ]
    },
    {
      "cell_type": "code",
      "metadata": {
        "id": "xT1hdgHtg1I0"
      },
      "source": [
        "nn_np_loi = [(node.name, node.parent) for node in LevelOrderIter(root)]"
      ],
      "execution_count": 77,
      "outputs": []
    },
    {
      "cell_type": "code",
      "metadata": {
        "colab": {
          "base_uri": "https://localhost:8080/"
        },
        "id": "fBdarZ6ur6kM",
        "outputId": "bec714ce-06d5-4515-f36c-74e40dd44044"
      },
      "source": [
        "all_str_to_node"
      ],
      "execution_count": 78,
      "outputs": [
        {
          "output_type": "execute_result",
          "data": {
            "text/plain": [
              "{'100': Node('/DH/100'),\n",
              " '101': Node('/DH/101'),\n",
              " '102': Node('/DH/101/102'),\n",
              " '103': Node('/DH/101/102/103'),\n",
              " '104': Node('/DH/101/102/104'),\n",
              " '105': Node('/DH/101/102/105'),\n",
              " '106': Node('/DH/101/102/105/106'),\n",
              " '107': Node('/DH/107'),\n",
              " '95': Node('/DH/95'),\n",
              " '96': Node('/DH/95/96'),\n",
              " '97': Node('/DH/97'),\n",
              " '98': Node('/DH/98'),\n",
              " '99': Node('/DH/98/99')}"
            ]
          },
          "metadata": {
            "tags": []
          },
          "execution_count": 78
        }
      ]
    },
    {
      "cell_type": "code",
      "metadata": {
        "colab": {
          "base_uri": "https://localhost:8080/"
        },
        "id": "3i_vAPJ2pSEB",
        "outputId": "a6f0ac35-2b82-4b7c-d370-1ebb56b25f2c"
      },
      "source": [
        "for node, parent in nn_np_loi[::-1][:-1]:\r\n",
        "  print(node)\r\n",
        "  for child in all_str_to_node[node].children:\r\n",
        "    print(child)"
      ],
      "execution_count": 79,
      "outputs": [
        {
          "output_type": "stream",
          "text": [
            "106\n",
            "105\n",
            "Node('/DH/101/102/105/106')\n",
            "104\n",
            "103\n",
            "102\n",
            "Node('/DH/101/102/103')\n",
            "Node('/DH/101/102/104')\n",
            "Node('/DH/101/102/105')\n",
            "99\n",
            "96\n",
            "107\n",
            "101\n",
            "Node('/DH/101/102')\n",
            "100\n",
            "98\n",
            "Node('/DH/98/99')\n",
            "97\n",
            "95\n",
            "Node('/DH/95/96')\n"
          ],
          "name": "stdout"
        }
      ]
    },
    {
      "cell_type": "code",
      "metadata": {
        "colab": {
          "base_uri": "https://localhost:8080/",
          "height": 452
        },
        "id": "5Hyl070qouKe",
        "outputId": "ef119af5-8c0b-43b5-bc5e-125cd122f4bc"
      },
      "source": [
        "dh"
      ],
      "execution_count": 80,
      "outputs": [
        {
          "output_type": "execute_result",
          "data": {
            "text/html": [
              "<div>\n",
              "<style scoped>\n",
              "    .dataframe tbody tr th:only-of-type {\n",
              "        vertical-align: middle;\n",
              "    }\n",
              "\n",
              "    .dataframe tbody tr th {\n",
              "        vertical-align: top;\n",
              "    }\n",
              "\n",
              "    .dataframe thead th {\n",
              "        text-align: right;\n",
              "    }\n",
              "</style>\n",
              "<table border=\"1\" class=\"dataframe\">\n",
              "  <thead>\n",
              "    <tr style=\"text-align: right;\">\n",
              "      <th></th>\n",
              "      <th>Drill Hole</th>\n",
              "      <th>Unnamed: 1</th>\n",
              "      <th>From (m)</th>\n",
              "      <th>To (m)</th>\n",
              "      <th>Width (m)</th>\n",
              "      <th>Gold (g/t)</th>\n",
              "      <th>Record</th>\n",
              "      <th>Interval</th>\n",
              "      <th>Interval_obj</th>\n",
              "    </tr>\n",
              "  </thead>\n",
              "  <tbody>\n",
              "    <tr>\n",
              "      <th>95</th>\n",
              "      <td>BR-022</td>\n",
              "      <td>including</td>\n",
              "      <td>110.0</td>\n",
              "      <td>116.10</td>\n",
              "      <td>6.10</td>\n",
              "      <td>2.62</td>\n",
              "      <td>95</td>\n",
              "      <td>(110.0, 116.1]</td>\n",
              "      <td>Interval(110.000000000000, 116.100000000000)</td>\n",
              "    </tr>\n",
              "    <tr>\n",
              "      <th>96</th>\n",
              "      <td>BR-022</td>\n",
              "      <td>and including</td>\n",
              "      <td>111.4</td>\n",
              "      <td>113.10</td>\n",
              "      <td>1.70</td>\n",
              "      <td>7.92</td>\n",
              "      <td>96</td>\n",
              "      <td>(111.4, 113.1]</td>\n",
              "      <td>Interval(111.400000000000, 113.100000000000)</td>\n",
              "    </tr>\n",
              "    <tr>\n",
              "      <th>97</th>\n",
              "      <td>BR-022</td>\n",
              "      <td>and</td>\n",
              "      <td>274.0</td>\n",
              "      <td>299.00</td>\n",
              "      <td>25.00</td>\n",
              "      <td>0.19</td>\n",
              "      <td>97</td>\n",
              "      <td>(274.0, 299.0]</td>\n",
              "      <td>Interval(274.000000000000, 299.000000000000)</td>\n",
              "    </tr>\n",
              "    <tr>\n",
              "      <th>98</th>\n",
              "      <td>BR-022</td>\n",
              "      <td>and</td>\n",
              "      <td>432.9</td>\n",
              "      <td>439.00</td>\n",
              "      <td>6.10</td>\n",
              "      <td>4.05</td>\n",
              "      <td>98</td>\n",
              "      <td>(432.9, 439.0]</td>\n",
              "      <td>Interval(432.900000000000, 439.000000000000)</td>\n",
              "    </tr>\n",
              "    <tr>\n",
              "      <th>99</th>\n",
              "      <td>BR-022</td>\n",
              "      <td>including</td>\n",
              "      <td>432.9</td>\n",
              "      <td>435.70</td>\n",
              "      <td>2.80</td>\n",
              "      <td>8.18</td>\n",
              "      <td>99</td>\n",
              "      <td>(432.9, 435.7]</td>\n",
              "      <td>Interval(432.900000000000, 435.700000000000)</td>\n",
              "    </tr>\n",
              "    <tr>\n",
              "      <th>100</th>\n",
              "      <td>BR-022</td>\n",
              "      <td>and</td>\n",
              "      <td>445.0</td>\n",
              "      <td>452.00</td>\n",
              "      <td>7.00</td>\n",
              "      <td>0.41</td>\n",
              "      <td>100</td>\n",
              "      <td>(445.0, 452.0]</td>\n",
              "      <td>Interval(445.000000000000, 452.000000000000)</td>\n",
              "    </tr>\n",
              "    <tr>\n",
              "      <th>101</th>\n",
              "      <td>BR-022</td>\n",
              "      <td>and</td>\n",
              "      <td>461.6</td>\n",
              "      <td>512.00</td>\n",
              "      <td>50.40</td>\n",
              "      <td>1.78</td>\n",
              "      <td>101</td>\n",
              "      <td>(461.6, 512.0]</td>\n",
              "      <td>Interval(461.600000000000, 512.000000000000)</td>\n",
              "    </tr>\n",
              "    <tr>\n",
              "      <th>102</th>\n",
              "      <td>BR-022</td>\n",
              "      <td>including</td>\n",
              "      <td>471.0</td>\n",
              "      <td>512.00</td>\n",
              "      <td>41.00</td>\n",
              "      <td>2.09</td>\n",
              "      <td>102</td>\n",
              "      <td>(471.0, 512.0]</td>\n",
              "      <td>Interval(471.000000000000, 512.000000000000)</td>\n",
              "    </tr>\n",
              "    <tr>\n",
              "      <th>103</th>\n",
              "      <td>BR-022</td>\n",
              "      <td>and including</td>\n",
              "      <td>471.0</td>\n",
              "      <td>478.00</td>\n",
              "      <td>7.00</td>\n",
              "      <td>2.37</td>\n",
              "      <td>103</td>\n",
              "      <td>(471.0, 478.0]</td>\n",
              "      <td>Interval(471.000000000000, 478.000000000000)</td>\n",
              "    </tr>\n",
              "    <tr>\n",
              "      <th>104</th>\n",
              "      <td>BR-022</td>\n",
              "      <td>and including</td>\n",
              "      <td>490.0</td>\n",
              "      <td>491.00</td>\n",
              "      <td>1.00</td>\n",
              "      <td>8.15</td>\n",
              "      <td>104</td>\n",
              "      <td>(490.0, 491.0]</td>\n",
              "      <td>Interval(490.000000000000, 491.000000000000)</td>\n",
              "    </tr>\n",
              "    <tr>\n",
              "      <th>105</th>\n",
              "      <td>BR-022</td>\n",
              "      <td>and including</td>\n",
              "      <td>505.2</td>\n",
              "      <td>508.75</td>\n",
              "      <td>3.55</td>\n",
              "      <td>14.90</td>\n",
              "      <td>105</td>\n",
              "      <td>(505.2, 508.75]</td>\n",
              "      <td>Interval(505.200000000000, 508.750000000000)</td>\n",
              "    </tr>\n",
              "    <tr>\n",
              "      <th>106</th>\n",
              "      <td>BR-022</td>\n",
              "      <td>and including</td>\n",
              "      <td>506.2</td>\n",
              "      <td>506.70</td>\n",
              "      <td>0.50</td>\n",
              "      <td>100.48</td>\n",
              "      <td>106</td>\n",
              "      <td>(506.2, 506.7]</td>\n",
              "      <td>Interval(506.200000000000, 506.700000000000)</td>\n",
              "    </tr>\n",
              "    <tr>\n",
              "      <th>107</th>\n",
              "      <td>BR-022</td>\n",
              "      <td>and</td>\n",
              "      <td>600.0</td>\n",
              "      <td>620.00</td>\n",
              "      <td>20.00</td>\n",
              "      <td>0.52</td>\n",
              "      <td>107</td>\n",
              "      <td>(600.0, 620.0]</td>\n",
              "      <td>Interval(600.000000000000, 620.000000000000)</td>\n",
              "    </tr>\n",
              "  </tbody>\n",
              "</table>\n",
              "</div>"
            ],
            "text/plain": [
              "    Drill Hole  ...                                  Interval_obj\n",
              "95      BR-022  ...  Interval(110.000000000000, 116.100000000000)\n",
              "96      BR-022  ...  Interval(111.400000000000, 113.100000000000)\n",
              "97      BR-022  ...  Interval(274.000000000000, 299.000000000000)\n",
              "98      BR-022  ...  Interval(432.900000000000, 439.000000000000)\n",
              "99      BR-022  ...  Interval(432.900000000000, 435.700000000000)\n",
              "100     BR-022  ...  Interval(445.000000000000, 452.000000000000)\n",
              "101     BR-022  ...  Interval(461.600000000000, 512.000000000000)\n",
              "102     BR-022  ...  Interval(471.000000000000, 512.000000000000)\n",
              "103     BR-022  ...  Interval(471.000000000000, 478.000000000000)\n",
              "104     BR-022  ...  Interval(490.000000000000, 491.000000000000)\n",
              "105     BR-022  ...  Interval(505.200000000000, 508.750000000000)\n",
              "106     BR-022  ...  Interval(506.200000000000, 506.700000000000)\n",
              "107     BR-022  ...  Interval(600.000000000000, 620.000000000000)\n",
              "\n",
              "[13 rows x 9 columns]"
            ]
          },
          "metadata": {
            "tags": []
          },
          "execution_count": 80
        }
      ]
    },
    {
      "cell_type": "code",
      "metadata": {
        "colab": {
          "base_uri": "https://localhost:8080/"
        },
        "id": "q2Xz3XhbTrfv",
        "outputId": "f0c35134-f9c6-4272-997e-1a701626f7c5"
      },
      "source": [
        "cross_interval = itertools.product(dh.Interval_obj,dh.Interval_obj)\r\n",
        "\r\n",
        "intersect_matrix = np.array([interval[0].intersect(interval[1]) for interval in cross_interval])\r\n",
        "\r\n",
        "intersect_matrix"
      ],
      "execution_count": 81,
      "outputs": [
        {
          "output_type": "execute_result",
          "data": {
            "text/plain": [
              "array([Interval(110.000000000000, 116.100000000000),\n",
              "       Interval(111.400000000000, 113.100000000000), EmptySet(),\n",
              "       EmptySet(), EmptySet(), EmptySet(), EmptySet(), EmptySet(),\n",
              "       EmptySet(), EmptySet(), EmptySet(), EmptySet(), EmptySet(),\n",
              "       Interval(111.400000000000, 113.100000000000),\n",
              "       Interval(111.400000000000, 113.100000000000), EmptySet(),\n",
              "       EmptySet(), EmptySet(), EmptySet(), EmptySet(), EmptySet(),\n",
              "       EmptySet(), EmptySet(), EmptySet(), EmptySet(), EmptySet(),\n",
              "       EmptySet(), EmptySet(),\n",
              "       Interval(274.000000000000, 299.000000000000), EmptySet(),\n",
              "       EmptySet(), EmptySet(), EmptySet(), EmptySet(), EmptySet(),\n",
              "       EmptySet(), EmptySet(), EmptySet(), EmptySet(), EmptySet(),\n",
              "       EmptySet(), EmptySet(),\n",
              "       Interval(432.900000000000, 439.000000000000),\n",
              "       Interval(432.900000000000, 435.700000000000), EmptySet(),\n",
              "       EmptySet(), EmptySet(), EmptySet(), EmptySet(), EmptySet(),\n",
              "       EmptySet(), EmptySet(), EmptySet(), EmptySet(), EmptySet(),\n",
              "       Interval(432.900000000000, 435.700000000000),\n",
              "       Interval(432.900000000000, 435.700000000000), EmptySet(),\n",
              "       EmptySet(), EmptySet(), EmptySet(), EmptySet(), EmptySet(),\n",
              "       EmptySet(), EmptySet(), EmptySet(), EmptySet(), EmptySet(),\n",
              "       EmptySet(), EmptySet(),\n",
              "       Interval(445.000000000000, 452.000000000000), EmptySet(),\n",
              "       EmptySet(), EmptySet(), EmptySet(), EmptySet(), EmptySet(),\n",
              "       EmptySet(), EmptySet(), EmptySet(), EmptySet(), EmptySet(),\n",
              "       EmptySet(), EmptySet(),\n",
              "       Interval(461.600000000000, 512.000000000000),\n",
              "       Interval(471.000000000000, 512.000000000000),\n",
              "       Interval(471.000000000000, 478.000000000000),\n",
              "       Interval(490.000000000000, 491.000000000000),\n",
              "       Interval(505.200000000000, 508.750000000000),\n",
              "       Interval(506.200000000000, 506.700000000000), EmptySet(),\n",
              "       EmptySet(), EmptySet(), EmptySet(), EmptySet(), EmptySet(),\n",
              "       EmptySet(), Interval(471.000000000000, 512.000000000000),\n",
              "       Interval(471.000000000000, 512.000000000000),\n",
              "       Interval(471.000000000000, 478.000000000000),\n",
              "       Interval(490.000000000000, 491.000000000000),\n",
              "       Interval(505.200000000000, 508.750000000000),\n",
              "       Interval(506.200000000000, 506.700000000000), EmptySet(),\n",
              "       EmptySet(), EmptySet(), EmptySet(), EmptySet(), EmptySet(),\n",
              "       EmptySet(), Interval(471.000000000000, 478.000000000000),\n",
              "       Interval(471.000000000000, 478.000000000000),\n",
              "       Interval(471.000000000000, 478.000000000000), EmptySet(),\n",
              "       EmptySet(), EmptySet(), EmptySet(), EmptySet(), EmptySet(),\n",
              "       EmptySet(), EmptySet(), EmptySet(), EmptySet(),\n",
              "       Interval(490.000000000000, 491.000000000000),\n",
              "       Interval(490.000000000000, 491.000000000000), EmptySet(),\n",
              "       Interval(490.000000000000, 491.000000000000), EmptySet(),\n",
              "       EmptySet(), EmptySet(), EmptySet(), EmptySet(), EmptySet(),\n",
              "       EmptySet(), EmptySet(), EmptySet(),\n",
              "       Interval(505.200000000000, 508.750000000000),\n",
              "       Interval(505.200000000000, 508.750000000000), EmptySet(),\n",
              "       EmptySet(), Interval(505.200000000000, 508.750000000000),\n",
              "       Interval(506.200000000000, 506.700000000000), EmptySet(),\n",
              "       EmptySet(), EmptySet(), EmptySet(), EmptySet(), EmptySet(),\n",
              "       EmptySet(), Interval(506.200000000000, 506.700000000000),\n",
              "       Interval(506.200000000000, 506.700000000000), EmptySet(),\n",
              "       EmptySet(), Interval(506.200000000000, 506.700000000000),\n",
              "       Interval(506.200000000000, 506.700000000000), EmptySet(),\n",
              "       EmptySet(), EmptySet(), EmptySet(), EmptySet(), EmptySet(),\n",
              "       EmptySet(), EmptySet(), EmptySet(), EmptySet(), EmptySet(),\n",
              "       EmptySet(), EmptySet(),\n",
              "       Interval(600.000000000000, 620.000000000000)], dtype=object)"
            ]
          },
          "metadata": {
            "tags": []
          },
          "execution_count": 81
        }
      ]
    },
    {
      "cell_type": "code",
      "metadata": {
        "colab": {
          "base_uri": "https://localhost:8080/"
        },
        "id": "7bOtaZXI3IJa",
        "outputId": "b34e37dd-fd81-495a-9448-1bbf7b6f670a"
      },
      "source": [
        "dh['grade_len'] = dh['Gold (g/t)'] * dh['Width (m)']"
      ],
      "execution_count": 82,
      "outputs": [
        {
          "output_type": "stream",
          "text": [
            "/usr/local/lib/python3.6/dist-packages/ipykernel_launcher.py:1: SettingWithCopyWarning: \n",
            "A value is trying to be set on a copy of a slice from a DataFrame.\n",
            "Try using .loc[row_indexer,col_indexer] = value instead\n",
            "\n",
            "See the caveats in the documentation: https://pandas.pydata.org/pandas-docs/stable/user_guide/indexing.html#returning-a-view-versus-a-copy\n",
            "  \"\"\"Entry point for launching an IPython kernel.\n"
          ],
          "name": "stderr"
        }
      ]
    },
    {
      "cell_type": "code",
      "metadata": {
        "colab": {
          "base_uri": "https://localhost:8080/",
          "height": 452
        },
        "id": "8l_OujEZ1S2j",
        "outputId": "e06b1c55-4223-417c-ffb8-2c422575ba50"
      },
      "source": [
        "dh"
      ],
      "execution_count": 83,
      "outputs": [
        {
          "output_type": "execute_result",
          "data": {
            "text/html": [
              "<div>\n",
              "<style scoped>\n",
              "    .dataframe tbody tr th:only-of-type {\n",
              "        vertical-align: middle;\n",
              "    }\n",
              "\n",
              "    .dataframe tbody tr th {\n",
              "        vertical-align: top;\n",
              "    }\n",
              "\n",
              "    .dataframe thead th {\n",
              "        text-align: right;\n",
              "    }\n",
              "</style>\n",
              "<table border=\"1\" class=\"dataframe\">\n",
              "  <thead>\n",
              "    <tr style=\"text-align: right;\">\n",
              "      <th></th>\n",
              "      <th>Drill Hole</th>\n",
              "      <th>Unnamed: 1</th>\n",
              "      <th>From (m)</th>\n",
              "      <th>To (m)</th>\n",
              "      <th>Width (m)</th>\n",
              "      <th>Gold (g/t)</th>\n",
              "      <th>Record</th>\n",
              "      <th>Interval</th>\n",
              "      <th>Interval_obj</th>\n",
              "      <th>grade_len</th>\n",
              "    </tr>\n",
              "  </thead>\n",
              "  <tbody>\n",
              "    <tr>\n",
              "      <th>95</th>\n",
              "      <td>BR-022</td>\n",
              "      <td>including</td>\n",
              "      <td>110.0</td>\n",
              "      <td>116.10</td>\n",
              "      <td>6.10</td>\n",
              "      <td>2.62</td>\n",
              "      <td>95</td>\n",
              "      <td>(110.0, 116.1]</td>\n",
              "      <td>Interval(110.000000000000, 116.100000000000)</td>\n",
              "      <td>15.982</td>\n",
              "    </tr>\n",
              "    <tr>\n",
              "      <th>96</th>\n",
              "      <td>BR-022</td>\n",
              "      <td>and including</td>\n",
              "      <td>111.4</td>\n",
              "      <td>113.10</td>\n",
              "      <td>1.70</td>\n",
              "      <td>7.92</td>\n",
              "      <td>96</td>\n",
              "      <td>(111.4, 113.1]</td>\n",
              "      <td>Interval(111.400000000000, 113.100000000000)</td>\n",
              "      <td>13.464</td>\n",
              "    </tr>\n",
              "    <tr>\n",
              "      <th>97</th>\n",
              "      <td>BR-022</td>\n",
              "      <td>and</td>\n",
              "      <td>274.0</td>\n",
              "      <td>299.00</td>\n",
              "      <td>25.00</td>\n",
              "      <td>0.19</td>\n",
              "      <td>97</td>\n",
              "      <td>(274.0, 299.0]</td>\n",
              "      <td>Interval(274.000000000000, 299.000000000000)</td>\n",
              "      <td>4.750</td>\n",
              "    </tr>\n",
              "    <tr>\n",
              "      <th>98</th>\n",
              "      <td>BR-022</td>\n",
              "      <td>and</td>\n",
              "      <td>432.9</td>\n",
              "      <td>439.00</td>\n",
              "      <td>6.10</td>\n",
              "      <td>4.05</td>\n",
              "      <td>98</td>\n",
              "      <td>(432.9, 439.0]</td>\n",
              "      <td>Interval(432.900000000000, 439.000000000000)</td>\n",
              "      <td>24.705</td>\n",
              "    </tr>\n",
              "    <tr>\n",
              "      <th>99</th>\n",
              "      <td>BR-022</td>\n",
              "      <td>including</td>\n",
              "      <td>432.9</td>\n",
              "      <td>435.70</td>\n",
              "      <td>2.80</td>\n",
              "      <td>8.18</td>\n",
              "      <td>99</td>\n",
              "      <td>(432.9, 435.7]</td>\n",
              "      <td>Interval(432.900000000000, 435.700000000000)</td>\n",
              "      <td>22.904</td>\n",
              "    </tr>\n",
              "    <tr>\n",
              "      <th>100</th>\n",
              "      <td>BR-022</td>\n",
              "      <td>and</td>\n",
              "      <td>445.0</td>\n",
              "      <td>452.00</td>\n",
              "      <td>7.00</td>\n",
              "      <td>0.41</td>\n",
              "      <td>100</td>\n",
              "      <td>(445.0, 452.0]</td>\n",
              "      <td>Interval(445.000000000000, 452.000000000000)</td>\n",
              "      <td>2.870</td>\n",
              "    </tr>\n",
              "    <tr>\n",
              "      <th>101</th>\n",
              "      <td>BR-022</td>\n",
              "      <td>and</td>\n",
              "      <td>461.6</td>\n",
              "      <td>512.00</td>\n",
              "      <td>50.40</td>\n",
              "      <td>1.78</td>\n",
              "      <td>101</td>\n",
              "      <td>(461.6, 512.0]</td>\n",
              "      <td>Interval(461.600000000000, 512.000000000000)</td>\n",
              "      <td>89.712</td>\n",
              "    </tr>\n",
              "    <tr>\n",
              "      <th>102</th>\n",
              "      <td>BR-022</td>\n",
              "      <td>including</td>\n",
              "      <td>471.0</td>\n",
              "      <td>512.00</td>\n",
              "      <td>41.00</td>\n",
              "      <td>2.09</td>\n",
              "      <td>102</td>\n",
              "      <td>(471.0, 512.0]</td>\n",
              "      <td>Interval(471.000000000000, 512.000000000000)</td>\n",
              "      <td>85.690</td>\n",
              "    </tr>\n",
              "    <tr>\n",
              "      <th>103</th>\n",
              "      <td>BR-022</td>\n",
              "      <td>and including</td>\n",
              "      <td>471.0</td>\n",
              "      <td>478.00</td>\n",
              "      <td>7.00</td>\n",
              "      <td>2.37</td>\n",
              "      <td>103</td>\n",
              "      <td>(471.0, 478.0]</td>\n",
              "      <td>Interval(471.000000000000, 478.000000000000)</td>\n",
              "      <td>16.590</td>\n",
              "    </tr>\n",
              "    <tr>\n",
              "      <th>104</th>\n",
              "      <td>BR-022</td>\n",
              "      <td>and including</td>\n",
              "      <td>490.0</td>\n",
              "      <td>491.00</td>\n",
              "      <td>1.00</td>\n",
              "      <td>8.15</td>\n",
              "      <td>104</td>\n",
              "      <td>(490.0, 491.0]</td>\n",
              "      <td>Interval(490.000000000000, 491.000000000000)</td>\n",
              "      <td>8.150</td>\n",
              "    </tr>\n",
              "    <tr>\n",
              "      <th>105</th>\n",
              "      <td>BR-022</td>\n",
              "      <td>and including</td>\n",
              "      <td>505.2</td>\n",
              "      <td>508.75</td>\n",
              "      <td>3.55</td>\n",
              "      <td>14.90</td>\n",
              "      <td>105</td>\n",
              "      <td>(505.2, 508.75]</td>\n",
              "      <td>Interval(505.200000000000, 508.750000000000)</td>\n",
              "      <td>52.895</td>\n",
              "    </tr>\n",
              "    <tr>\n",
              "      <th>106</th>\n",
              "      <td>BR-022</td>\n",
              "      <td>and including</td>\n",
              "      <td>506.2</td>\n",
              "      <td>506.70</td>\n",
              "      <td>0.50</td>\n",
              "      <td>100.48</td>\n",
              "      <td>106</td>\n",
              "      <td>(506.2, 506.7]</td>\n",
              "      <td>Interval(506.200000000000, 506.700000000000)</td>\n",
              "      <td>50.240</td>\n",
              "    </tr>\n",
              "    <tr>\n",
              "      <th>107</th>\n",
              "      <td>BR-022</td>\n",
              "      <td>and</td>\n",
              "      <td>600.0</td>\n",
              "      <td>620.00</td>\n",
              "      <td>20.00</td>\n",
              "      <td>0.52</td>\n",
              "      <td>107</td>\n",
              "      <td>(600.0, 620.0]</td>\n",
              "      <td>Interval(600.000000000000, 620.000000000000)</td>\n",
              "      <td>10.400</td>\n",
              "    </tr>\n",
              "  </tbody>\n",
              "</table>\n",
              "</div>"
            ],
            "text/plain": [
              "    Drill Hole  ... grade_len\n",
              "95      BR-022  ...    15.982\n",
              "96      BR-022  ...    13.464\n",
              "97      BR-022  ...     4.750\n",
              "98      BR-022  ...    24.705\n",
              "99      BR-022  ...    22.904\n",
              "100     BR-022  ...     2.870\n",
              "101     BR-022  ...    89.712\n",
              "102     BR-022  ...    85.690\n",
              "103     BR-022  ...    16.590\n",
              "104     BR-022  ...     8.150\n",
              "105     BR-022  ...    52.895\n",
              "106     BR-022  ...    50.240\n",
              "107     BR-022  ...    10.400\n",
              "\n",
              "[13 rows x 10 columns]"
            ]
          },
          "metadata": {
            "tags": []
          },
          "execution_count": 83
        }
      ]
    },
    {
      "cell_type": "code",
      "metadata": {
        "colab": {
          "base_uri": "https://localhost:8080/"
        },
        "id": "86bDkuCYEG5Y",
        "outputId": "442faa3d-2ae5-49a2-fc82-99246791208f"
      },
      "source": [
        "from sympy import Union\n",
        "import functools\n",
        "\n",
        "resid_grades, resid_len = {}, {} \n",
        "\n",
        "for node in levelord_nodes[1:]:\n",
        "\n",
        "  parent_interval = dh[dh['Record'] == float(node[0])]\n",
        "  child_names = [child.name for child in node[1]]\n",
        "  child_intervals = [dh[dh['Record'] == float(child)] for child in child_names]\n",
        "\n",
        "  new_interval_obj = parent_interval.Interval_obj.values[0] - Union([child.Interval_obj.values[0] for child in child_intervals])\n",
        "\n",
        "  l_child_int = Union([intv['Interval_obj'].values[0] for intv in child_intervals])._measure\n",
        "\n",
        "  lg_child_int = [dh.loc[int(child_name)]['grade_len'] for child_name in child_names]\n",
        "\n",
        "  lg_total_int = parent_interval.grade_len.values[0]\n",
        "\n",
        "  residual_grade = (lg_total_int - sum(lg_child_int)) / (new_interval_obj._measure)\n",
        "\n",
        "  resid_grades[node[0]] = residual_grade\n",
        "  resid_len[node[0]] = new_interval_obj\n",
        "\n",
        "  print(\"Interval:\")\n",
        "  print(node[0])\n",
        "\n",
        "  print(\"Length x Grade:\")\n",
        "  print(lg_total_int - sum(lg_child_int))\n",
        "\n",
        "  print(\"Residual Grade:\")\n",
        "  print(residual_grade)\n"
      ],
      "execution_count": 84,
      "outputs": [
        {
          "output_type": "stream",
          "text": [
            "Interval:\n",
            "95\n",
            "Length x Grade:\n",
            "2.517999999999999\n",
            "Residual Grade:\n",
            "0.572272727272726\n",
            "Interval:\n",
            "97\n",
            "Length x Grade:\n",
            "4.75\n",
            "Residual Grade:\n",
            "0.190000000000000\n",
            "Interval:\n",
            "98\n",
            "Length x Grade:\n",
            "1.801000000000002\n",
            "Residual Grade:\n",
            "0.545757575757574\n",
            "Interval:\n",
            "100\n",
            "Length x Grade:\n",
            "2.8699999999999997\n",
            "Residual Grade:\n",
            "0.410000000000000\n",
            "Interval:\n",
            "101\n",
            "Length x Grade:\n",
            "4.022000000000006\n",
            "Residual Grade:\n",
            "0.427872340425534\n",
            "Interval:\n",
            "107\n",
            "Length x Grade:\n",
            "10.4\n",
            "Residual Grade:\n",
            "0.520000000000000\n",
            "Interval:\n",
            "96\n",
            "Length x Grade:\n",
            "13.464\n",
            "Residual Grade:\n",
            "7.92000000000005\n",
            "Interval:\n",
            "99\n",
            "Length x Grade:\n",
            "22.903999999999996\n",
            "Residual Grade:\n",
            "8.17999999999997\n",
            "Interval:\n",
            "102\n",
            "Length x Grade:\n",
            "8.055000000000007\n",
            "Residual Grade:\n",
            "0.273514431239389\n",
            "Interval:\n",
            "103\n",
            "Length x Grade:\n",
            "16.59\n",
            "Residual Grade:\n",
            "2.37000000000000\n",
            "Interval:\n",
            "104\n",
            "Length x Grade:\n",
            "8.15\n",
            "Residual Grade:\n",
            "8.15000000000000\n",
            "Interval:\n",
            "105\n",
            "Length x Grade:\n",
            "2.654999999999994\n",
            "Residual Grade:\n",
            "0.870491803278683\n",
            "Interval:\n",
            "106\n",
            "Length x Grade:\n",
            "50.24\n",
            "Residual Grade:\n",
            "100.480000000000\n"
          ],
          "name": "stdout"
        }
      ]
    },
    {
      "cell_type": "markdown",
      "metadata": {
        "id": "lgxLcGSctUYs"
      },
      "source": [
        "Check these solutions: 95 should be easy to validate\r\n",
        "\r\n",
        "includes 96\r\n",
        "\r\n",
        "95 extends from 110.00 m to 116.10 m (l = 6.10 m)\r\n",
        "\r\n",
        "96 is the interval from 111.40 to 113.10 m (l = 1.70 m)\r\n",
        "\r\n",
        "Larger interval \r\n",
        "\r\n",
        "\r\n",
        "(6.10 m)(2.62 g/t) = (1.7 m)(7.92 g/t) + (4.4 m)(x g/t)\r\n",
        "\r\n",
        "Rearranging terms, we get:\r\n",
        "\r\n",
        "$x = \\frac{(6.10 m)(2.62 g/t) - (1.7 m)(7.92 g/t)}{ 4.4 m }$\r\n",
        "\r\n",
        "So the residual grade is 0.5723 g/t, which matches the value found above! "
      ]
    },
    {
      "cell_type": "code",
      "metadata": {
        "colab": {
          "base_uri": "https://localhost:8080/"
        },
        "id": "xPZpET3kwtku",
        "outputId": "199de9de-33f4-4204-e76c-60037ac63598"
      },
      "source": [
        "((6.10 * 2.62) - (1.7)*(7.92)) / (4.4)"
      ],
      "execution_count": 45,
      "outputs": [
        {
          "output_type": "execute_result",
          "data": {
            "text/plain": [
              "0.5722727272727269"
            ]
          },
          "metadata": {
            "tags": []
          },
          "execution_count": 45
        }
      ]
    },
    {
      "cell_type": "code",
      "metadata": {
        "colab": {
          "base_uri": "https://localhost:8080/"
        },
        "id": "-rNUUZW2zSaa",
        "outputId": "60c94a66-784e-4f5f-f44d-809700a59046"
      },
      "source": [
        "resid_len"
      ],
      "execution_count": 46,
      "outputs": [
        {
          "output_type": "execute_result",
          "data": {
            "text/plain": [
              "{'100': Interval(445.000000000000, 452.000000000000),\n",
              " '101': Interval.Ropen(461.600000000000, 471.000000000000),\n",
              " '102': Union(Interval.open(478.000000000000, 490.000000000000), Interval.open(491.000000000000, 505.200000000000), Interval.Lopen(508.750000000000, 512.000000000000)),\n",
              " '103': Interval(471.000000000000, 478.000000000000),\n",
              " '104': Interval(490.000000000000, 491.000000000000),\n",
              " '105': Union(Interval.Ropen(505.200000000000, 506.200000000000), Interval.Lopen(506.700000000000, 508.750000000000)),\n",
              " '106': Interval(506.200000000000, 506.700000000000),\n",
              " '107': Interval(600.000000000000, 620.000000000000),\n",
              " '95': Union(Interval.Ropen(110.000000000000, 111.400000000000), Interval.Lopen(113.100000000000, 116.100000000000)),\n",
              " '96': Interval(111.400000000000, 113.100000000000),\n",
              " '97': Interval(274.000000000000, 299.000000000000),\n",
              " '98': Interval.Lopen(435.700000000000, 439.000000000000),\n",
              " '99': Interval(432.900000000000, 435.700000000000)}"
            ]
          },
          "metadata": {
            "tags": []
          },
          "execution_count": 46
        }
      ]
    },
    {
      "cell_type": "code",
      "metadata": {
        "colab": {
          "base_uri": "https://localhost:8080/"
        },
        "id": "JizHqt1Ift2U",
        "outputId": "781c3d35-6def-4ba2-85be-4c60503c622b"
      },
      "source": [
        "Interval(445.000000000000, 452.000000000000).end"
      ],
      "execution_count": 105,
      "outputs": [
        {
          "output_type": "execute_result",
          "data": {
            "text/plain": [
              "452.000000000000"
            ]
          },
          "metadata": {
            "tags": []
          },
          "execution_count": 105
        }
      ]
    },
    {
      "cell_type": "code",
      "metadata": {
        "colab": {
          "base_uri": "https://localhost:8080/"
        },
        "id": "Ic8l2FyHzc2c",
        "outputId": "0beba410-5bb4-4203-9551-00bf65013277"
      },
      "source": [
        "dh['Record'].astype(str).map(resid_len)\r\n",
        "dh['Record'].astype(str).map(resid_grades)"
      ],
      "execution_count": 47,
      "outputs": [
        {
          "output_type": "execute_result",
          "data": {
            "text/plain": [
              "95     0.572272727272726\n",
              "96      7.92000000000005\n",
              "97     0.190000000000000\n",
              "98     0.545757575757574\n",
              "99      8.17999999999997\n",
              "100    0.410000000000000\n",
              "101    0.427872340425534\n",
              "102    0.273514431239389\n",
              "103     2.37000000000000\n",
              "104     8.15000000000000\n",
              "105    0.870491803278683\n",
              "106     100.480000000000\n",
              "107    0.520000000000000\n",
              "Name: Record, dtype: object"
            ]
          },
          "metadata": {
            "tags": []
          },
          "execution_count": 47
        }
      ]
    },
    {
      "cell_type": "markdown",
      "metadata": {
        "id": "8m9ePjaW0hIf"
      },
      "source": [
        "TODO: Need to split up the non-contiguous segments so that you can actually plot them \r\n",
        "\r\n",
        "\r\n",
        "Idea: use .args attribute\r\n",
        "Problem: This is defined for Interval objects as well and it gets us something we don't want"
      ]
    },
    {
      "cell_type": "code",
      "metadata": {
        "colab": {
          "base_uri": "https://localhost:8080/"
        },
        "id": "-Md0x5T60vVp",
        "outputId": "b925905f-bc9e-4382-e766-774fbe2ed3f5"
      },
      "source": [
        "dh['Record'].astype(str).map(resid_len)"
      ],
      "execution_count": 48,
      "outputs": [
        {
          "output_type": "execute_result",
          "data": {
            "text/plain": [
              "95     Union(Interval.Ropen(110.000000000000, 111.400...\n",
              "96          Interval(111.400000000000, 113.100000000000)\n",
              "97          Interval(274.000000000000, 299.000000000000)\n",
              "98     Interval.Lopen(435.700000000000, 439.000000000...\n",
              "99          Interval(432.900000000000, 435.700000000000)\n",
              "100         Interval(445.000000000000, 452.000000000000)\n",
              "101    Interval.Ropen(461.600000000000, 471.000000000...\n",
              "102    Union(Interval.open(478.000000000000, 490.0000...\n",
              "103         Interval(471.000000000000, 478.000000000000)\n",
              "104         Interval(490.000000000000, 491.000000000000)\n",
              "105    Union(Interval.Ropen(505.200000000000, 506.200...\n",
              "106         Interval(506.200000000000, 506.700000000000)\n",
              "107         Interval(600.000000000000, 620.000000000000)\n",
              "Name: Record, dtype: object"
            ]
          },
          "metadata": {
            "tags": []
          },
          "execution_count": 48
        }
      ]
    },
    {
      "cell_type": "code",
      "metadata": {
        "id": "mex_X_BMdHwm"
      },
      "source": [
        "\r\n",
        "\r\n",
        "def args_extended(interval):\r\n",
        "  if type(interval) == Union:\r\n",
        "    return interval.args\r\n",
        "  else:\r\n",
        "    return interval\r\n",
        "\r\n",
        "remaining_interval_grade = pd.DataFrame({'interval' : dh['Record'].astype(str).map(resid_len), 'grade' : dh['Record'].astype(str).map(resid_grades)})\r\n",
        "\r\n",
        "remaining_interval_grade['split_intervals'] = remaining_interval_grade.interval.apply(args_extended)\r\n",
        "\r\n",
        "rig_exploded = remaining_interval_grade.explode('split_intervals')"
      ],
      "execution_count": 91,
      "outputs": []
    },
    {
      "cell_type": "code",
      "metadata": {
        "colab": {
          "base_uri": "https://localhost:8080/",
          "height": 576
        },
        "id": "bGxbH__-fIZL",
        "outputId": "2c40580a-648e-4ce0-f338-679a81019c46"
      },
      "source": [
        "rig_exploded"
      ],
      "execution_count": 102,
      "outputs": [
        {
          "output_type": "execute_result",
          "data": {
            "text/html": [
              "<div>\n",
              "<style scoped>\n",
              "    .dataframe tbody tr th:only-of-type {\n",
              "        vertical-align: middle;\n",
              "    }\n",
              "\n",
              "    .dataframe tbody tr th {\n",
              "        vertical-align: top;\n",
              "    }\n",
              "\n",
              "    .dataframe thead th {\n",
              "        text-align: right;\n",
              "    }\n",
              "</style>\n",
              "<table border=\"1\" class=\"dataframe\">\n",
              "  <thead>\n",
              "    <tr style=\"text-align: right;\">\n",
              "      <th></th>\n",
              "      <th>interval</th>\n",
              "      <th>grade</th>\n",
              "      <th>split_intervals</th>\n",
              "    </tr>\n",
              "  </thead>\n",
              "  <tbody>\n",
              "    <tr>\n",
              "      <th>95</th>\n",
              "      <td>Union(Interval.Ropen(110.000000000000, 111.400...</td>\n",
              "      <td>0.572272727272726</td>\n",
              "      <td>Interval.Ropen(110.000000000000, 111.400000000...</td>\n",
              "    </tr>\n",
              "    <tr>\n",
              "      <th>95</th>\n",
              "      <td>Union(Interval.Ropen(110.000000000000, 111.400...</td>\n",
              "      <td>0.572272727272726</td>\n",
              "      <td>Interval.Lopen(113.100000000000, 116.100000000...</td>\n",
              "    </tr>\n",
              "    <tr>\n",
              "      <th>96</th>\n",
              "      <td>Interval(111.400000000000, 113.100000000000)</td>\n",
              "      <td>7.92000000000005</td>\n",
              "      <td>Interval(111.400000000000, 113.100000000000)</td>\n",
              "    </tr>\n",
              "    <tr>\n",
              "      <th>97</th>\n",
              "      <td>Interval(274.000000000000, 299.000000000000)</td>\n",
              "      <td>0.190000000000000</td>\n",
              "      <td>Interval(274.000000000000, 299.000000000000)</td>\n",
              "    </tr>\n",
              "    <tr>\n",
              "      <th>98</th>\n",
              "      <td>Interval.Lopen(435.700000000000, 439.000000000...</td>\n",
              "      <td>0.545757575757574</td>\n",
              "      <td>Interval.Lopen(435.700000000000, 439.000000000...</td>\n",
              "    </tr>\n",
              "    <tr>\n",
              "      <th>99</th>\n",
              "      <td>Interval(432.900000000000, 435.700000000000)</td>\n",
              "      <td>8.17999999999997</td>\n",
              "      <td>Interval(432.900000000000, 435.700000000000)</td>\n",
              "    </tr>\n",
              "    <tr>\n",
              "      <th>100</th>\n",
              "      <td>Interval(445.000000000000, 452.000000000000)</td>\n",
              "      <td>0.410000000000000</td>\n",
              "      <td>Interval(445.000000000000, 452.000000000000)</td>\n",
              "    </tr>\n",
              "    <tr>\n",
              "      <th>101</th>\n",
              "      <td>Interval.Ropen(461.600000000000, 471.000000000...</td>\n",
              "      <td>0.427872340425534</td>\n",
              "      <td>Interval.Ropen(461.600000000000, 471.000000000...</td>\n",
              "    </tr>\n",
              "    <tr>\n",
              "      <th>102</th>\n",
              "      <td>Union(Interval.open(478.000000000000, 490.0000...</td>\n",
              "      <td>0.273514431239389</td>\n",
              "      <td>Interval.open(478.000000000000, 490.000000000000)</td>\n",
              "    </tr>\n",
              "    <tr>\n",
              "      <th>102</th>\n",
              "      <td>Union(Interval.open(478.000000000000, 490.0000...</td>\n",
              "      <td>0.273514431239389</td>\n",
              "      <td>Interval.open(491.000000000000, 505.200000000000)</td>\n",
              "    </tr>\n",
              "    <tr>\n",
              "      <th>102</th>\n",
              "      <td>Union(Interval.open(478.000000000000, 490.0000...</td>\n",
              "      <td>0.273514431239389</td>\n",
              "      <td>Interval.Lopen(508.750000000000, 512.000000000...</td>\n",
              "    </tr>\n",
              "    <tr>\n",
              "      <th>103</th>\n",
              "      <td>Interval(471.000000000000, 478.000000000000)</td>\n",
              "      <td>2.37000000000000</td>\n",
              "      <td>Interval(471.000000000000, 478.000000000000)</td>\n",
              "    </tr>\n",
              "    <tr>\n",
              "      <th>104</th>\n",
              "      <td>Interval(490.000000000000, 491.000000000000)</td>\n",
              "      <td>8.15000000000000</td>\n",
              "      <td>Interval(490.000000000000, 491.000000000000)</td>\n",
              "    </tr>\n",
              "    <tr>\n",
              "      <th>105</th>\n",
              "      <td>Union(Interval.Ropen(505.200000000000, 506.200...</td>\n",
              "      <td>0.870491803278683</td>\n",
              "      <td>Interval.Ropen(505.200000000000, 506.200000000...</td>\n",
              "    </tr>\n",
              "    <tr>\n",
              "      <th>105</th>\n",
              "      <td>Union(Interval.Ropen(505.200000000000, 506.200...</td>\n",
              "      <td>0.870491803278683</td>\n",
              "      <td>Interval.Lopen(506.700000000000, 508.750000000...</td>\n",
              "    </tr>\n",
              "    <tr>\n",
              "      <th>106</th>\n",
              "      <td>Interval(506.200000000000, 506.700000000000)</td>\n",
              "      <td>100.480000000000</td>\n",
              "      <td>Interval(506.200000000000, 506.700000000000)</td>\n",
              "    </tr>\n",
              "    <tr>\n",
              "      <th>107</th>\n",
              "      <td>Interval(600.000000000000, 620.000000000000)</td>\n",
              "      <td>0.520000000000000</td>\n",
              "      <td>Interval(600.000000000000, 620.000000000000)</td>\n",
              "    </tr>\n",
              "  </tbody>\n",
              "</table>\n",
              "</div>"
            ],
            "text/plain": [
              "                                              interval  ...                                    split_intervals\n",
              "95   Union(Interval.Ropen(110.000000000000, 111.400...  ...  Interval.Ropen(110.000000000000, 111.400000000...\n",
              "95   Union(Interval.Ropen(110.000000000000, 111.400...  ...  Interval.Lopen(113.100000000000, 116.100000000...\n",
              "96        Interval(111.400000000000, 113.100000000000)  ...       Interval(111.400000000000, 113.100000000000)\n",
              "97        Interval(274.000000000000, 299.000000000000)  ...       Interval(274.000000000000, 299.000000000000)\n",
              "98   Interval.Lopen(435.700000000000, 439.000000000...  ...  Interval.Lopen(435.700000000000, 439.000000000...\n",
              "99        Interval(432.900000000000, 435.700000000000)  ...       Interval(432.900000000000, 435.700000000000)\n",
              "100       Interval(445.000000000000, 452.000000000000)  ...       Interval(445.000000000000, 452.000000000000)\n",
              "101  Interval.Ropen(461.600000000000, 471.000000000...  ...  Interval.Ropen(461.600000000000, 471.000000000...\n",
              "102  Union(Interval.open(478.000000000000, 490.0000...  ...  Interval.open(478.000000000000, 490.000000000000)\n",
              "102  Union(Interval.open(478.000000000000, 490.0000...  ...  Interval.open(491.000000000000, 505.200000000000)\n",
              "102  Union(Interval.open(478.000000000000, 490.0000...  ...  Interval.Lopen(508.750000000000, 512.000000000...\n",
              "103       Interval(471.000000000000, 478.000000000000)  ...       Interval(471.000000000000, 478.000000000000)\n",
              "104       Interval(490.000000000000, 491.000000000000)  ...       Interval(490.000000000000, 491.000000000000)\n",
              "105  Union(Interval.Ropen(505.200000000000, 506.200...  ...  Interval.Ropen(505.200000000000, 506.200000000...\n",
              "105  Union(Interval.Ropen(505.200000000000, 506.200...  ...  Interval.Lopen(506.700000000000, 508.750000000...\n",
              "106       Interval(506.200000000000, 506.700000000000)  ...       Interval(506.200000000000, 506.700000000000)\n",
              "107       Interval(600.000000000000, 620.000000000000)  ...       Interval(600.000000000000, 620.000000000000)\n",
              "\n",
              "[17 rows x 3 columns]"
            ]
          },
          "metadata": {
            "tags": []
          },
          "execution_count": 102
        }
      ]
    },
    {
      "cell_type": "code",
      "metadata": {
        "id": "aNFDBR-_fdlr"
      },
      "source": [
        "rig_exploded['From'] = rig_exploded.split_intervals.apply(lambda x: x.start).astype(float)\r\n",
        "rig_exploded['To'] = rig_exploded.split_intervals.apply(lambda x: x.end).astype(float)\r\n",
        "rig_exploded['Width'] = (rig_exploded.To - rig_exploded.From).astype(float)\r\n",
        "\r\n",
        "rig_exploded['grade'] = rig_exploded.grade.astype(float)\r\n",
        "\r\n",
        "rig_exploded['drillhole'] = 'BR-022'\t"
      ],
      "execution_count": 122,
      "outputs": []
    },
    {
      "cell_type": "code",
      "metadata": {
        "colab": {
          "base_uri": "https://localhost:8080/",
          "height": 576
        },
        "id": "WV6iLiwcgZ3D",
        "outputId": "dc8f4bfb-3a1a-4679-c3cc-1b63c42dfdd2"
      },
      "source": [
        "rig_exploded[['From', 'To', 'grade', 'Width']]"
      ],
      "execution_count": 123,
      "outputs": [
        {
          "output_type": "execute_result",
          "data": {
            "text/html": [
              "<div>\n",
              "<style scoped>\n",
              "    .dataframe tbody tr th:only-of-type {\n",
              "        vertical-align: middle;\n",
              "    }\n",
              "\n",
              "    .dataframe tbody tr th {\n",
              "        vertical-align: top;\n",
              "    }\n",
              "\n",
              "    .dataframe thead th {\n",
              "        text-align: right;\n",
              "    }\n",
              "</style>\n",
              "<table border=\"1\" class=\"dataframe\">\n",
              "  <thead>\n",
              "    <tr style=\"text-align: right;\">\n",
              "      <th></th>\n",
              "      <th>From</th>\n",
              "      <th>To</th>\n",
              "      <th>grade</th>\n",
              "      <th>Width</th>\n",
              "    </tr>\n",
              "  </thead>\n",
              "  <tbody>\n",
              "    <tr>\n",
              "      <th>95</th>\n",
              "      <td>110.00</td>\n",
              "      <td>111.40</td>\n",
              "      <td>0.572273</td>\n",
              "      <td>1.40</td>\n",
              "    </tr>\n",
              "    <tr>\n",
              "      <th>95</th>\n",
              "      <td>113.10</td>\n",
              "      <td>116.10</td>\n",
              "      <td>0.572273</td>\n",
              "      <td>3.00</td>\n",
              "    </tr>\n",
              "    <tr>\n",
              "      <th>96</th>\n",
              "      <td>111.40</td>\n",
              "      <td>113.10</td>\n",
              "      <td>7.920000</td>\n",
              "      <td>1.70</td>\n",
              "    </tr>\n",
              "    <tr>\n",
              "      <th>97</th>\n",
              "      <td>274.00</td>\n",
              "      <td>299.00</td>\n",
              "      <td>0.190000</td>\n",
              "      <td>25.00</td>\n",
              "    </tr>\n",
              "    <tr>\n",
              "      <th>98</th>\n",
              "      <td>435.70</td>\n",
              "      <td>439.00</td>\n",
              "      <td>0.545758</td>\n",
              "      <td>3.30</td>\n",
              "    </tr>\n",
              "    <tr>\n",
              "      <th>99</th>\n",
              "      <td>432.90</td>\n",
              "      <td>435.70</td>\n",
              "      <td>8.180000</td>\n",
              "      <td>2.80</td>\n",
              "    </tr>\n",
              "    <tr>\n",
              "      <th>100</th>\n",
              "      <td>445.00</td>\n",
              "      <td>452.00</td>\n",
              "      <td>0.410000</td>\n",
              "      <td>7.00</td>\n",
              "    </tr>\n",
              "    <tr>\n",
              "      <th>101</th>\n",
              "      <td>461.60</td>\n",
              "      <td>471.00</td>\n",
              "      <td>0.427872</td>\n",
              "      <td>9.40</td>\n",
              "    </tr>\n",
              "    <tr>\n",
              "      <th>102</th>\n",
              "      <td>478.00</td>\n",
              "      <td>490.00</td>\n",
              "      <td>0.273514</td>\n",
              "      <td>12.00</td>\n",
              "    </tr>\n",
              "    <tr>\n",
              "      <th>102</th>\n",
              "      <td>491.00</td>\n",
              "      <td>505.20</td>\n",
              "      <td>0.273514</td>\n",
              "      <td>14.20</td>\n",
              "    </tr>\n",
              "    <tr>\n",
              "      <th>102</th>\n",
              "      <td>508.75</td>\n",
              "      <td>512.00</td>\n",
              "      <td>0.273514</td>\n",
              "      <td>3.25</td>\n",
              "    </tr>\n",
              "    <tr>\n",
              "      <th>103</th>\n",
              "      <td>471.00</td>\n",
              "      <td>478.00</td>\n",
              "      <td>2.370000</td>\n",
              "      <td>7.00</td>\n",
              "    </tr>\n",
              "    <tr>\n",
              "      <th>104</th>\n",
              "      <td>490.00</td>\n",
              "      <td>491.00</td>\n",
              "      <td>8.150000</td>\n",
              "      <td>1.00</td>\n",
              "    </tr>\n",
              "    <tr>\n",
              "      <th>105</th>\n",
              "      <td>505.20</td>\n",
              "      <td>506.20</td>\n",
              "      <td>0.870492</td>\n",
              "      <td>1.00</td>\n",
              "    </tr>\n",
              "    <tr>\n",
              "      <th>105</th>\n",
              "      <td>506.70</td>\n",
              "      <td>508.75</td>\n",
              "      <td>0.870492</td>\n",
              "      <td>2.05</td>\n",
              "    </tr>\n",
              "    <tr>\n",
              "      <th>106</th>\n",
              "      <td>506.20</td>\n",
              "      <td>506.70</td>\n",
              "      <td>100.480000</td>\n",
              "      <td>0.50</td>\n",
              "    </tr>\n",
              "    <tr>\n",
              "      <th>107</th>\n",
              "      <td>600.00</td>\n",
              "      <td>620.00</td>\n",
              "      <td>0.520000</td>\n",
              "      <td>20.00</td>\n",
              "    </tr>\n",
              "  </tbody>\n",
              "</table>\n",
              "</div>"
            ],
            "text/plain": [
              "       From      To       grade  Width\n",
              "95   110.00  111.40    0.572273   1.40\n",
              "95   113.10  116.10    0.572273   3.00\n",
              "96   111.40  113.10    7.920000   1.70\n",
              "97   274.00  299.00    0.190000  25.00\n",
              "98   435.70  439.00    0.545758   3.30\n",
              "99   432.90  435.70    8.180000   2.80\n",
              "100  445.00  452.00    0.410000   7.00\n",
              "101  461.60  471.00    0.427872   9.40\n",
              "102  478.00  490.00    0.273514  12.00\n",
              "102  491.00  505.20    0.273514  14.20\n",
              "102  508.75  512.00    0.273514   3.25\n",
              "103  471.00  478.00    2.370000   7.00\n",
              "104  490.00  491.00    8.150000   1.00\n",
              "105  505.20  506.20    0.870492   1.00\n",
              "105  506.70  508.75    0.870492   2.05\n",
              "106  506.20  506.70  100.480000   0.50\n",
              "107  600.00  620.00    0.520000  20.00"
            ]
          },
          "metadata": {
            "tags": []
          },
          "execution_count": 123
        }
      ]
    },
    {
      "cell_type": "code",
      "metadata": {
        "colab": {
          "base_uri": "https://localhost:8080/",
          "height": 163
        },
        "id": "XeEErfhDfAZK",
        "outputId": "11733dba-81f0-4cee-f29b-781f3a0ace0d"
      },
      "source": [
        "\r\n",
        "y_axis = alt.Axis(\r\n",
        "    title='Intercept ID',\r\n",
        "    offset=5,\r\n",
        "    ticks=False,\r\n",
        "    domain=False\r\n",
        ")\r\n",
        "\r\n",
        "\r\n",
        "reqd_cols = ['From', 'To', 'grade', 'Width', 'drillhole']\r\n",
        "\r\n",
        "\r\n",
        "alt.Chart(rig_exploded[reqd_cols]).mark_bar().encode(\r\n",
        "    alt.X('From:Q',\r\n",
        "        scale=alt.Scale(zero=False)),\r\n",
        "    x2='To:Q',\r\n",
        "    y=alt.Y('drillhole:N', axis=y_axis),\r\n",
        "    color=alt.Color('grade:Q', scale=alt.Scale(scheme=\"inferno\")),\r\n",
        "    tooltip=[\r\n",
        "        alt.Tooltip('Width:Q', title='Width'),\r\n",
        "        alt.Tooltip('grade:Q', title='Gold Grade')\r\n",
        "    ]\r\n",
        ").properties(width=800, height=100).configure(background='#D9E9F0').interactive()"
      ],
      "execution_count": 130,
      "outputs": [
        {
          "output_type": "execute_result",
          "data": {
            "text/plain": [
              "alt.Chart(...)"
            ],
            "text/html": [
              "\n",
              "<div id=\"altair-viz-2b8991bba7d04b1a868cd453a4cd56aa\"></div>\n",
              "<script type=\"text/javascript\">\n",
              "  (function(spec, embedOpt){\n",
              "    let outputDiv = document.currentScript.previousElementSibling;\n",
              "    if (outputDiv.id !== \"altair-viz-2b8991bba7d04b1a868cd453a4cd56aa\") {\n",
              "      outputDiv = document.getElementById(\"altair-viz-2b8991bba7d04b1a868cd453a4cd56aa\");\n",
              "    }\n",
              "    const paths = {\n",
              "      \"vega\": \"https://cdn.jsdelivr.net/npm//vega@5?noext\",\n",
              "      \"vega-lib\": \"https://cdn.jsdelivr.net/npm//vega-lib?noext\",\n",
              "      \"vega-lite\": \"https://cdn.jsdelivr.net/npm//vega-lite@4.8.1?noext\",\n",
              "      \"vega-embed\": \"https://cdn.jsdelivr.net/npm//vega-embed@6?noext\",\n",
              "    };\n",
              "\n",
              "    function loadScript(lib) {\n",
              "      return new Promise(function(resolve, reject) {\n",
              "        var s = document.createElement('script');\n",
              "        s.src = paths[lib];\n",
              "        s.async = true;\n",
              "        s.onload = () => resolve(paths[lib]);\n",
              "        s.onerror = () => reject(`Error loading script: ${paths[lib]}`);\n",
              "        document.getElementsByTagName(\"head\")[0].appendChild(s);\n",
              "      });\n",
              "    }\n",
              "\n",
              "    function showError(err) {\n",
              "      outputDiv.innerHTML = `<div class=\"error\" style=\"color:red;\">${err}</div>`;\n",
              "      throw err;\n",
              "    }\n",
              "\n",
              "    function displayChart(vegaEmbed) {\n",
              "      vegaEmbed(outputDiv, spec, embedOpt)\n",
              "        .catch(err => showError(`Javascript Error: ${err.message}<br>This usually means there's a typo in your chart specification. See the javascript console for the full traceback.`));\n",
              "    }\n",
              "\n",
              "    if(typeof define === \"function\" && define.amd) {\n",
              "      requirejs.config({paths});\n",
              "      require([\"vega-embed\"], displayChart, err => showError(`Error loading script: ${err.message}`));\n",
              "    } else if (typeof vegaEmbed === \"function\") {\n",
              "      displayChart(vegaEmbed);\n",
              "    } else {\n",
              "      loadScript(\"vega\")\n",
              "        .then(() => loadScript(\"vega-lite\"))\n",
              "        .then(() => loadScript(\"vega-embed\"))\n",
              "        .catch(showError)\n",
              "        .then(() => displayChart(vegaEmbed));\n",
              "    }\n",
              "  })({\"config\": {\"view\": {\"continuousWidth\": 400, \"continuousHeight\": 300}, \"background\": \"#D9E9F0\"}, \"data\": {\"name\": \"data-71d144e1a579f65593490446b05a8639\"}, \"mark\": \"bar\", \"encoding\": {\"color\": {\"type\": \"quantitative\", \"field\": \"grade\", \"scale\": {\"scheme\": \"inferno\"}}, \"tooltip\": [{\"type\": \"quantitative\", \"field\": \"Width\", \"title\": \"Width\"}, {\"type\": \"quantitative\", \"field\": \"grade\", \"title\": \"Gold Grade\"}], \"x\": {\"type\": \"quantitative\", \"field\": \"From\", \"scale\": {\"zero\": false}}, \"x2\": {\"field\": \"To\"}, \"y\": {\"type\": \"nominal\", \"axis\": {\"domain\": false, \"offset\": 5, \"ticks\": false, \"title\": \"Intercept ID\"}, \"field\": \"drillhole\"}}, \"height\": 100, \"selection\": {\"selector002\": {\"type\": \"interval\", \"bind\": \"scales\", \"encodings\": [\"x\", \"y\"]}}, \"width\": 800, \"$schema\": \"https://vega.github.io/schema/vega-lite/v4.8.1.json\", \"datasets\": {\"data-71d144e1a579f65593490446b05a8639\": [{\"From\": 110.0, \"To\": 111.4, \"grade\": 0.5722727272727263, \"Width\": 1.4000000000000057, \"drillhole\": \"BR-022\"}, {\"From\": 113.1, \"To\": 116.1, \"grade\": 0.5722727272727263, \"Width\": 3.0, \"drillhole\": \"BR-022\"}, {\"From\": 111.4, \"To\": 113.1, \"grade\": 7.920000000000053, \"Width\": 1.6999999999999886, \"drillhole\": \"BR-022\"}, {\"From\": 274.0, \"To\": 299.0, \"grade\": 0.19, \"Width\": 25.0, \"drillhole\": \"BR-022\"}, {\"From\": 435.7, \"To\": 439.0, \"grade\": 0.5457575757575744, \"Width\": 3.3000000000000114, \"drillhole\": \"BR-022\"}, {\"From\": 432.9, \"To\": 435.7, \"grade\": 8.179999999999966, \"Width\": 2.8000000000000114, \"drillhole\": \"BR-022\"}, {\"From\": 445.0, \"To\": 452.0, \"grade\": 0.4099999999999999, \"Width\": 7.0, \"drillhole\": \"BR-022\"}, {\"From\": 461.6, \"To\": 471.0, \"grade\": 0.4278723404255335, \"Width\": 9.399999999999977, \"drillhole\": \"BR-022\"}, {\"From\": 478.0, \"To\": 490.0, \"grade\": 0.2735144312393891, \"Width\": 12.0, \"drillhole\": \"BR-022\"}, {\"From\": 491.0, \"To\": 505.2, \"grade\": 0.2735144312393891, \"Width\": 14.199999999999989, \"drillhole\": \"BR-022\"}, {\"From\": 508.75, \"To\": 512.0, \"grade\": 0.2735144312393891, \"Width\": 3.25, \"drillhole\": \"BR-022\"}, {\"From\": 471.0, \"To\": 478.0, \"grade\": 2.3699999999999997, \"Width\": 7.0, \"drillhole\": \"BR-022\"}, {\"From\": 490.0, \"To\": 491.0, \"grade\": 8.15, \"Width\": 1.0, \"drillhole\": \"BR-022\"}, {\"From\": 505.2, \"To\": 506.2, \"grade\": 0.8704918032786833, \"Width\": 1.0, \"drillhole\": \"BR-022\"}, {\"From\": 506.7, \"To\": 508.75, \"grade\": 0.8704918032786833, \"Width\": 2.0500000000000114, \"drillhole\": \"BR-022\"}, {\"From\": 506.2, \"To\": 506.7, \"grade\": 100.48, \"Width\": 0.5, \"drillhole\": \"BR-022\"}, {\"From\": 600.0, \"To\": 620.0, \"grade\": 0.52, \"Width\": 20.0, \"drillhole\": \"BR-022\"}]}}, {\"mode\": \"vega-lite\"});\n",
              "</script>"
            ]
          },
          "metadata": {
            "tags": []
          },
          "execution_count": 130
        }
      ]
    }
  ]
}