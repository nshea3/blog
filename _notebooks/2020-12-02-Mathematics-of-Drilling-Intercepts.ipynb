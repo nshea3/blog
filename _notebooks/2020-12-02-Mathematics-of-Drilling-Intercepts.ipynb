{
  "nbformat": 4,
  "nbformat_minor": 0,
  "metadata": {
    "colab": {
      "name": "2020-12-02-Mathematics-of-Drilling-Intercepts.ipynb",
      "provenance": [],
      "collapsed_sections": [],
      "authorship_tag": "ABX9TyPUVsCXT0QL2MmcaIO01xcM",
      "include_colab_link": true
    },
    "kernelspec": {
      "name": "python3",
      "display_name": "Python 3"
    }
  },
  "cells": [
    {
      "cell_type": "markdown",
      "metadata": {
        "id": "view-in-github",
        "colab_type": "text"
      },
      "source": [
        "<a href=\"https://colab.research.google.com/github/nshea3/blog/blob/master/_notebooks/2020-12-02-Mathematics-of-Drilling-Intercepts.ipynb\" target=\"_parent\"><img src=\"https://colab.research.google.com/assets/colab-badge.svg\" alt=\"Open In Colab\"/></a>"
      ]
    },
    {
      "cell_type": "markdown",
      "metadata": {
        "id": "XmvMzXUWVDSM"
      },
      "source": [
        "\n",
        "# The Mathematics of Drilling Intercepts\n",
        "\n",
        "Drilling intercepts are a prominent feature of junior mining news releases. They are closely monitored by the mining investment community, and a particularly good intercept can raise the prospects for a project. \n",
        "\n",
        "As an example, consider this November 10 2020 release from Freegold Ventures:\n",
        "\n",
        "> *Freegold Intercepts 3.78 g/t Au Over 119 Metres Including 131.5 g/t Over 3 Metres Within 573 Metres of 1.21 g/t Au at Golden Summit*\n",
        "\n",
        "The market responded with a 3% boost in the share price the next trading day, so clearly this was regarded as a positive signal for the company's prospects. [(This is typical: capital markets tend to treat any news of this sort as good news.)](https://doi.org/10.1177%2F0312896212473401)\n",
        "\n",
        "The implications for the economic, geological, and engineering variables surrounding the project are much less clear. *Is this a good geological result? Is it a good engineering result?* Intercepts are *highlights*: incomplete data, collected and released selectively, so is it even possible to make an informed judgement using these numbers?\n",
        "\n",
        "To complicate things even further, the selectively reported drilling intercepts are usually reported in a rather complex manner, which can make it difficult to distinguish between truly good numbers and deceptively good results.  Drilling intercepts are discussed at great length in other sources (here and here and here) but we'll take a mathematical perspective and develop a model that describes nested intercept configurations of arbitrary complexity.\n",
        " \n",
        "We'll take Great Bear Resources for an extended example. Great Bear Resources is a Canadian junior mining company whose stock gained substantially on announcement of very high grade intercepts at their Dixie project in Ontario. At time of writing, GBR is trading at a $886 million CAD market cap (which is not very bearish at all!) \n",
        "\n",
        "<!-- TradingView Widget BEGIN -->\n",
        "<div class=\"tradingview-widget-container\">\n",
        "  <div class=\"tradingview-widget-container__widget\"></div>\n",
        "  <div class=\"tradingview-widget-copyright\"><a href=\"https://www.tradingview.com/symbols/TSXV-GBR/\" rel=\"noopener\" target=\"_blank\"><span class=\"blue-text\">GBR Price Today</span></a> by TradingView</div>\n",
        "  <script type=\"text/javascript\" src=\"https://s3.tradingview.com/external-embedding/embed-widget-single-quote.js\" async>\n",
        "  {\n",
        "  \"symbol\": \"TSXV:GBR\",\n",
        "  \"width\": \"100%\",\n",
        "  \"colorTheme\": \"light\",\n",
        "  \"isTransparent\": false,\n",
        "  \"locale\": \"en\"\n",
        "}\n",
        "  </script>\n",
        "</div>\n",
        "<!-- TradingView Widget END -->\n"
      ]
    },
    {
      "cell_type": "code",
      "metadata": {
        "colab": {
          "base_uri": "https://localhost:8080/"
        },
        "id": "Jcfrn30kT5sL",
        "outputId": "9d8c201b-fabd-4ee7-daab-007d38f00999"
      },
      "source": [
        "from google.colab import drive\n",
        "drive.mount('/content/drive')"
      ],
      "execution_count": null,
      "outputs": [
        {
          "output_type": "stream",
          "text": [
            "Mounted at /content/drive\n"
          ],
          "name": "stdout"
        }
      ]
    },
    {
      "cell_type": "code",
      "metadata": {
        "id": "PtdFKDo5V7Z3"
      },
      "source": [
        "import pandas as pd\n",
        "\n",
        "intercepts = pd.read_excel('drive/My Drive/Projects/posts/data/Great_Bear/lp_drill_hole_composites_all.xlsx')"
      ],
      "execution_count": null,
      "outputs": []
    },
    {
      "cell_type": "markdown",
      "metadata": {
        "id": "40qVjBXGX0ae"
      },
      "source": [
        "\n",
        "What are intercepts? \n",
        "This will be clearer when considering a single hole:"
      ]
    },
    {
      "cell_type": "code",
      "metadata": {
        "colab": {
          "base_uri": "https://localhost:8080/",
          "height": 473
        },
        "id": "aO1OLcT8ZlGM",
        "outputId": "ffe50ed1-e875-4d4e-f73c-75e8af7d9d02"
      },
      "source": [
        "dh_101 = intercepts[intercepts['Drill Hole'] == 'BR-101']\n",
        "dh_101"
      ],
      "execution_count": null,
      "outputs": [
        {
          "output_type": "execute_result",
          "data": {
            "text/html": [
              "<div>\n",
              "<style scoped>\n",
              "    .dataframe tbody tr th:only-of-type {\n",
              "        vertical-align: middle;\n",
              "    }\n",
              "\n",
              "    .dataframe tbody tr th {\n",
              "        vertical-align: top;\n",
              "    }\n",
              "\n",
              "    .dataframe thead th {\n",
              "        text-align: right;\n",
              "    }\n",
              "</style>\n",
              "<table border=\"1\" class=\"dataframe\">\n",
              "  <thead>\n",
              "    <tr style=\"text-align: right;\">\n",
              "      <th></th>\n",
              "      <th>Drill Hole</th>\n",
              "      <th>Unnamed: 1</th>\n",
              "      <th>From (m)</th>\n",
              "      <th>To (m)</th>\n",
              "      <th>Width (m)</th>\n",
              "      <th>Gold (g/t)</th>\n",
              "    </tr>\n",
              "  </thead>\n",
              "  <tbody>\n",
              "    <tr>\n",
              "      <th>398</th>\n",
              "      <td>BR-101</td>\n",
              "      <td>NaN</td>\n",
              "      <td>108.30</td>\n",
              "      <td>108.80</td>\n",
              "      <td>0.50</td>\n",
              "      <td>7.47</td>\n",
              "    </tr>\n",
              "    <tr>\n",
              "      <th>399</th>\n",
              "      <td>BR-101</td>\n",
              "      <td>and</td>\n",
              "      <td>120.30</td>\n",
              "      <td>133.00</td>\n",
              "      <td>12.70</td>\n",
              "      <td>0.51</td>\n",
              "    </tr>\n",
              "    <tr>\n",
              "      <th>400</th>\n",
              "      <td>BR-101</td>\n",
              "      <td>including</td>\n",
              "      <td>127.85</td>\n",
              "      <td>128.85</td>\n",
              "      <td>1.00</td>\n",
              "      <td>2.42</td>\n",
              "    </tr>\n",
              "    <tr>\n",
              "      <th>401</th>\n",
              "      <td>BR-101</td>\n",
              "      <td>and</td>\n",
              "      <td>143.00</td>\n",
              "      <td>160.00</td>\n",
              "      <td>17.00</td>\n",
              "      <td>0.17</td>\n",
              "    </tr>\n",
              "    <tr>\n",
              "      <th>402</th>\n",
              "      <td>BR-101</td>\n",
              "      <td>and</td>\n",
              "      <td>169.85</td>\n",
              "      <td>233.10</td>\n",
              "      <td>63.25</td>\n",
              "      <td>3.61</td>\n",
              "    </tr>\n",
              "    <tr>\n",
              "      <th>403</th>\n",
              "      <td>BR-101</td>\n",
              "      <td>including</td>\n",
              "      <td>169.85</td>\n",
              "      <td>222.00</td>\n",
              "      <td>52.15</td>\n",
              "      <td>4.24</td>\n",
              "    </tr>\n",
              "    <tr>\n",
              "      <th>404</th>\n",
              "      <td>BR-101</td>\n",
              "      <td>and including</td>\n",
              "      <td>195.00</td>\n",
              "      <td>198.00</td>\n",
              "      <td>3.00</td>\n",
              "      <td>42.70</td>\n",
              "    </tr>\n",
              "    <tr>\n",
              "      <th>405</th>\n",
              "      <td>BR-101</td>\n",
              "      <td>and including</td>\n",
              "      <td>195.50</td>\n",
              "      <td>197.50</td>\n",
              "      <td>2.00</td>\n",
              "      <td>61.73</td>\n",
              "    </tr>\n",
              "    <tr>\n",
              "      <th>406</th>\n",
              "      <td>BR-101</td>\n",
              "      <td>and including</td>\n",
              "      <td>197.00</td>\n",
              "      <td>197.50</td>\n",
              "      <td>0.50</td>\n",
              "      <td>118.00</td>\n",
              "    </tr>\n",
              "    <tr>\n",
              "      <th>407</th>\n",
              "      <td>BR-101</td>\n",
              "      <td>and including</td>\n",
              "      <td>211.90</td>\n",
              "      <td>222.00</td>\n",
              "      <td>10.10</td>\n",
              "      <td>5.91</td>\n",
              "    </tr>\n",
              "    <tr>\n",
              "      <th>408</th>\n",
              "      <td>BR-101</td>\n",
              "      <td>and including</td>\n",
              "      <td>211.90</td>\n",
              "      <td>221.00</td>\n",
              "      <td>9.10</td>\n",
              "      <td>6.50</td>\n",
              "    </tr>\n",
              "    <tr>\n",
              "      <th>409</th>\n",
              "      <td>BR-101</td>\n",
              "      <td>and including</td>\n",
              "      <td>211.90</td>\n",
              "      <td>217.00</td>\n",
              "      <td>5.10</td>\n",
              "      <td>7.68</td>\n",
              "    </tr>\n",
              "    <tr>\n",
              "      <th>410</th>\n",
              "      <td>BR-101</td>\n",
              "      <td>and including</td>\n",
              "      <td>212.45</td>\n",
              "      <td>218.00</td>\n",
              "      <td>5.55</td>\n",
              "      <td>7.82</td>\n",
              "    </tr>\n",
              "    <tr>\n",
              "      <th>411</th>\n",
              "      <td>BR-101</td>\n",
              "      <td>and including</td>\n",
              "      <td>216.00</td>\n",
              "      <td>218.00</td>\n",
              "      <td>2.00</td>\n",
              "      <td>8.21</td>\n",
              "    </tr>\n",
              "  </tbody>\n",
              "</table>\n",
              "</div>"
            ],
            "text/plain": [
              "    Drill Hole     Unnamed: 1  From (m)  To (m)  Width (m)  Gold (g/t)\n",
              "398     BR-101            NaN    108.30  108.80       0.50        7.47\n",
              "399     BR-101            and    120.30  133.00      12.70        0.51\n",
              "400     BR-101      including    127.85  128.85       1.00        2.42\n",
              "401     BR-101            and    143.00  160.00      17.00        0.17\n",
              "402     BR-101            and    169.85  233.10      63.25        3.61\n",
              "403     BR-101      including    169.85  222.00      52.15        4.24\n",
              "404     BR-101  and including    195.00  198.00       3.00       42.70\n",
              "405     BR-101  and including    195.50  197.50       2.00       61.73\n",
              "406     BR-101  and including    197.00  197.50       0.50      118.00\n",
              "407     BR-101  and including    211.90  222.00      10.10        5.91\n",
              "408     BR-101  and including    211.90  221.00       9.10        6.50\n",
              "409     BR-101  and including    211.90  217.00       5.10        7.68\n",
              "410     BR-101  and including    212.45  218.00       5.55        7.82\n",
              "411     BR-101  and including    216.00  218.00       2.00        8.21"
            ]
          },
          "metadata": {
            "tags": []
          },
          "execution_count": 4
        }
      ]
    },
    {
      "cell_type": "markdown",
      "metadata": {
        "id": "I_3h5OIjjtNJ"
      },
      "source": [
        "Many experienced mining investors immediately recognize these grades as very high, but the rest of us might need to rely on statistics, since we don't have the benefit of many years' experience with drilling results. \r\n",
        "\r\n",
        "Of course it is first necessary to determine the true assay values for each separate interval from top to bottom. As described above, the subinterval gold is INCLUDED in the parent interval calculatoin. So we can't just use the `Gold (g/t)` field directly, since intercepts are reported with \"highlights\", or higher grade sections within the longer interval. \r\n",
        "\r\n",
        "Sometimes this convention is used unethically to suggest larger intervals of enrichment than truly exist. This is called \"grade smearing\" and the method of residual grade calculation applied here will detect any such attempt to disguise poor results. "
      ]
    },
    {
      "cell_type": "code",
      "metadata": {
        "colab": {
          "base_uri": "https://localhost:8080/"
        },
        "id": "ilY59-Fod7Qk",
        "outputId": "5e0758c3-b236-4e5b-bd0e-292f57ba794b"
      },
      "source": [
        "dh_101['Record'] = dh_101.index"
      ],
      "execution_count": null,
      "outputs": [
        {
          "output_type": "stream",
          "text": [
            "/usr/local/lib/python3.6/dist-packages/ipykernel_launcher.py:1: SettingWithCopyWarning: \n",
            "A value is trying to be set on a copy of a slice from a DataFrame.\n",
            "Try using .loc[row_indexer,col_indexer] = value instead\n",
            "\n",
            "See the caveats in the documentation: https://pandas.pydata.org/pandas-docs/stable/user_guide/indexing.html#returning-a-view-versus-a-copy\n",
            "  \"\"\"Entry point for launching an IPython kernel.\n"
          ],
          "name": "stderr"
        }
      ]
    },
    {
      "cell_type": "code",
      "metadata": {
        "colab": {
          "base_uri": "https://localhost:8080/",
          "height": 473
        },
        "id": "nVJOTJ1ceIrJ",
        "outputId": "3ddf82ad-40a1-4a04-875b-ccd9b380dcde"
      },
      "source": [
        "dh_101"
      ],
      "execution_count": null,
      "outputs": [
        {
          "output_type": "execute_result",
          "data": {
            "text/html": [
              "<div>\n",
              "<style scoped>\n",
              "    .dataframe tbody tr th:only-of-type {\n",
              "        vertical-align: middle;\n",
              "    }\n",
              "\n",
              "    .dataframe tbody tr th {\n",
              "        vertical-align: top;\n",
              "    }\n",
              "\n",
              "    .dataframe thead th {\n",
              "        text-align: right;\n",
              "    }\n",
              "</style>\n",
              "<table border=\"1\" class=\"dataframe\">\n",
              "  <thead>\n",
              "    <tr style=\"text-align: right;\">\n",
              "      <th></th>\n",
              "      <th>Drill Hole</th>\n",
              "      <th>Unnamed: 1</th>\n",
              "      <th>From (m)</th>\n",
              "      <th>To (m)</th>\n",
              "      <th>Width (m)</th>\n",
              "      <th>Gold (g/t)</th>\n",
              "      <th>Record</th>\n",
              "    </tr>\n",
              "  </thead>\n",
              "  <tbody>\n",
              "    <tr>\n",
              "      <th>398</th>\n",
              "      <td>BR-101</td>\n",
              "      <td>NaN</td>\n",
              "      <td>108.30</td>\n",
              "      <td>108.80</td>\n",
              "      <td>0.50</td>\n",
              "      <td>7.47</td>\n",
              "      <td>398</td>\n",
              "    </tr>\n",
              "    <tr>\n",
              "      <th>399</th>\n",
              "      <td>BR-101</td>\n",
              "      <td>and</td>\n",
              "      <td>120.30</td>\n",
              "      <td>133.00</td>\n",
              "      <td>12.70</td>\n",
              "      <td>0.51</td>\n",
              "      <td>399</td>\n",
              "    </tr>\n",
              "    <tr>\n",
              "      <th>400</th>\n",
              "      <td>BR-101</td>\n",
              "      <td>including</td>\n",
              "      <td>127.85</td>\n",
              "      <td>128.85</td>\n",
              "      <td>1.00</td>\n",
              "      <td>2.42</td>\n",
              "      <td>400</td>\n",
              "    </tr>\n",
              "    <tr>\n",
              "      <th>401</th>\n",
              "      <td>BR-101</td>\n",
              "      <td>and</td>\n",
              "      <td>143.00</td>\n",
              "      <td>160.00</td>\n",
              "      <td>17.00</td>\n",
              "      <td>0.17</td>\n",
              "      <td>401</td>\n",
              "    </tr>\n",
              "    <tr>\n",
              "      <th>402</th>\n",
              "      <td>BR-101</td>\n",
              "      <td>and</td>\n",
              "      <td>169.85</td>\n",
              "      <td>233.10</td>\n",
              "      <td>63.25</td>\n",
              "      <td>3.61</td>\n",
              "      <td>402</td>\n",
              "    </tr>\n",
              "    <tr>\n",
              "      <th>403</th>\n",
              "      <td>BR-101</td>\n",
              "      <td>including</td>\n",
              "      <td>169.85</td>\n",
              "      <td>222.00</td>\n",
              "      <td>52.15</td>\n",
              "      <td>4.24</td>\n",
              "      <td>403</td>\n",
              "    </tr>\n",
              "    <tr>\n",
              "      <th>404</th>\n",
              "      <td>BR-101</td>\n",
              "      <td>and including</td>\n",
              "      <td>195.00</td>\n",
              "      <td>198.00</td>\n",
              "      <td>3.00</td>\n",
              "      <td>42.70</td>\n",
              "      <td>404</td>\n",
              "    </tr>\n",
              "    <tr>\n",
              "      <th>405</th>\n",
              "      <td>BR-101</td>\n",
              "      <td>and including</td>\n",
              "      <td>195.50</td>\n",
              "      <td>197.50</td>\n",
              "      <td>2.00</td>\n",
              "      <td>61.73</td>\n",
              "      <td>405</td>\n",
              "    </tr>\n",
              "    <tr>\n",
              "      <th>406</th>\n",
              "      <td>BR-101</td>\n",
              "      <td>and including</td>\n",
              "      <td>197.00</td>\n",
              "      <td>197.50</td>\n",
              "      <td>0.50</td>\n",
              "      <td>118.00</td>\n",
              "      <td>406</td>\n",
              "    </tr>\n",
              "    <tr>\n",
              "      <th>407</th>\n",
              "      <td>BR-101</td>\n",
              "      <td>and including</td>\n",
              "      <td>211.90</td>\n",
              "      <td>222.00</td>\n",
              "      <td>10.10</td>\n",
              "      <td>5.91</td>\n",
              "      <td>407</td>\n",
              "    </tr>\n",
              "    <tr>\n",
              "      <th>408</th>\n",
              "      <td>BR-101</td>\n",
              "      <td>and including</td>\n",
              "      <td>211.90</td>\n",
              "      <td>221.00</td>\n",
              "      <td>9.10</td>\n",
              "      <td>6.50</td>\n",
              "      <td>408</td>\n",
              "    </tr>\n",
              "    <tr>\n",
              "      <th>409</th>\n",
              "      <td>BR-101</td>\n",
              "      <td>and including</td>\n",
              "      <td>211.90</td>\n",
              "      <td>217.00</td>\n",
              "      <td>5.10</td>\n",
              "      <td>7.68</td>\n",
              "      <td>409</td>\n",
              "    </tr>\n",
              "    <tr>\n",
              "      <th>410</th>\n",
              "      <td>BR-101</td>\n",
              "      <td>and including</td>\n",
              "      <td>212.45</td>\n",
              "      <td>218.00</td>\n",
              "      <td>5.55</td>\n",
              "      <td>7.82</td>\n",
              "      <td>410</td>\n",
              "    </tr>\n",
              "    <tr>\n",
              "      <th>411</th>\n",
              "      <td>BR-101</td>\n",
              "      <td>and including</td>\n",
              "      <td>216.00</td>\n",
              "      <td>218.00</td>\n",
              "      <td>2.00</td>\n",
              "      <td>8.21</td>\n",
              "      <td>411</td>\n",
              "    </tr>\n",
              "  </tbody>\n",
              "</table>\n",
              "</div>"
            ],
            "text/plain": [
              "    Drill Hole     Unnamed: 1  From (m)  To (m)  Width (m)  Gold (g/t)  Record\n",
              "398     BR-101            NaN    108.30  108.80       0.50        7.47     398\n",
              "399     BR-101            and    120.30  133.00      12.70        0.51     399\n",
              "400     BR-101      including    127.85  128.85       1.00        2.42     400\n",
              "401     BR-101            and    143.00  160.00      17.00        0.17     401\n",
              "402     BR-101            and    169.85  233.10      63.25        3.61     402\n",
              "403     BR-101      including    169.85  222.00      52.15        4.24     403\n",
              "404     BR-101  and including    195.00  198.00       3.00       42.70     404\n",
              "405     BR-101  and including    195.50  197.50       2.00       61.73     405\n",
              "406     BR-101  and including    197.00  197.50       0.50      118.00     406\n",
              "407     BR-101  and including    211.90  222.00      10.10        5.91     407\n",
              "408     BR-101  and including    211.90  221.00       9.10        6.50     408\n",
              "409     BR-101  and including    211.90  217.00       5.10        7.68     409\n",
              "410     BR-101  and including    212.45  218.00       5.55        7.82     410\n",
              "411     BR-101  and including    216.00  218.00       2.00        8.21     411"
            ]
          },
          "metadata": {
            "tags": []
          },
          "execution_count": 6
        }
      ]
    },
    {
      "cell_type": "markdown",
      "metadata": {
        "id": "gq8P-j-yqFfm"
      },
      "source": [
        "At first it may seem like the correct interpretation of these intervals is to imagine them intervals stacked on top of one another, but this is very misleading. We can easily visualize this to see the error:\n"
      ]
    },
    {
      "cell_type": "code",
      "metadata": {
        "colab": {
          "base_uri": "https://localhost:8080/",
          "height": 163
        },
        "id": "dDwSOPichGGa",
        "outputId": "2e0d81a2-a9c1-44fe-ebdb-8e1223cd5ba9"
      },
      "source": [
        "import altair as alt\n",
        "\n",
        "y_axis = alt.Axis(\n",
        "    title='Intercept ID',\n",
        "    offset=5,\n",
        "    ticks=False,\n",
        "    domain=False\n",
        ")\n",
        "\n",
        "alt.Chart(dh_101).mark_bar().encode(\n",
        "    alt.X('From (m):Q',\n",
        "        scale=alt.Scale(zero=False)),\n",
        "    x2='To (m):Q',\n",
        "    y=alt.Y('Drill Hole:N', axis=y_axis),\n",
        "    color=alt.Color('Gold (g/t):Q', scale=alt.Scale(scheme=\"inferno\")),\n",
        "    tooltip=[\n",
        "        alt.Tooltip('Width (m):Q', title='Width'),\n",
        "        alt.Tooltip('Gold (g/t):Q', title='Gold Grade')\n",
        "    ]\n",
        ").properties(width=800, height=100).configure(background='#D9E9F0')"
      ],
      "execution_count": null,
      "outputs": [
        {
          "output_type": "execute_result",
          "data": {
            "text/plain": [
              "alt.Chart(...)"
            ],
            "text/html": [
              "\n",
              "<div id=\"altair-viz-c69d400be53c4e07a2d250ced157fd9f\"></div>\n",
              "<script type=\"text/javascript\">\n",
              "  (function(spec, embedOpt){\n",
              "    let outputDiv = document.currentScript.previousElementSibling;\n",
              "    if (outputDiv.id !== \"altair-viz-c69d400be53c4e07a2d250ced157fd9f\") {\n",
              "      outputDiv = document.getElementById(\"altair-viz-c69d400be53c4e07a2d250ced157fd9f\");\n",
              "    }\n",
              "    const paths = {\n",
              "      \"vega\": \"https://cdn.jsdelivr.net/npm//vega@5?noext\",\n",
              "      \"vega-lib\": \"https://cdn.jsdelivr.net/npm//vega-lib?noext\",\n",
              "      \"vega-lite\": \"https://cdn.jsdelivr.net/npm//vega-lite@4.8.1?noext\",\n",
              "      \"vega-embed\": \"https://cdn.jsdelivr.net/npm//vega-embed@6?noext\",\n",
              "    };\n",
              "\n",
              "    function loadScript(lib) {\n",
              "      return new Promise(function(resolve, reject) {\n",
              "        var s = document.createElement('script');\n",
              "        s.src = paths[lib];\n",
              "        s.async = true;\n",
              "        s.onload = () => resolve(paths[lib]);\n",
              "        s.onerror = () => reject(`Error loading script: ${paths[lib]}`);\n",
              "        document.getElementsByTagName(\"head\")[0].appendChild(s);\n",
              "      });\n",
              "    }\n",
              "\n",
              "    function showError(err) {\n",
              "      outputDiv.innerHTML = `<div class=\"error\" style=\"color:red;\">${err}</div>`;\n",
              "      throw err;\n",
              "    }\n",
              "\n",
              "    function displayChart(vegaEmbed) {\n",
              "      vegaEmbed(outputDiv, spec, embedOpt)\n",
              "        .catch(err => showError(`Javascript Error: ${err.message}<br>This usually means there's a typo in your chart specification. See the javascript console for the full traceback.`));\n",
              "    }\n",
              "\n",
              "    if(typeof define === \"function\" && define.amd) {\n",
              "      requirejs.config({paths});\n",
              "      require([\"vega-embed\"], displayChart, err => showError(`Error loading script: ${err.message}`));\n",
              "    } else if (typeof vegaEmbed === \"function\") {\n",
              "      displayChart(vegaEmbed);\n",
              "    } else {\n",
              "      loadScript(\"vega\")\n",
              "        .then(() => loadScript(\"vega-lite\"))\n",
              "        .then(() => loadScript(\"vega-embed\"))\n",
              "        .catch(showError)\n",
              "        .then(() => displayChart(vegaEmbed));\n",
              "    }\n",
              "  })({\"config\": {\"view\": {\"continuousWidth\": 400, \"continuousHeight\": 300}, \"background\": \"#D9E9F0\"}, \"data\": {\"name\": \"data-79954e75b9e39f2509a97836bd76bb3c\"}, \"mark\": \"bar\", \"encoding\": {\"color\": {\"type\": \"quantitative\", \"field\": \"Gold (g/t)\", \"scale\": {\"scheme\": \"inferno\"}}, \"tooltip\": [{\"type\": \"quantitative\", \"field\": \"Width (m)\", \"title\": \"Width\"}, {\"type\": \"quantitative\", \"field\": \"Gold (g/t)\", \"title\": \"Gold Grade\"}], \"x\": {\"type\": \"quantitative\", \"field\": \"From (m)\", \"scale\": {\"zero\": false}}, \"x2\": {\"field\": \"To (m)\"}, \"y\": {\"type\": \"nominal\", \"axis\": {\"domain\": false, \"offset\": 5, \"ticks\": false, \"title\": \"Intercept ID\"}, \"field\": \"Drill Hole\"}}, \"height\": 100, \"width\": 800, \"$schema\": \"https://vega.github.io/schema/vega-lite/v4.8.1.json\", \"datasets\": {\"data-79954e75b9e39f2509a97836bd76bb3c\": [{\"Drill Hole\": \"BR-101\", \"Unnamed: 1\": null, \"From (m)\": 108.3, \"To (m)\": 108.8, \"Width (m)\": 0.5, \"Gold (g/t)\": 7.47, \"Record\": 398}, {\"Drill Hole\": \"BR-101\", \"Unnamed: 1\": \"and\", \"From (m)\": 120.3, \"To (m)\": 133.0, \"Width (m)\": 12.7, \"Gold (g/t)\": 0.51, \"Record\": 399}, {\"Drill Hole\": \"BR-101\", \"Unnamed: 1\": \"including\", \"From (m)\": 127.85, \"To (m)\": 128.85, \"Width (m)\": 1.0, \"Gold (g/t)\": 2.42, \"Record\": 400}, {\"Drill Hole\": \"BR-101\", \"Unnamed: 1\": \"and\", \"From (m)\": 143.0, \"To (m)\": 160.0, \"Width (m)\": 17.0, \"Gold (g/t)\": 0.17, \"Record\": 401}, {\"Drill Hole\": \"BR-101\", \"Unnamed: 1\": \"and\", \"From (m)\": 169.85, \"To (m)\": 233.1, \"Width (m)\": 63.25, \"Gold (g/t)\": 3.61, \"Record\": 402}, {\"Drill Hole\": \"BR-101\", \"Unnamed: 1\": \"including\", \"From (m)\": 169.85, \"To (m)\": 222.0, \"Width (m)\": 52.15, \"Gold (g/t)\": 4.24, \"Record\": 403}, {\"Drill Hole\": \"BR-101\", \"Unnamed: 1\": \"and including\", \"From (m)\": 195.0, \"To (m)\": 198.0, \"Width (m)\": 3.0, \"Gold (g/t)\": 42.7, \"Record\": 404}, {\"Drill Hole\": \"BR-101\", \"Unnamed: 1\": \"and including\", \"From (m)\": 195.5, \"To (m)\": 197.5, \"Width (m)\": 2.0, \"Gold (g/t)\": 61.73, \"Record\": 405}, {\"Drill Hole\": \"BR-101\", \"Unnamed: 1\": \"and including\", \"From (m)\": 197.0, \"To (m)\": 197.5, \"Width (m)\": 0.5, \"Gold (g/t)\": 118.0, \"Record\": 406}, {\"Drill Hole\": \"BR-101\", \"Unnamed: 1\": \"and including\", \"From (m)\": 211.9, \"To (m)\": 222.0, \"Width (m)\": 10.1, \"Gold (g/t)\": 5.91, \"Record\": 407}, {\"Drill Hole\": \"BR-101\", \"Unnamed: 1\": \"and including\", \"From (m)\": 211.9, \"To (m)\": 221.0, \"Width (m)\": 9.1, \"Gold (g/t)\": 6.5, \"Record\": 408}, {\"Drill Hole\": \"BR-101\", \"Unnamed: 1\": \"and including\", \"From (m)\": 211.9, \"To (m)\": 217.0, \"Width (m)\": 5.1, \"Gold (g/t)\": 7.68, \"Record\": 409}, {\"Drill Hole\": \"BR-101\", \"Unnamed: 1\": \"and including\", \"From (m)\": 212.45, \"To (m)\": 218.0, \"Width (m)\": 5.55, \"Gold (g/t)\": 7.82, \"Record\": 410}, {\"Drill Hole\": \"BR-101\", \"Unnamed: 1\": \"and including\", \"From (m)\": 216.0, \"To (m)\": 218.0, \"Width (m)\": 2.0, \"Gold (g/t)\": 8.21, \"Record\": 411}]}}, {\"mode\": \"vega-lite\"});\n",
              "</script>"
            ]
          },
          "metadata": {
            "tags": []
          },
          "execution_count": 7
        }
      ]
    },
    {
      "cell_type": "markdown",
      "metadata": {
        "id": "pNmqkY_HoY8m"
      },
      "source": [
        "- Example:\r\n",
        "\r\n",
        "\r\n",
        "\r\n",
        "\r\n",
        "\r\n",
        "- This is actually a fairly complicated question. \r\n",
        "- Parent intervals can have no child intervals, a single child interval, or several child intervals. \r\n",
        "- Child intervals themselves can have no child intervals, a single child interval, or several child intervals \r\n",
        "- We only have the total grade, INCLUDING the high-grade, child subintervals. Considering it in that way ignores the fact that the high-grade intervals are included in the wider, lower-grade intervals, inflating the grade measured over that length. This has enormous implications for the *continuity* of the mineralization, which determines the feasibility of the project. \r\n",
        "\r\n",
        "In order to eliminate this effect we'll need to do some math with the intercepts. This visualization attempts to show this hierarchical, branching structure:"
      ]
    },
    {
      "cell_type": "code",
      "metadata": {
        "colab": {
          "base_uri": "https://localhost:8080/",
          "height": 463
        },
        "id": "3q9YMV7UdDCl",
        "outputId": "929d2685-4ad8-452b-bc9e-86d79c43114f"
      },
      "source": [
        "import altair as alt\n",
        "\n",
        "y_axis = alt.Axis(\n",
        "    title='Interval ID',\n",
        "    offset=5,\n",
        "    ticks=False,\n",
        "    domain=False\n",
        ")\n",
        "\n",
        "alt.Chart(dh_101).mark_bar().encode(\n",
        "    alt.X('From (m):Q',\n",
        "        scale=alt.Scale(zero=False)),\n",
        "    x2='To (m):Q',\n",
        "    y=alt.Y('Record:N', axis=y_axis),\n",
        "    color=alt.Color('Gold (g/t):Q', scale=alt.Scale(scheme=\"inferno\")),\n",
        "    tooltip=[\n",
        "        alt.Tooltip('Width (m):Q', title='Width'),\n",
        "        alt.Tooltip('Gold (g/t):Q', title='Gold Grade')\n",
        "    ]\n",
        ").properties(width=800, height=400).configure(background='#D9E9F0')"
      ],
      "execution_count": null,
      "outputs": [
        {
          "output_type": "execute_result",
          "data": {
            "text/plain": [
              "alt.Chart(...)"
            ],
            "text/html": [
              "\n",
              "<div id=\"altair-viz-2bbaac98d0764bf5b1d8d90ff1e5a124\"></div>\n",
              "<script type=\"text/javascript\">\n",
              "  (function(spec, embedOpt){\n",
              "    let outputDiv = document.currentScript.previousElementSibling;\n",
              "    if (outputDiv.id !== \"altair-viz-2bbaac98d0764bf5b1d8d90ff1e5a124\") {\n",
              "      outputDiv = document.getElementById(\"altair-viz-2bbaac98d0764bf5b1d8d90ff1e5a124\");\n",
              "    }\n",
              "    const paths = {\n",
              "      \"vega\": \"https://cdn.jsdelivr.net/npm//vega@5?noext\",\n",
              "      \"vega-lib\": \"https://cdn.jsdelivr.net/npm//vega-lib?noext\",\n",
              "      \"vega-lite\": \"https://cdn.jsdelivr.net/npm//vega-lite@4.8.1?noext\",\n",
              "      \"vega-embed\": \"https://cdn.jsdelivr.net/npm//vega-embed@6?noext\",\n",
              "    };\n",
              "\n",
              "    function loadScript(lib) {\n",
              "      return new Promise(function(resolve, reject) {\n",
              "        var s = document.createElement('script');\n",
              "        s.src = paths[lib];\n",
              "        s.async = true;\n",
              "        s.onload = () => resolve(paths[lib]);\n",
              "        s.onerror = () => reject(`Error loading script: ${paths[lib]}`);\n",
              "        document.getElementsByTagName(\"head\")[0].appendChild(s);\n",
              "      });\n",
              "    }\n",
              "\n",
              "    function showError(err) {\n",
              "      outputDiv.innerHTML = `<div class=\"error\" style=\"color:red;\">${err}</div>`;\n",
              "      throw err;\n",
              "    }\n",
              "\n",
              "    function displayChart(vegaEmbed) {\n",
              "      vegaEmbed(outputDiv, spec, embedOpt)\n",
              "        .catch(err => showError(`Javascript Error: ${err.message}<br>This usually means there's a typo in your chart specification. See the javascript console for the full traceback.`));\n",
              "    }\n",
              "\n",
              "    if(typeof define === \"function\" && define.amd) {\n",
              "      requirejs.config({paths});\n",
              "      require([\"vega-embed\"], displayChart, err => showError(`Error loading script: ${err.message}`));\n",
              "    } else if (typeof vegaEmbed === \"function\") {\n",
              "      displayChart(vegaEmbed);\n",
              "    } else {\n",
              "      loadScript(\"vega\")\n",
              "        .then(() => loadScript(\"vega-lite\"))\n",
              "        .then(() => loadScript(\"vega-embed\"))\n",
              "        .catch(showError)\n",
              "        .then(() => displayChart(vegaEmbed));\n",
              "    }\n",
              "  })({\"config\": {\"view\": {\"continuousWidth\": 400, \"continuousHeight\": 300}, \"background\": \"#D9E9F0\"}, \"data\": {\"name\": \"data-79954e75b9e39f2509a97836bd76bb3c\"}, \"mark\": \"bar\", \"encoding\": {\"color\": {\"type\": \"quantitative\", \"field\": \"Gold (g/t)\", \"scale\": {\"scheme\": \"inferno\"}}, \"tooltip\": [{\"type\": \"quantitative\", \"field\": \"Width (m)\", \"title\": \"Width\"}, {\"type\": \"quantitative\", \"field\": \"Gold (g/t)\", \"title\": \"Gold Grade\"}], \"x\": {\"type\": \"quantitative\", \"field\": \"From (m)\", \"scale\": {\"zero\": false}}, \"x2\": {\"field\": \"To (m)\"}, \"y\": {\"type\": \"nominal\", \"axis\": {\"domain\": false, \"offset\": 5, \"ticks\": false, \"title\": \"Interval ID\"}, \"field\": \"Record\"}}, \"height\": 400, \"width\": 800, \"$schema\": \"https://vega.github.io/schema/vega-lite/v4.8.1.json\", \"datasets\": {\"data-79954e75b9e39f2509a97836bd76bb3c\": [{\"Drill Hole\": \"BR-101\", \"Unnamed: 1\": null, \"From (m)\": 108.3, \"To (m)\": 108.8, \"Width (m)\": 0.5, \"Gold (g/t)\": 7.47, \"Record\": 398}, {\"Drill Hole\": \"BR-101\", \"Unnamed: 1\": \"and\", \"From (m)\": 120.3, \"To (m)\": 133.0, \"Width (m)\": 12.7, \"Gold (g/t)\": 0.51, \"Record\": 399}, {\"Drill Hole\": \"BR-101\", \"Unnamed: 1\": \"including\", \"From (m)\": 127.85, \"To (m)\": 128.85, \"Width (m)\": 1.0, \"Gold (g/t)\": 2.42, \"Record\": 400}, {\"Drill Hole\": \"BR-101\", \"Unnamed: 1\": \"and\", \"From (m)\": 143.0, \"To (m)\": 160.0, \"Width (m)\": 17.0, \"Gold (g/t)\": 0.17, \"Record\": 401}, {\"Drill Hole\": \"BR-101\", \"Unnamed: 1\": \"and\", \"From (m)\": 169.85, \"To (m)\": 233.1, \"Width (m)\": 63.25, \"Gold (g/t)\": 3.61, \"Record\": 402}, {\"Drill Hole\": \"BR-101\", \"Unnamed: 1\": \"including\", \"From (m)\": 169.85, \"To (m)\": 222.0, \"Width (m)\": 52.15, \"Gold (g/t)\": 4.24, \"Record\": 403}, {\"Drill Hole\": \"BR-101\", \"Unnamed: 1\": \"and including\", \"From (m)\": 195.0, \"To (m)\": 198.0, \"Width (m)\": 3.0, \"Gold (g/t)\": 42.7, \"Record\": 404}, {\"Drill Hole\": \"BR-101\", \"Unnamed: 1\": \"and including\", \"From (m)\": 195.5, \"To (m)\": 197.5, \"Width (m)\": 2.0, \"Gold (g/t)\": 61.73, \"Record\": 405}, {\"Drill Hole\": \"BR-101\", \"Unnamed: 1\": \"and including\", \"From (m)\": 197.0, \"To (m)\": 197.5, \"Width (m)\": 0.5, \"Gold (g/t)\": 118.0, \"Record\": 406}, {\"Drill Hole\": \"BR-101\", \"Unnamed: 1\": \"and including\", \"From (m)\": 211.9, \"To (m)\": 222.0, \"Width (m)\": 10.1, \"Gold (g/t)\": 5.91, \"Record\": 407}, {\"Drill Hole\": \"BR-101\", \"Unnamed: 1\": \"and including\", \"From (m)\": 211.9, \"To (m)\": 221.0, \"Width (m)\": 9.1, \"Gold (g/t)\": 6.5, \"Record\": 408}, {\"Drill Hole\": \"BR-101\", \"Unnamed: 1\": \"and including\", \"From (m)\": 211.9, \"To (m)\": 217.0, \"Width (m)\": 5.1, \"Gold (g/t)\": 7.68, \"Record\": 409}, {\"Drill Hole\": \"BR-101\", \"Unnamed: 1\": \"and including\", \"From (m)\": 212.45, \"To (m)\": 218.0, \"Width (m)\": 5.55, \"Gold (g/t)\": 7.82, \"Record\": 410}, {\"Drill Hole\": \"BR-101\", \"Unnamed: 1\": \"and including\", \"From (m)\": 216.0, \"To (m)\": 218.0, \"Width (m)\": 2.0, \"Gold (g/t)\": 8.21, \"Record\": 411}]}}, {\"mode\": \"vega-lite\"});\n",
              "</script>"
            ]
          },
          "metadata": {
            "tags": []
          },
          "execution_count": 8
        }
      ]
    },
    {
      "cell_type": "markdown",
      "metadata": {
        "id": "W_fS--jIS__x"
      },
      "source": [
        "\r\n",
        "\r\n",
        "Plotted side by side, the intercepts show the parent-child overlapping relationship and capture the complexity of the problem. \r\n",
        "\r\n",
        "- The parent-child relationship can be expressed in a matrix form.\r\n",
        "\r\n",
        "- Imagine "
      ]
    },
    {
      "cell_type": "code",
      "metadata": {
        "colab": {
          "base_uri": "https://localhost:8080/"
        },
        "id": "FW7mDaampK6I",
        "outputId": "f55c8729-0457-4262-d950-2a714fb2bf0d"
      },
      "source": [
        "!pip install anytree"
      ],
      "execution_count": null,
      "outputs": [
        {
          "output_type": "stream",
          "text": [
            "Collecting anytree\n",
            "\u001b[?25l  Downloading https://files.pythonhosted.org/packages/a8/65/be23d8c3ecd68d40541d49812cd94ed0f3ee37eb88669ca15df0e43daed1/anytree-2.8.0-py2.py3-none-any.whl (41kB)\n",
            "\r\u001b[K     |███████▉                        | 10kB 14.8MB/s eta 0:00:01\r\u001b[K     |███████████████▊                | 20kB 16.6MB/s eta 0:00:01\r\u001b[K     |███████████████████████▋        | 30kB 8.4MB/s eta 0:00:01\r\u001b[K     |███████████████████████████████▍| 40kB 8.3MB/s eta 0:00:01\r\u001b[K     |████████████████████████████████| 51kB 2.8MB/s \n",
            "\u001b[?25hRequirement already satisfied: six>=1.9.0 in /usr/local/lib/python3.6/dist-packages (from anytree) (1.15.0)\n",
            "Installing collected packages: anytree\n",
            "Successfully installed anytree-2.8.0\n"
          ],
          "name": "stdout"
        }
      ]
    },
    {
      "cell_type": "code",
      "metadata": {
        "id": "e0w6yH3mqrXE"
      },
      "source": [
        "from anytree import Node, RenderTree\n",
        "\n",
        "#nodes = [Node()]"
      ],
      "execution_count": null,
      "outputs": []
    },
    {
      "cell_type": "markdown",
      "metadata": {
        "id": "fsDicO3WsB1a"
      },
      "source": [
        "We can use a cool feature of Pandas and convert the From and To fields to intervals"
      ]
    },
    {
      "cell_type": "code",
      "metadata": {
        "id": "SpSXY_2bru8l"
      },
      "source": [
        "#dh_101['Interval'] = pd.Interval(dh_101['From (m)'].values, dh_101['To (m)'].values)"
      ],
      "execution_count": null,
      "outputs": []
    },
    {
      "cell_type": "code",
      "metadata": {
        "colab": {
          "base_uri": "https://localhost:8080/"
        },
        "id": "QfbiMh5LslQA",
        "outputId": "44dcf492-e16d-44ab-de34-3542f9039adc"
      },
      "source": [
        "dh_101['From (m)'].values"
      ],
      "execution_count": null,
      "outputs": [
        {
          "output_type": "execute_result",
          "data": {
            "text/plain": [
              "array([108.3 , 120.3 , 127.85, 143.  , 169.85, 169.85, 195.  , 195.5 ,\n",
              "       197.  , 211.9 , 211.9 , 211.9 , 212.45, 216.  ])"
            ]
          },
          "metadata": {
            "tags": []
          },
          "execution_count": 13
        }
      ]
    },
    {
      "cell_type": "code",
      "metadata": {
        "colab": {
          "base_uri": "https://localhost:8080/"
        },
        "id": "pmzjj6litepM",
        "outputId": "d1a15e13-786c-4ddd-dc06-bdfe642d99f2"
      },
      "source": [
        "dh_101['Interval'] = dh_101.apply(lambda x: pd.Interval(x['From (m)'], x['To (m)']), axis=1)"
      ],
      "execution_count": null,
      "outputs": [
        {
          "output_type": "stream",
          "text": [
            "/usr/local/lib/python3.6/dist-packages/ipykernel_launcher.py:1: SettingWithCopyWarning: \n",
            "A value is trying to be set on a copy of a slice from a DataFrame.\n",
            "Try using .loc[row_indexer,col_indexer] = value instead\n",
            "\n",
            "See the caveats in the documentation: https://pandas.pydata.org/pandas-docs/stable/user_guide/indexing.html#returning-a-view-versus-a-copy\n",
            "  \"\"\"Entry point for launching an IPython kernel.\n"
          ],
          "name": "stderr"
        }
      ]
    },
    {
      "cell_type": "code",
      "metadata": {
        "colab": {
          "base_uri": "https://localhost:8080/",
          "height": 473
        },
        "id": "mZeARznlt31b",
        "outputId": "84f8b0a5-172f-4a7f-bb4c-736db3c21ab3"
      },
      "source": [
        "dh_101"
      ],
      "execution_count": null,
      "outputs": [
        {
          "output_type": "execute_result",
          "data": {
            "text/html": [
              "<div>\n",
              "<style scoped>\n",
              "    .dataframe tbody tr th:only-of-type {\n",
              "        vertical-align: middle;\n",
              "    }\n",
              "\n",
              "    .dataframe tbody tr th {\n",
              "        vertical-align: top;\n",
              "    }\n",
              "\n",
              "    .dataframe thead th {\n",
              "        text-align: right;\n",
              "    }\n",
              "</style>\n",
              "<table border=\"1\" class=\"dataframe\">\n",
              "  <thead>\n",
              "    <tr style=\"text-align: right;\">\n",
              "      <th></th>\n",
              "      <th>Drill Hole</th>\n",
              "      <th>Unnamed: 1</th>\n",
              "      <th>From (m)</th>\n",
              "      <th>To (m)</th>\n",
              "      <th>Width (m)</th>\n",
              "      <th>Gold (g/t)</th>\n",
              "      <th>Record</th>\n",
              "      <th>Interval</th>\n",
              "    </tr>\n",
              "  </thead>\n",
              "  <tbody>\n",
              "    <tr>\n",
              "      <th>398</th>\n",
              "      <td>BR-101</td>\n",
              "      <td>NaN</td>\n",
              "      <td>108.30</td>\n",
              "      <td>108.80</td>\n",
              "      <td>0.50</td>\n",
              "      <td>7.47</td>\n",
              "      <td>398</td>\n",
              "      <td>(108.3, 108.8]</td>\n",
              "    </tr>\n",
              "    <tr>\n",
              "      <th>399</th>\n",
              "      <td>BR-101</td>\n",
              "      <td>and</td>\n",
              "      <td>120.30</td>\n",
              "      <td>133.00</td>\n",
              "      <td>12.70</td>\n",
              "      <td>0.51</td>\n",
              "      <td>399</td>\n",
              "      <td>(120.3, 133.0]</td>\n",
              "    </tr>\n",
              "    <tr>\n",
              "      <th>400</th>\n",
              "      <td>BR-101</td>\n",
              "      <td>including</td>\n",
              "      <td>127.85</td>\n",
              "      <td>128.85</td>\n",
              "      <td>1.00</td>\n",
              "      <td>2.42</td>\n",
              "      <td>400</td>\n",
              "      <td>(127.85, 128.85]</td>\n",
              "    </tr>\n",
              "    <tr>\n",
              "      <th>401</th>\n",
              "      <td>BR-101</td>\n",
              "      <td>and</td>\n",
              "      <td>143.00</td>\n",
              "      <td>160.00</td>\n",
              "      <td>17.00</td>\n",
              "      <td>0.17</td>\n",
              "      <td>401</td>\n",
              "      <td>(143.0, 160.0]</td>\n",
              "    </tr>\n",
              "    <tr>\n",
              "      <th>402</th>\n",
              "      <td>BR-101</td>\n",
              "      <td>and</td>\n",
              "      <td>169.85</td>\n",
              "      <td>233.10</td>\n",
              "      <td>63.25</td>\n",
              "      <td>3.61</td>\n",
              "      <td>402</td>\n",
              "      <td>(169.85, 233.1]</td>\n",
              "    </tr>\n",
              "    <tr>\n",
              "      <th>403</th>\n",
              "      <td>BR-101</td>\n",
              "      <td>including</td>\n",
              "      <td>169.85</td>\n",
              "      <td>222.00</td>\n",
              "      <td>52.15</td>\n",
              "      <td>4.24</td>\n",
              "      <td>403</td>\n",
              "      <td>(169.85, 222.0]</td>\n",
              "    </tr>\n",
              "    <tr>\n",
              "      <th>404</th>\n",
              "      <td>BR-101</td>\n",
              "      <td>and including</td>\n",
              "      <td>195.00</td>\n",
              "      <td>198.00</td>\n",
              "      <td>3.00</td>\n",
              "      <td>42.70</td>\n",
              "      <td>404</td>\n",
              "      <td>(195.0, 198.0]</td>\n",
              "    </tr>\n",
              "    <tr>\n",
              "      <th>405</th>\n",
              "      <td>BR-101</td>\n",
              "      <td>and including</td>\n",
              "      <td>195.50</td>\n",
              "      <td>197.50</td>\n",
              "      <td>2.00</td>\n",
              "      <td>61.73</td>\n",
              "      <td>405</td>\n",
              "      <td>(195.5, 197.5]</td>\n",
              "    </tr>\n",
              "    <tr>\n",
              "      <th>406</th>\n",
              "      <td>BR-101</td>\n",
              "      <td>and including</td>\n",
              "      <td>197.00</td>\n",
              "      <td>197.50</td>\n",
              "      <td>0.50</td>\n",
              "      <td>118.00</td>\n",
              "      <td>406</td>\n",
              "      <td>(197.0, 197.5]</td>\n",
              "    </tr>\n",
              "    <tr>\n",
              "      <th>407</th>\n",
              "      <td>BR-101</td>\n",
              "      <td>and including</td>\n",
              "      <td>211.90</td>\n",
              "      <td>222.00</td>\n",
              "      <td>10.10</td>\n",
              "      <td>5.91</td>\n",
              "      <td>407</td>\n",
              "      <td>(211.9, 222.0]</td>\n",
              "    </tr>\n",
              "    <tr>\n",
              "      <th>408</th>\n",
              "      <td>BR-101</td>\n",
              "      <td>and including</td>\n",
              "      <td>211.90</td>\n",
              "      <td>221.00</td>\n",
              "      <td>9.10</td>\n",
              "      <td>6.50</td>\n",
              "      <td>408</td>\n",
              "      <td>(211.9, 221.0]</td>\n",
              "    </tr>\n",
              "    <tr>\n",
              "      <th>409</th>\n",
              "      <td>BR-101</td>\n",
              "      <td>and including</td>\n",
              "      <td>211.90</td>\n",
              "      <td>217.00</td>\n",
              "      <td>5.10</td>\n",
              "      <td>7.68</td>\n",
              "      <td>409</td>\n",
              "      <td>(211.9, 217.0]</td>\n",
              "    </tr>\n",
              "    <tr>\n",
              "      <th>410</th>\n",
              "      <td>BR-101</td>\n",
              "      <td>and including</td>\n",
              "      <td>212.45</td>\n",
              "      <td>218.00</td>\n",
              "      <td>5.55</td>\n",
              "      <td>7.82</td>\n",
              "      <td>410</td>\n",
              "      <td>(212.45, 218.0]</td>\n",
              "    </tr>\n",
              "    <tr>\n",
              "      <th>411</th>\n",
              "      <td>BR-101</td>\n",
              "      <td>and including</td>\n",
              "      <td>216.00</td>\n",
              "      <td>218.00</td>\n",
              "      <td>2.00</td>\n",
              "      <td>8.21</td>\n",
              "      <td>411</td>\n",
              "      <td>(216.0, 218.0]</td>\n",
              "    </tr>\n",
              "  </tbody>\n",
              "</table>\n",
              "</div>"
            ],
            "text/plain": [
              "    Drill Hole     Unnamed: 1  From (m)  ...  Gold (g/t)  Record          Interval\n",
              "398     BR-101            NaN    108.30  ...        7.47     398    (108.3, 108.8]\n",
              "399     BR-101            and    120.30  ...        0.51     399    (120.3, 133.0]\n",
              "400     BR-101      including    127.85  ...        2.42     400  (127.85, 128.85]\n",
              "401     BR-101            and    143.00  ...        0.17     401    (143.0, 160.0]\n",
              "402     BR-101            and    169.85  ...        3.61     402   (169.85, 233.1]\n",
              "403     BR-101      including    169.85  ...        4.24     403   (169.85, 222.0]\n",
              "404     BR-101  and including    195.00  ...       42.70     404    (195.0, 198.0]\n",
              "405     BR-101  and including    195.50  ...       61.73     405    (195.5, 197.5]\n",
              "406     BR-101  and including    197.00  ...      118.00     406    (197.0, 197.5]\n",
              "407     BR-101  and including    211.90  ...        5.91     407    (211.9, 222.0]\n",
              "408     BR-101  and including    211.90  ...        6.50     408    (211.9, 221.0]\n",
              "409     BR-101  and including    211.90  ...        7.68     409    (211.9, 217.0]\n",
              "410     BR-101  and including    212.45  ...        7.82     410   (212.45, 218.0]\n",
              "411     BR-101  and including    216.00  ...        8.21     411    (216.0, 218.0]\n",
              "\n",
              "[14 rows x 8 columns]"
            ]
          },
          "metadata": {
            "tags": []
          },
          "execution_count": 15
        }
      ]
    },
    {
      "cell_type": "markdown",
      "metadata": {
        "id": "UnumMxdzt9pn"
      },
      "source": [
        "Now we can use the pd.Overlaps function\n"
      ]
    },
    {
      "cell_type": "code",
      "metadata": {
        "id": "KjvIkg3Vt6rM"
      },
      "source": [
        "import itertools\n",
        "\n",
        "cross_interval = itertools.product(dh_101.Interval,dh_101.Interval)"
      ],
      "execution_count": null,
      "outputs": []
    },
    {
      "cell_type": "code",
      "metadata": {
        "id": "IqQB-Fn-0SHH"
      },
      "source": [
        "import numpy as np\n",
        "\n",
        "#[interval[0].overlaps(interval[1]) for interval in cross_interval]\n",
        "\n",
        "overlap_matrix = np.array([interval[0].overlaps(interval[1]) for interval in cross_interval])"
      ],
      "execution_count": null,
      "outputs": []
    },
    {
      "cell_type": "code",
      "metadata": {
        "colab": {
          "base_uri": "https://localhost:8080/"
        },
        "id": "gm7ZCRaY2PUe",
        "outputId": "ab19528e-2664-43f1-882b-7c6b2ce5b149"
      },
      "source": [
        "overlap_matrix.shape"
      ],
      "execution_count": null,
      "outputs": [
        {
          "output_type": "execute_result",
          "data": {
            "text/plain": [
              "(196,)"
            ]
          },
          "metadata": {
            "tags": []
          },
          "execution_count": 18
        }
      ]
    },
    {
      "cell_type": "code",
      "metadata": {
        "colab": {
          "base_uri": "https://localhost:8080/"
        },
        "id": "BS-FNyxs1iu6",
        "outputId": "164d0932-4dcb-4a0d-936b-3114c0358305"
      },
      "source": [
        "overlap_matrix.reshape(14,14)"
      ],
      "execution_count": null,
      "outputs": [
        {
          "output_type": "execute_result",
          "data": {
            "text/plain": [
              "array([[ True, False, False, False, False, False, False, False, False,\n",
              "        False, False, False, False, False],\n",
              "       [False,  True,  True, False, False, False, False, False, False,\n",
              "        False, False, False, False, False],\n",
              "       [False,  True,  True, False, False, False, False, False, False,\n",
              "        False, False, False, False, False],\n",
              "       [False, False, False,  True, False, False, False, False, False,\n",
              "        False, False, False, False, False],\n",
              "       [False, False, False, False,  True,  True,  True,  True,  True,\n",
              "         True,  True,  True,  True,  True],\n",
              "       [False, False, False, False,  True,  True,  True,  True,  True,\n",
              "         True,  True,  True,  True,  True],\n",
              "       [False, False, False, False,  True,  True,  True,  True,  True,\n",
              "        False, False, False, False, False],\n",
              "       [False, False, False, False,  True,  True,  True,  True,  True,\n",
              "        False, False, False, False, False],\n",
              "       [False, False, False, False,  True,  True,  True,  True,  True,\n",
              "        False, False, False, False, False],\n",
              "       [False, False, False, False,  True,  True, False, False, False,\n",
              "         True,  True,  True,  True,  True],\n",
              "       [False, False, False, False,  True,  True, False, False, False,\n",
              "         True,  True,  True,  True,  True],\n",
              "       [False, False, False, False,  True,  True, False, False, False,\n",
              "         True,  True,  True,  True,  True],\n",
              "       [False, False, False, False,  True,  True, False, False, False,\n",
              "         True,  True,  True,  True,  True],\n",
              "       [False, False, False, False,  True,  True, False, False, False,\n",
              "         True,  True,  True,  True,  True]])"
            ]
          },
          "metadata": {
            "tags": []
          },
          "execution_count": 19
        }
      ]
    },
    {
      "cell_type": "code",
      "metadata": {
        "colab": {
          "base_uri": "https://localhost:8080/"
        },
        "id": "6P4lZabW14Fk",
        "outputId": "196babdb-b080-4784-806f-8ebbd98f9940"
      },
      "source": [
        "overlap_matrix"
      ],
      "execution_count": null,
      "outputs": [
        {
          "output_type": "execute_result",
          "data": {
            "text/plain": [
              "array([ True, False, False, False, False, False, False, False, False,\n",
              "       False, False, False, False, False, False,  True,  True, False,\n",
              "       False, False, False, False, False, False, False, False, False,\n",
              "       False, False,  True,  True, False, False, False, False, False,\n",
              "       False, False, False, False, False, False, False, False, False,\n",
              "        True, False, False, False, False, False, False, False, False,\n",
              "       False, False, False, False, False, False,  True,  True,  True,\n",
              "        True,  True,  True,  True,  True,  True,  True, False, False,\n",
              "       False, False,  True,  True,  True,  True,  True,  True,  True,\n",
              "        True,  True,  True, False, False, False, False,  True,  True,\n",
              "        True,  True,  True, False, False, False, False, False, False,\n",
              "       False, False, False,  True,  True,  True,  True,  True, False,\n",
              "       False, False, False, False, False, False, False, False,  True,\n",
              "        True,  True,  True,  True, False, False, False, False, False,\n",
              "       False, False, False, False,  True,  True, False, False, False,\n",
              "        True,  True,  True,  True,  True, False, False, False, False,\n",
              "        True,  True, False, False, False,  True,  True,  True,  True,\n",
              "        True, False, False, False, False,  True,  True, False, False,\n",
              "       False,  True,  True,  True,  True,  True, False, False, False,\n",
              "       False,  True,  True, False, False, False,  True,  True,  True,\n",
              "        True,  True, False, False, False, False,  True,  True, False,\n",
              "       False, False,  True,  True,  True,  True,  True])"
            ]
          },
          "metadata": {
            "tags": []
          },
          "execution_count": 20
        }
      ]
    },
    {
      "cell_type": "code",
      "metadata": {
        "colab": {
          "base_uri": "https://localhost:8080/",
          "height": 611
        },
        "id": "dC514BJd2oO2",
        "outputId": "68bdd812-48ec-41d4-e2c7-514ee41fa200"
      },
      "source": [
        "import matplotlib.pyplot as plt\n",
        "\n",
        "plt.rcParams.update({'font.size': 16})\n",
        "\n",
        "fig, ax = plt.subplots(1,1, figsize=(10,11))\n",
        "\n",
        "img = ax.imshow(overlap_matrix.reshape(14,14), cmap='hot', interpolation='nearest')\n",
        "\n",
        "x_label_list = dh_101.Record.values\n",
        "\n",
        "text = ax.set_xticklabels(x_label_list)\n",
        "text = ax.set_yticklabels(x_label_list)\n"
      ],
      "execution_count": null,
      "outputs": [
        {
          "output_type": "display_data",
          "data": {
            "image/png": "[encoded data removed]",
            "text/plain": [
              "<Figure size 720x792 with 1 Axes>"
            ]
          },
          "metadata": {
            "tags": [],
            "needs_background": "light"
          }
        }
      ]
    },
    {
      "cell_type": "markdown",
      "metadata": {
        "id": "DMZwteBL5dPA"
      },
      "source": [
        "So we get overlaps, but we do not get contains, which is unfortunate. \n",
        "\n",
        "Overlap is symmetric: so each 'child' overlaps with its parent and \n",
        "\n",
        "Can get another python package and redo all of this with a different datatype"
      ]
    },
    {
      "cell_type": "code",
      "metadata": {
        "id": "a8tIqsM67DdX"
      },
      "source": [
        "from sympy import Interval"
      ],
      "execution_count": null,
      "outputs": []
    },
    {
      "cell_type": "code",
      "metadata": {
        "colab": {
          "base_uri": "https://localhost:8080/"
        },
        "id": "-ruzYyRa7F-Y",
        "outputId": "aebb3fab-bc12-40fd-a20c-63137bb2e431"
      },
      "source": [
        "dh_101['Interval_obj'] = dh_101.apply(lambda x: Interval(x['From (m)'], x['To (m)']), axis=1)"
      ],
      "execution_count": null,
      "outputs": [
        {
          "output_type": "stream",
          "text": [
            "/usr/local/lib/python3.6/dist-packages/ipykernel_launcher.py:1: SettingWithCopyWarning: \n",
            "A value is trying to be set on a copy of a slice from a DataFrame.\n",
            "Try using .loc[row_indexer,col_indexer] = value instead\n",
            "\n",
            "See the caveats in the documentation: https://pandas.pydata.org/pandas-docs/stable/user_guide/indexing.html#returning-a-view-versus-a-copy\n",
            "  \"\"\"Entry point for launching an IPython kernel.\n"
          ],
          "name": "stderr"
        }
      ]
    },
    {
      "cell_type": "code",
      "metadata": {
        "colab": {
          "base_uri": "https://localhost:8080/"
        },
        "id": "OSfQpw40-f_S",
        "outputId": "4f34a485-f3e4-4aee-aefe-d0add7fa96f6"
      },
      "source": [
        "cross_interval = itertools.product(dh_101.Interval_obj,dh_101.Interval_obj)\n",
        "contain_matrix = np.array([interval[0].is_proper_superset(interval[1]) for interval in cross_interval])\n",
        "contain_matrix.reshape(14,14)"
      ],
      "execution_count": null,
      "outputs": [
        {
          "output_type": "execute_result",
          "data": {
            "text/plain": [
              "array([[False, False, False, False, False, False, False, False, False,\n",
              "        False, False, False, False, False],\n",
              "       [False, False,  True, False, False, False, False, False, False,\n",
              "        False, False, False, False, False],\n",
              "       [False, False, False, False, False, False, False, False, False,\n",
              "        False, False, False, False, False],\n",
              "       [False, False, False, False, False, False, False, False, False,\n",
              "        False, False, False, False, False],\n",
              "       [False, False, False, False, False,  True,  True,  True,  True,\n",
              "         True,  True,  True,  True,  True],\n",
              "       [False, False, False, False, False, False,  True,  True,  True,\n",
              "         True,  True,  True,  True,  True],\n",
              "       [False, False, False, False, False, False, False,  True,  True,\n",
              "        False, False, False, False, False],\n",
              "       [False, False, False, False, False, False, False, False,  True,\n",
              "        False, False, False, False, False],\n",
              "       [False, False, False, False, False, False, False, False, False,\n",
              "        False, False, False, False, False],\n",
              "       [False, False, False, False, False, False, False, False, False,\n",
              "        False,  True,  True,  True,  True],\n",
              "       [False, False, False, False, False, False, False, False, False,\n",
              "        False, False,  True,  True,  True],\n",
              "       [False, False, False, False, False, False, False, False, False,\n",
              "        False, False, False, False, False],\n",
              "       [False, False, False, False, False, False, False, False, False,\n",
              "        False, False, False, False,  True],\n",
              "       [False, False, False, False, False, False, False, False, False,\n",
              "        False, False, False, False, False]])"
            ]
          },
          "metadata": {
            "tags": []
          },
          "execution_count": 24
        }
      ]
    },
    {
      "cell_type": "code",
      "metadata": {
        "colab": {
          "base_uri": "https://localhost:8080/",
          "height": 611
        },
        "id": "p8gMm3dp_NAI",
        "outputId": "d8113021-cf75-4aeb-961c-04ed114d5580"
      },
      "source": [
        "import matplotlib.pyplot as plt\n",
        "\n",
        "plt.rcParams.update({'font.size': 16})\n",
        "\n",
        "fig, ax = plt.subplots(1,1, figsize=(10,11))\n",
        "\n",
        "img = ax.imshow(contain_matrix.reshape(14,14), cmap='hot', interpolation='nearest')\n",
        "\n",
        "x_label_list = dh_101.Record.values\n",
        "\n",
        "ax.set_xticks(np.arange(0, 14, 1))\n",
        "ax.set_yticks(np.arange(0, 14, 1))\n",
        "\n",
        "text = ax.set_xticklabels(x_label_list)\n",
        "text = ax.set_yticklabels(x_label_list)"
      ],
      "execution_count": null,
      "outputs": [
        {
          "output_type": "display_data",
          "data": {
            "image/png": "[encoded data removed]",
            "text/plain": [
              "<Figure size 720x792 with 1 Axes>"
            ]
          },
          "metadata": {
            "tags": [],
            "needs_background": "light"
          }
        }
      ]
    },
    {
      "cell_type": "markdown",
      "metadata": {
        "id": "HBKVJAdD_pB9"
      },
      "source": [
        "Now we can pull out a tree "
      ]
    },
    {
      "cell_type": "code",
      "metadata": {
        "colab": {
          "base_uri": "https://localhost:8080/"
        },
        "id": "yA7ZG0e9_gvS",
        "outputId": "24254274-f456-420d-e470-71755af961f7"
      },
      "source": [
        "contain_matrix.reshape(14,14).astype(float)"
      ],
      "execution_count": null,
      "outputs": [
        {
          "output_type": "execute_result",
          "data": {
            "text/plain": [
              "array([[0., 0., 0., 0., 0., 0., 0., 0., 0., 0., 0., 0., 0., 0.],\n",
              "       [0., 0., 1., 0., 0., 0., 0., 0., 0., 0., 0., 0., 0., 0.],\n",
              "       [0., 0., 0., 0., 0., 0., 0., 0., 0., 0., 0., 0., 0., 0.],\n",
              "       [0., 0., 0., 0., 0., 0., 0., 0., 0., 0., 0., 0., 0., 0.],\n",
              "       [0., 0., 0., 0., 0., 1., 1., 1., 1., 1., 1., 1., 1., 1.],\n",
              "       [0., 0., 0., 0., 0., 0., 1., 1., 1., 1., 1., 1., 1., 1.],\n",
              "       [0., 0., 0., 0., 0., 0., 0., 1., 1., 0., 0., 0., 0., 0.],\n",
              "       [0., 0., 0., 0., 0., 0., 0., 0., 1., 0., 0., 0., 0., 0.],\n",
              "       [0., 0., 0., 0., 0., 0., 0., 0., 0., 0., 0., 0., 0., 0.],\n",
              "       [0., 0., 0., 0., 0., 0., 0., 0., 0., 0., 1., 1., 1., 1.],\n",
              "       [0., 0., 0., 0., 0., 0., 0., 0., 0., 0., 0., 1., 1., 1.],\n",
              "       [0., 0., 0., 0., 0., 0., 0., 0., 0., 0., 0., 0., 0., 0.],\n",
              "       [0., 0., 0., 0., 0., 0., 0., 0., 0., 0., 0., 0., 0., 1.],\n",
              "       [0., 0., 0., 0., 0., 0., 0., 0., 0., 0., 0., 0., 0., 0.]])"
            ]
          },
          "metadata": {
            "tags": []
          },
          "execution_count": 26
        }
      ]
    },
    {
      "cell_type": "code",
      "metadata": {
        "colab": {
          "base_uri": "https://localhost:8080/"
        },
        "id": "UeRmwhYtQf_G",
        "outputId": "65855bb7-a3a0-4cda-814a-9ce5979c3508"
      },
      "source": [
        "for column in contain_matrix.reshape(14,14).astype(float).T:\n",
        "  print(column)"
      ],
      "execution_count": null,
      "outputs": [
        {
          "output_type": "stream",
          "text": [
            "[0. 0. 0. 0. 0. 0. 0. 0. 0. 0. 0. 0. 0. 0.]\n",
            "[0. 0. 0. 0. 0. 0. 0. 0. 0. 0. 0. 0. 0. 0.]\n",
            "[0. 1. 0. 0. 0. 0. 0. 0. 0. 0. 0. 0. 0. 0.]\n",
            "[0. 0. 0. 0. 0. 0. 0. 0. 0. 0. 0. 0. 0. 0.]\n",
            "[0. 0. 0. 0. 0. 0. 0. 0. 0. 0. 0. 0. 0. 0.]\n",
            "[0. 0. 0. 0. 1. 0. 0. 0. 0. 0. 0. 0. 0. 0.]\n",
            "[0. 0. 0. 0. 1. 1. 0. 0. 0. 0. 0. 0. 0. 0.]\n",
            "[0. 0. 0. 0. 1. 1. 1. 0. 0. 0. 0. 0. 0. 0.]\n",
            "[0. 0. 0. 0. 1. 1. 1. 1. 0. 0. 0. 0. 0. 0.]\n",
            "[0. 0. 0. 0. 1. 1. 0. 0. 0. 0. 0. 0. 0. 0.]\n",
            "[0. 0. 0. 0. 1. 1. 0. 0. 0. 1. 0. 0. 0. 0.]\n",
            "[0. 0. 0. 0. 1. 1. 0. 0. 0. 1. 1. 0. 0. 0.]\n",
            "[0. 0. 0. 0. 1. 1. 0. 0. 0. 1. 1. 0. 0. 0.]\n",
            "[0. 0. 0. 0. 1. 1. 0. 0. 0. 1. 1. 0. 1. 0.]\n"
          ],
          "name": "stdout"
        }
      ]
    },
    {
      "cell_type": "code",
      "metadata": {
        "colab": {
          "base_uri": "https://localhost:8080/"
        },
        "id": "aPFkiQ91Q7Mn",
        "outputId": "9b1ee7e3-846d-43a6-c7dc-5cafa4d9a35a"
      },
      "source": [
        "contain_matrix.reshape(14,14)[:,0]"
      ],
      "execution_count": null,
      "outputs": [
        {
          "output_type": "execute_result",
          "data": {
            "text/plain": [
              "array([False, False, False, False, False, False, False, False, False,\n",
              "       False, False, False, False, False])"
            ]
          },
          "metadata": {
            "tags": []
          },
          "execution_count": 28
        }
      ]
    },
    {
      "cell_type": "markdown",
      "metadata": {
        "id": "OBbbgX7_no-a"
      },
      "source": [
        "Of the machine-intelligible formats, a **tree data structure** is clearly the most suited to representing the intervals. "
      ]
    },
    {
      "cell_type": "code",
      "metadata": {
        "colab": {
          "base_uri": "https://localhost:8080/"
        },
        "id": "IK1pc360ABld",
        "outputId": "1878646e-861a-4b79-b3bf-f0a679c5da05"
      },
      "source": [
        "from anytree import Node, RenderTree, AsciiStyle, PreOrderIter\n",
        "\n",
        "interval_pairs = list(itertools.product(dh_101.Record.values, dh_101.Record.values))\n",
        "parent_child = list(contain_matrix)\n",
        "\n",
        "root = Node(\"BR-101\")\n",
        "\n",
        "all_str_to_node = {str(dh_101['Record'].values[i]) : Node(str(dh_101['Record'].values[i]), parent = root) for i, column in enumerate(contain_matrix.reshape(14,14).T)}\n",
        "\n",
        "#[all_str_to_node[str(dh_101['Record'].values[i])].parent := root for i, column in enumerate(contain_matrix.reshape(14,14).T) if ~np.any(column)]\n",
        "\n",
        "contain_matrix_sq = contain_matrix.reshape(14,14)\n",
        "\n",
        "#for i, col in enumerate(contain_matrix_sq.T):\n",
        "#  print(col)\n",
        "#  if ~np.any(col):\n",
        "#    #all_str_to_node[str(dh_101['Record'].values[i])].parent = root\n",
        "#    print(\"Root: {}\".format(dh_101['Record'].values[i]))\n",
        "#  else:\n",
        "#    print(\"Parent: {}\".format(dh_101['Record'].values[::-1][np.argmax(col[::-1])]))\n",
        "#    print(\"Child: {}\".format(dh_101['Record'].values[i]))\n",
        "\n"
      ],
      "execution_count": null,
      "outputs": [
        {
          "output_type": "stream",
          "text": [
            "[False False False False False False False False False False False False\n",
            " False False]\n",
            "Root: 398\n",
            "[False False False False False False False False False False False False\n",
            " False False]\n",
            "Root: 399\n",
            "[False  True False False False False False False False False False False\n",
            " False False]\n",
            "Parent: 399\n",
            "Child: 400\n",
            "[False False False False False False False False False False False False\n",
            " False False]\n",
            "Root: 401\n",
            "[False False False False False False False False False False False False\n",
            " False False]\n",
            "Root: 402\n",
            "[False False False False  True False False False False False False False\n",
            " False False]\n",
            "Parent: 402\n",
            "Child: 403\n",
            "[False False False False  True  True False False False False False False\n",
            " False False]\n",
            "Parent: 403\n",
            "Child: 404\n",
            "[False False False False  True  True  True False False False False False\n",
            " False False]\n",
            "Parent: 404\n",
            "Child: 405\n",
            "[False False False False  True  True  True  True False False False False\n",
            " False False]\n",
            "Parent: 405\n",
            "Child: 406\n",
            "[False False False False  True  True False False False False False False\n",
            " False False]\n",
            "Parent: 403\n",
            "Child: 407\n",
            "[False False False False  True  True False False False  True False False\n",
            " False False]\n",
            "Parent: 407\n",
            "Child: 408\n",
            "[False False False False  True  True False False False  True  True False\n",
            " False False]\n",
            "Parent: 408\n",
            "Child: 409\n",
            "[False False False False  True  True False False False  True  True False\n",
            " False False]\n",
            "Parent: 408\n",
            "Child: 410\n",
            "[False False False False  True  True False False False  True  True False\n",
            "  True False]\n",
            "Parent: 410\n",
            "Child: 411\n"
          ],
          "name": "stdout"
        }
      ]
    },
    {
      "cell_type": "code",
      "metadata": {
        "id": "HbVrXSeecY34"
      },
      "source": [
        "for i, col in enumerate(contain_matrix_sq.T):\n",
        "\n",
        "  if ~np.any(col):\n",
        "\n",
        "    all_str_to_node[str(dh_101['Record'].values[i])].parent = root\n",
        "\n",
        "  else:\n",
        "\n",
        "    all_str_to_node[str(dh_101['Record'].values[i])].parent = all_str_to_node[str(dh_101['Record'].values[::-1][np.argmax(col[::-1])])]"
      ],
      "execution_count": null,
      "outputs": []
    },
    {
      "cell_type": "code",
      "metadata": {
        "colab": {
          "base_uri": "https://localhost:8080/"
        },
        "id": "gQ2Tg4caE3Wv",
        "outputId": "ae3a9a57-7690-4a65-8ec9-6574250ba170"
      },
      "source": [
        "print(RenderTree(root, style=AsciiStyle()).by_attr())"
      ],
      "execution_count": null,
      "outputs": [
        {
          "output_type": "stream",
          "text": [
            "BR-101\n",
            "|-- 398\n",
            "|-- 399\n",
            "|   +-- 400\n",
            "|-- 401\n",
            "+-- 402\n",
            "    +-- 403\n",
            "        |-- 404\n",
            "        |   +-- 405\n",
            "        |       +-- 406\n",
            "        +-- 407\n",
            "            +-- 408\n",
            "                |-- 409\n",
            "                +-- 410\n",
            "                    +-- 411\n"
          ],
          "name": "stdout"
        }
      ]
    },
    {
      "cell_type": "markdown",
      "metadata": {
        "id": "PuMeV3Xw78gB"
      },
      "source": [
        "Now we are really getting somewhere- we can actually start looking at the global picture (since we now know which intervals are not \"child\" intervals)"
      ]
    },
    {
      "cell_type": "code",
      "metadata": {
        "id": "Ci8iYUgl77lT"
      },
      "source": [
        "dh_101_prime = dh_101[dh_101.Record.isin((child.name for child in root.children))]"
      ],
      "execution_count": null,
      "outputs": []
    },
    {
      "cell_type": "markdown",
      "metadata": {
        "id": "bl94M7rP8mRv"
      },
      "source": [
        "These are the direct children. We can go ahead and plot them and have a totally accurate picture of the log: "
      ]
    },
    {
      "cell_type": "code",
      "metadata": {
        "colab": {
          "base_uri": "https://localhost:8080/",
          "height": 163
        },
        "id": "ii9JJyJ-8lu4",
        "outputId": "5b133bbe-9c85-4af1-e4ef-90b49cf0cffa"
      },
      "source": [
        "y_axis = alt.Axis(\n",
        "    title='Intercept ID',\n",
        "    offset=5,\n",
        "    ticks=False,\n",
        "    domain=False\n",
        ")\n",
        "\n",
        "\n",
        "reqd_cols = ['From (m)', 'To (m)', 'Gold (g/t)', 'Width (m)']\n",
        "\n",
        "\n",
        "alt.Chart(dh_101_prime[reqd_cols]).mark_bar().encode(\n",
        "    alt.X('From (m):Q',\n",
        "        scale=alt.Scale(zero=False)),\n",
        "    x2='To (m):Q',\n",
        "    y=alt.Y('Drill Hole:N', axis=y_axis),\n",
        "    color=alt.Color('Gold (g/t):Q', scale=alt.Scale(scheme=\"inferno\")),\n",
        "    tooltip=[\n",
        "        alt.Tooltip('Width (m):Q', title='Width'),\n",
        "        alt.Tooltip('Gold (g/t):Q', title='Gold Grade')\n",
        "    ]\n",
        ").properties(width=800, height=100).configure(background='#D9E9F0')"
      ],
      "execution_count": null,
      "outputs": [
        {
          "output_type": "execute_result",
          "data": {
            "text/plain": [
              "alt.Chart(...)"
            ],
            "text/html": [
              "\n",
              "<div id=\"altair-viz-f52219d90e1f4ed4b4718437744010fd\"></div>\n",
              "<script type=\"text/javascript\">\n",
              "  (function(spec, embedOpt){\n",
              "    let outputDiv = document.currentScript.previousElementSibling;\n",
              "    if (outputDiv.id !== \"altair-viz-f52219d90e1f4ed4b4718437744010fd\") {\n",
              "      outputDiv = document.getElementById(\"altair-viz-f52219d90e1f4ed4b4718437744010fd\");\n",
              "    }\n",
              "    const paths = {\n",
              "      \"vega\": \"https://cdn.jsdelivr.net/npm//vega@5?noext\",\n",
              "      \"vega-lib\": \"https://cdn.jsdelivr.net/npm//vega-lib?noext\",\n",
              "      \"vega-lite\": \"https://cdn.jsdelivr.net/npm//vega-lite@4.8.1?noext\",\n",
              "      \"vega-embed\": \"https://cdn.jsdelivr.net/npm//vega-embed@6?noext\",\n",
              "    };\n",
              "\n",
              "    function loadScript(lib) {\n",
              "      return new Promise(function(resolve, reject) {\n",
              "        var s = document.createElement('script');\n",
              "        s.src = paths[lib];\n",
              "        s.async = true;\n",
              "        s.onload = () => resolve(paths[lib]);\n",
              "        s.onerror = () => reject(`Error loading script: ${paths[lib]}`);\n",
              "        document.getElementsByTagName(\"head\")[0].appendChild(s);\n",
              "      });\n",
              "    }\n",
              "\n",
              "    function showError(err) {\n",
              "      outputDiv.innerHTML = `<div class=\"error\" style=\"color:red;\">${err}</div>`;\n",
              "      throw err;\n",
              "    }\n",
              "\n",
              "    function displayChart(vegaEmbed) {\n",
              "      vegaEmbed(outputDiv, spec, embedOpt)\n",
              "        .catch(err => showError(`Javascript Error: ${err.message}<br>This usually means there's a typo in your chart specification. See the javascript console for the full traceback.`));\n",
              "    }\n",
              "\n",
              "    if(typeof define === \"function\" && define.amd) {\n",
              "      requirejs.config({paths});\n",
              "      require([\"vega-embed\"], displayChart, err => showError(`Error loading script: ${err.message}`));\n",
              "    } else if (typeof vegaEmbed === \"function\") {\n",
              "      displayChart(vegaEmbed);\n",
              "    } else {\n",
              "      loadScript(\"vega\")\n",
              "        .then(() => loadScript(\"vega-lite\"))\n",
              "        .then(() => loadScript(\"vega-embed\"))\n",
              "        .catch(showError)\n",
              "        .then(() => displayChart(vegaEmbed));\n",
              "    }\n",
              "  })({\"config\": {\"view\": {\"continuousWidth\": 400, \"continuousHeight\": 300}, \"background\": \"#D9E9F0\"}, \"data\": {\"name\": \"data-7374582c52f605c3dcde61cdf55968a2\"}, \"mark\": \"bar\", \"encoding\": {\"color\": {\"type\": \"quantitative\", \"field\": \"Gold (g/t)\", \"scale\": {\"scheme\": \"inferno\"}}, \"tooltip\": [{\"type\": \"quantitative\", \"field\": \"Width (m)\", \"title\": \"Width\"}, {\"type\": \"quantitative\", \"field\": \"Gold (g/t)\", \"title\": \"Gold Grade\"}], \"x\": {\"type\": \"quantitative\", \"field\": \"From (m)\", \"scale\": {\"zero\": false}}, \"x2\": {\"field\": \"To (m)\"}, \"y\": {\"type\": \"nominal\", \"axis\": {\"domain\": false, \"offset\": 5, \"ticks\": false, \"title\": \"Intercept ID\"}, \"field\": \"Drill Hole\"}}, \"height\": 100, \"width\": 800, \"$schema\": \"https://vega.github.io/schema/vega-lite/v4.8.1.json\", \"datasets\": {\"data-7374582c52f605c3dcde61cdf55968a2\": [{\"From (m)\": 108.3, \"To (m)\": 108.8, \"Gold (g/t)\": 7.47, \"Width (m)\": 0.5}, {\"From (m)\": 120.3, \"To (m)\": 133.0, \"Gold (g/t)\": 0.51, \"Width (m)\": 12.7}, {\"From (m)\": 143.0, \"To (m)\": 160.0, \"Gold (g/t)\": 0.17, \"Width (m)\": 17.0}, {\"From (m)\": 169.85, \"To (m)\": 233.1, \"Gold (g/t)\": 3.61, \"Width (m)\": 63.25}]}}, {\"mode\": \"vega-lite\"});\n",
              "</script>"
            ]
          },
          "metadata": {
            "tags": []
          },
          "execution_count": 33
        }
      ]
    },
    {
      "cell_type": "markdown",
      "metadata": {
        "id": "CYrMAUG--mvs"
      },
      "source": [
        "While that is correct, it is not complete: we have left out all of the additional information provided by the smaller sub-intervals! \n",
        "\n",
        "In order to incorporate that we will have to remove them from the parent intervals and determine the residual grade (whatever is left once we pull out the gold contained in the subinterval) "
      ]
    },
    {
      "cell_type": "code",
      "metadata": {
        "id": "42uDqLnaLa9Z"
      },
      "source": [
        "from anytree import Node, RenderTree, AsciiStyle, LevelOrderIter\n",
        "\n",
        "#[node.name for node in PostOrderIter(all_str_to_node['402'])]\n",
        "\n",
        "#[(node.name, node.parent) for node in LevelOrderIter(root)]"
      ],
      "execution_count": null,
      "outputs": []
    },
    {
      "cell_type": "code",
      "metadata": {
        "id": "hXVQEQHZBtya"
      },
      "source": [
        "((119) * (3.78) - (3) * (131.5)) / (119 - 3)"
      ],
      "execution_count": null,
      "outputs": []
    },
    {
      "cell_type": "markdown",
      "metadata": {
        "id": "lFMut0LuABlr"
      },
      "source": [
        "As an example of this kind of calculation, a simpler set of intervals from a  Freegold Ventures press release: \n",
        "\n",
        "> *Freegold Intercepts 3.78 g/t Au Over 119 Metres Including 131.5 g/t Over 3 Metres Within 573 Metres of 1.21 g/t Au at Golden Summit*\n",
        "\n",
        "We know the gold grade over the whole 119 meters, and the gold grade over 3 meters, but what is the gold grade over the $119 - 3 = 116 m$?\n",
        "\n",
        "The solution is a simple weighted average calculation, like compositing over a drillhole: \n",
        "\n",
        "$\\frac{119 \\times 3.78-3 \\times 131.5}{119-3} = 0.477 g/t$\n",
        "\n",
        "\n",
        "Credit to https://twitter.com/BrentCo77759016/status/1326183861722599424 and \n",
        "\n",
        "\n",
        "So now we have to do this, but with every single subinterval until we get the residual grade at every point along the drillhole\n",
        "\n",
        "Fortunately, the tree data structure we selected has specialized methods that make a traversal very simple. \n"
      ]
    },
    {
      "cell_type": "code",
      "metadata": {
        "colab": {
          "base_uri": "https://localhost:8080/"
        },
        "id": "Bk0p1vLZBxV2",
        "outputId": "994e745f-c3e7-4ed4-ea21-258a95014eed"
      },
      "source": [
        "levelord_nodes = [(node.name, node.children) for node in LevelOrderIter(root)]\n",
        "\n",
        "levelord_nodes"
      ],
      "execution_count": null,
      "outputs": [
        {
          "output_type": "execute_result",
          "data": {
            "text/plain": [
              "[('BR-101',\n",
              "  (Node('/BR-101/398'),\n",
              "   Node('/BR-101/399'),\n",
              "   Node('/BR-101/401'),\n",
              "   Node('/BR-101/402'))),\n",
              " ('398', ()),\n",
              " ('399', (Node('/BR-101/399/400'),)),\n",
              " ('401', ()),\n",
              " ('402', (Node('/BR-101/402/403'),)),\n",
              " ('400', ()),\n",
              " ('403', (Node('/BR-101/402/403/404'), Node('/BR-101/402/403/407'))),\n",
              " ('404', (Node('/BR-101/402/403/404/405'),)),\n",
              " ('407', (Node('/BR-101/402/403/407/408'),)),\n",
              " ('405', (Node('/BR-101/402/403/404/405/406'),)),\n",
              " ('408',\n",
              "  (Node('/BR-101/402/403/407/408/409'), Node('/BR-101/402/403/407/408/410'))),\n",
              " ('406', ()),\n",
              " ('409', ()),\n",
              " ('410', (Node('/BR-101/402/403/407/408/410/411'),)),\n",
              " ('411', ())]"
            ]
          },
          "metadata": {
            "tags": []
          },
          "execution_count": 39
        }
      ]
    },
    {
      "cell_type": "code",
      "metadata": {
        "id": "xT1hdgHtg1I0"
      },
      "source": [
        "nn_np_loi = [(node.name, node.parent) for node in LevelOrderIter(root)]"
      ],
      "execution_count": null,
      "outputs": []
    },
    {
      "cell_type": "code",
      "metadata": {
        "colab": {
          "base_uri": "https://localhost:8080/"
        },
        "id": "fBdarZ6ur6kM",
        "outputId": "e541b5cf-322b-4cc8-e7e5-32017f657316"
      },
      "source": [
        "all_str_to_node"
      ],
      "execution_count": null,
      "outputs": [
        {
          "output_type": "execute_result",
          "data": {
            "text/plain": [
              "{'398': Node('/BR-101/398'),\n",
              " '399': Node('/BR-101/399'),\n",
              " '400': Node('/BR-101/399/400'),\n",
              " '401': Node('/BR-101/401'),\n",
              " '402': Node('/BR-101/402'),\n",
              " '403': Node('/BR-101/402/403'),\n",
              " '404': Node('/BR-101/402/403/404'),\n",
              " '405': Node('/BR-101/402/403/404/405'),\n",
              " '406': Node('/BR-101/402/403/404/405/406'),\n",
              " '407': Node('/BR-101/402/403/407'),\n",
              " '408': Node('/BR-101/402/403/407/408'),\n",
              " '409': Node('/BR-101/402/403/407/408/409'),\n",
              " '410': Node('/BR-101/402/403/407/408/410'),\n",
              " '411': Node('/BR-101/402/403/407/408/410/411')}"
            ]
          },
          "metadata": {
            "tags": []
          },
          "execution_count": 64
        }
      ]
    },
    {
      "cell_type": "code",
      "metadata": {
        "colab": {
          "base_uri": "https://localhost:8080/"
        },
        "id": "3i_vAPJ2pSEB",
        "outputId": "8a58cff1-56bc-43de-b809-4645626dd094"
      },
      "source": [
        "for node, parent in nn_np_loi[::-1][:-1]:\r\n",
        "  print(node)\r\n",
        "  for child in all_str_to_node[node].children:\r\n",
        "    print(child)"
      ],
      "execution_count": null,
      "outputs": [
        {
          "output_type": "stream",
          "text": [
            "411\n",
            "410\n",
            "Node('/BR-101/402/403/407/408/410/411')\n",
            "409\n",
            "406\n",
            "408\n",
            "Node('/BR-101/402/403/407/408/409')\n",
            "Node('/BR-101/402/403/407/408/410')\n",
            "405\n",
            "Node('/BR-101/402/403/404/405/406')\n",
            "407\n",
            "Node('/BR-101/402/403/407/408')\n",
            "404\n",
            "Node('/BR-101/402/403/404/405')\n",
            "403\n",
            "Node('/BR-101/402/403/404')\n",
            "Node('/BR-101/402/403/407')\n",
            "400\n",
            "402\n",
            "Node('/BR-101/402/403')\n",
            "401\n",
            "399\n",
            "Node('/BR-101/399/400')\n",
            "398\n"
          ],
          "name": "stdout"
        }
      ]
    },
    {
      "cell_type": "code",
      "metadata": {
        "colab": {
          "base_uri": "https://localhost:8080/",
          "height": 473
        },
        "id": "5Hyl070qouKe",
        "outputId": "b33e1cd5-07a5-49c1-8722-57f2a6a1c64d"
      },
      "source": [
        "dh_101"
      ],
      "execution_count": null,
      "outputs": [
        {
          "output_type": "execute_result",
          "data": {
            "text/html": [
              "<div>\n",
              "<style scoped>\n",
              "    .dataframe tbody tr th:only-of-type {\n",
              "        vertical-align: middle;\n",
              "    }\n",
              "\n",
              "    .dataframe tbody tr th {\n",
              "        vertical-align: top;\n",
              "    }\n",
              "\n",
              "    .dataframe thead th {\n",
              "        text-align: right;\n",
              "    }\n",
              "</style>\n",
              "<table border=\"1\" class=\"dataframe\">\n",
              "  <thead>\n",
              "    <tr style=\"text-align: right;\">\n",
              "      <th></th>\n",
              "      <th>Drill Hole</th>\n",
              "      <th>Unnamed: 1</th>\n",
              "      <th>From (m)</th>\n",
              "      <th>To (m)</th>\n",
              "      <th>Width (m)</th>\n",
              "      <th>Gold (g/t)</th>\n",
              "      <th>Record</th>\n",
              "      <th>Interval</th>\n",
              "      <th>Interval_obj</th>\n",
              "    </tr>\n",
              "  </thead>\n",
              "  <tbody>\n",
              "    <tr>\n",
              "      <th>398</th>\n",
              "      <td>BR-101</td>\n",
              "      <td>NaN</td>\n",
              "      <td>108.30</td>\n",
              "      <td>108.80</td>\n",
              "      <td>0.50</td>\n",
              "      <td>7.47</td>\n",
              "      <td>398</td>\n",
              "      <td>(108.3, 108.8]</td>\n",
              "      <td>Interval(108.300000000000, 108.800000000000)</td>\n",
              "    </tr>\n",
              "    <tr>\n",
              "      <th>399</th>\n",
              "      <td>BR-101</td>\n",
              "      <td>and</td>\n",
              "      <td>120.30</td>\n",
              "      <td>133.00</td>\n",
              "      <td>12.70</td>\n",
              "      <td>0.51</td>\n",
              "      <td>399</td>\n",
              "      <td>(120.3, 133.0]</td>\n",
              "      <td>Interval(120.300000000000, 133.000000000000)</td>\n",
              "    </tr>\n",
              "    <tr>\n",
              "      <th>400</th>\n",
              "      <td>BR-101</td>\n",
              "      <td>including</td>\n",
              "      <td>127.85</td>\n",
              "      <td>128.85</td>\n",
              "      <td>1.00</td>\n",
              "      <td>2.42</td>\n",
              "      <td>400</td>\n",
              "      <td>(127.85, 128.85]</td>\n",
              "      <td>Interval(127.850000000000, 128.850000000000)</td>\n",
              "    </tr>\n",
              "    <tr>\n",
              "      <th>401</th>\n",
              "      <td>BR-101</td>\n",
              "      <td>and</td>\n",
              "      <td>143.00</td>\n",
              "      <td>160.00</td>\n",
              "      <td>17.00</td>\n",
              "      <td>0.17</td>\n",
              "      <td>401</td>\n",
              "      <td>(143.0, 160.0]</td>\n",
              "      <td>Interval(143.000000000000, 160.000000000000)</td>\n",
              "    </tr>\n",
              "    <tr>\n",
              "      <th>402</th>\n",
              "      <td>BR-101</td>\n",
              "      <td>and</td>\n",
              "      <td>169.85</td>\n",
              "      <td>233.10</td>\n",
              "      <td>63.25</td>\n",
              "      <td>3.61</td>\n",
              "      <td>402</td>\n",
              "      <td>(169.85, 233.1]</td>\n",
              "      <td>Interval(169.850000000000, 233.100000000000)</td>\n",
              "    </tr>\n",
              "    <tr>\n",
              "      <th>403</th>\n",
              "      <td>BR-101</td>\n",
              "      <td>including</td>\n",
              "      <td>169.85</td>\n",
              "      <td>222.00</td>\n",
              "      <td>52.15</td>\n",
              "      <td>4.24</td>\n",
              "      <td>403</td>\n",
              "      <td>(169.85, 222.0]</td>\n",
              "      <td>Interval(169.850000000000, 222.000000000000)</td>\n",
              "    </tr>\n",
              "    <tr>\n",
              "      <th>404</th>\n",
              "      <td>BR-101</td>\n",
              "      <td>and including</td>\n",
              "      <td>195.00</td>\n",
              "      <td>198.00</td>\n",
              "      <td>3.00</td>\n",
              "      <td>42.70</td>\n",
              "      <td>404</td>\n",
              "      <td>(195.0, 198.0]</td>\n",
              "      <td>Interval(195.000000000000, 198.000000000000)</td>\n",
              "    </tr>\n",
              "    <tr>\n",
              "      <th>405</th>\n",
              "      <td>BR-101</td>\n",
              "      <td>and including</td>\n",
              "      <td>195.50</td>\n",
              "      <td>197.50</td>\n",
              "      <td>2.00</td>\n",
              "      <td>61.73</td>\n",
              "      <td>405</td>\n",
              "      <td>(195.5, 197.5]</td>\n",
              "      <td>Interval(195.500000000000, 197.500000000000)</td>\n",
              "    </tr>\n",
              "    <tr>\n",
              "      <th>406</th>\n",
              "      <td>BR-101</td>\n",
              "      <td>and including</td>\n",
              "      <td>197.00</td>\n",
              "      <td>197.50</td>\n",
              "      <td>0.50</td>\n",
              "      <td>118.00</td>\n",
              "      <td>406</td>\n",
              "      <td>(197.0, 197.5]</td>\n",
              "      <td>Interval(197.000000000000, 197.500000000000)</td>\n",
              "    </tr>\n",
              "    <tr>\n",
              "      <th>407</th>\n",
              "      <td>BR-101</td>\n",
              "      <td>and including</td>\n",
              "      <td>211.90</td>\n",
              "      <td>222.00</td>\n",
              "      <td>10.10</td>\n",
              "      <td>5.91</td>\n",
              "      <td>407</td>\n",
              "      <td>(211.9, 222.0]</td>\n",
              "      <td>Interval(211.900000000000, 222.000000000000)</td>\n",
              "    </tr>\n",
              "    <tr>\n",
              "      <th>408</th>\n",
              "      <td>BR-101</td>\n",
              "      <td>and including</td>\n",
              "      <td>211.90</td>\n",
              "      <td>221.00</td>\n",
              "      <td>9.10</td>\n",
              "      <td>6.50</td>\n",
              "      <td>408</td>\n",
              "      <td>(211.9, 221.0]</td>\n",
              "      <td>Interval(211.900000000000, 221.000000000000)</td>\n",
              "    </tr>\n",
              "    <tr>\n",
              "      <th>409</th>\n",
              "      <td>BR-101</td>\n",
              "      <td>and including</td>\n",
              "      <td>211.90</td>\n",
              "      <td>217.00</td>\n",
              "      <td>5.10</td>\n",
              "      <td>7.68</td>\n",
              "      <td>409</td>\n",
              "      <td>(211.9, 217.0]</td>\n",
              "      <td>Interval(211.900000000000, 217.000000000000)</td>\n",
              "    </tr>\n",
              "    <tr>\n",
              "      <th>410</th>\n",
              "      <td>BR-101</td>\n",
              "      <td>and including</td>\n",
              "      <td>212.45</td>\n",
              "      <td>218.00</td>\n",
              "      <td>5.55</td>\n",
              "      <td>7.82</td>\n",
              "      <td>410</td>\n",
              "      <td>(212.45, 218.0]</td>\n",
              "      <td>Interval(212.450000000000, 218.000000000000)</td>\n",
              "    </tr>\n",
              "    <tr>\n",
              "      <th>411</th>\n",
              "      <td>BR-101</td>\n",
              "      <td>and including</td>\n",
              "      <td>216.00</td>\n",
              "      <td>218.00</td>\n",
              "      <td>2.00</td>\n",
              "      <td>8.21</td>\n",
              "      <td>411</td>\n",
              "      <td>(216.0, 218.0]</td>\n",
              "      <td>Interval(216.000000000000, 218.000000000000)</td>\n",
              "    </tr>\n",
              "  </tbody>\n",
              "</table>\n",
              "</div>"
            ],
            "text/plain": [
              "    Drill Hole  ...                                  Interval_obj\n",
              "398     BR-101  ...  Interval(108.300000000000, 108.800000000000)\n",
              "399     BR-101  ...  Interval(120.300000000000, 133.000000000000)\n",
              "400     BR-101  ...  Interval(127.850000000000, 128.850000000000)\n",
              "401     BR-101  ...  Interval(143.000000000000, 160.000000000000)\n",
              "402     BR-101  ...  Interval(169.850000000000, 233.100000000000)\n",
              "403     BR-101  ...  Interval(169.850000000000, 222.000000000000)\n",
              "404     BR-101  ...  Interval(195.000000000000, 198.000000000000)\n",
              "405     BR-101  ...  Interval(195.500000000000, 197.500000000000)\n",
              "406     BR-101  ...  Interval(197.000000000000, 197.500000000000)\n",
              "407     BR-101  ...  Interval(211.900000000000, 222.000000000000)\n",
              "408     BR-101  ...  Interval(211.900000000000, 221.000000000000)\n",
              "409     BR-101  ...  Interval(211.900000000000, 217.000000000000)\n",
              "410     BR-101  ...  Interval(212.450000000000, 218.000000000000)\n",
              "411     BR-101  ...  Interval(216.000000000000, 218.000000000000)\n",
              "\n",
              "[14 rows x 9 columns]"
            ]
          },
          "metadata": {
            "tags": []
          },
          "execution_count": 43
        }
      ]
    },
    {
      "cell_type": "code",
      "metadata": {
        "colab": {
          "base_uri": "https://localhost:8080/"
        },
        "id": "7bOtaZXI3IJa",
        "outputId": "9ee46488-e74e-4020-eeb8-dce20eaa8a1b"
      },
      "source": [
        "dh_101['grade_len'] = dh_101['Gold (g/t)'] * dh_101['Width (m)']"
      ],
      "execution_count": null,
      "outputs": [
        {
          "output_type": "stream",
          "text": [
            "/usr/local/lib/python3.6/dist-packages/ipykernel_launcher.py:1: SettingWithCopyWarning: \n",
            "A value is trying to be set on a copy of a slice from a DataFrame.\n",
            "Try using .loc[row_indexer,col_indexer] = value instead\n",
            "\n",
            "See the caveats in the documentation: https://pandas.pydata.org/pandas-docs/stable/user_guide/indexing.html#returning-a-view-versus-a-copy\n",
            "  \"\"\"Entry point for launching an IPython kernel.\n"
          ],
          "name": "stderr"
        }
      ]
    },
    {
      "cell_type": "code",
      "metadata": {
        "colab": {
          "base_uri": "https://localhost:8080/",
          "height": 473
        },
        "id": "8l_OujEZ1S2j",
        "outputId": "21b132ad-92ea-4001-fb75-e89fb7a516f7"
      },
      "source": [
        "dh_101"
      ],
      "execution_count": null,
      "outputs": [
        {
          "output_type": "execute_result",
          "data": {
            "text/html": [
              "<div>\n",
              "<style scoped>\n",
              "    .dataframe tbody tr th:only-of-type {\n",
              "        vertical-align: middle;\n",
              "    }\n",
              "\n",
              "    .dataframe tbody tr th {\n",
              "        vertical-align: top;\n",
              "    }\n",
              "\n",
              "    .dataframe thead th {\n",
              "        text-align: right;\n",
              "    }\n",
              "</style>\n",
              "<table border=\"1\" class=\"dataframe\">\n",
              "  <thead>\n",
              "    <tr style=\"text-align: right;\">\n",
              "      <th></th>\n",
              "      <th>Drill Hole</th>\n",
              "      <th>Unnamed: 1</th>\n",
              "      <th>From (m)</th>\n",
              "      <th>To (m)</th>\n",
              "      <th>Width (m)</th>\n",
              "      <th>Gold (g/t)</th>\n",
              "      <th>Record</th>\n",
              "      <th>Interval</th>\n",
              "      <th>Interval_obj</th>\n",
              "      <th>grade_len</th>\n",
              "    </tr>\n",
              "  </thead>\n",
              "  <tbody>\n",
              "    <tr>\n",
              "      <th>398</th>\n",
              "      <td>BR-101</td>\n",
              "      <td>NaN</td>\n",
              "      <td>108.30</td>\n",
              "      <td>108.80</td>\n",
              "      <td>0.50</td>\n",
              "      <td>7.47</td>\n",
              "      <td>398</td>\n",
              "      <td>(108.3, 108.8]</td>\n",
              "      <td>Interval(108.300000000000, 108.800000000000)</td>\n",
              "      <td>3.7350</td>\n",
              "    </tr>\n",
              "    <tr>\n",
              "      <th>399</th>\n",
              "      <td>BR-101</td>\n",
              "      <td>and</td>\n",
              "      <td>120.30</td>\n",
              "      <td>133.00</td>\n",
              "      <td>12.70</td>\n",
              "      <td>0.51</td>\n",
              "      <td>399</td>\n",
              "      <td>(120.3, 133.0]</td>\n",
              "      <td>Interval(120.300000000000, 133.000000000000)</td>\n",
              "      <td>6.4770</td>\n",
              "    </tr>\n",
              "    <tr>\n",
              "      <th>400</th>\n",
              "      <td>BR-101</td>\n",
              "      <td>including</td>\n",
              "      <td>127.85</td>\n",
              "      <td>128.85</td>\n",
              "      <td>1.00</td>\n",
              "      <td>2.42</td>\n",
              "      <td>400</td>\n",
              "      <td>(127.85, 128.85]</td>\n",
              "      <td>Interval(127.850000000000, 128.850000000000)</td>\n",
              "      <td>2.4200</td>\n",
              "    </tr>\n",
              "    <tr>\n",
              "      <th>401</th>\n",
              "      <td>BR-101</td>\n",
              "      <td>and</td>\n",
              "      <td>143.00</td>\n",
              "      <td>160.00</td>\n",
              "      <td>17.00</td>\n",
              "      <td>0.17</td>\n",
              "      <td>401</td>\n",
              "      <td>(143.0, 160.0]</td>\n",
              "      <td>Interval(143.000000000000, 160.000000000000)</td>\n",
              "      <td>2.8900</td>\n",
              "    </tr>\n",
              "    <tr>\n",
              "      <th>402</th>\n",
              "      <td>BR-101</td>\n",
              "      <td>and</td>\n",
              "      <td>169.85</td>\n",
              "      <td>233.10</td>\n",
              "      <td>63.25</td>\n",
              "      <td>3.61</td>\n",
              "      <td>402</td>\n",
              "      <td>(169.85, 233.1]</td>\n",
              "      <td>Interval(169.850000000000, 233.100000000000)</td>\n",
              "      <td>228.3325</td>\n",
              "    </tr>\n",
              "    <tr>\n",
              "      <th>403</th>\n",
              "      <td>BR-101</td>\n",
              "      <td>including</td>\n",
              "      <td>169.85</td>\n",
              "      <td>222.00</td>\n",
              "      <td>52.15</td>\n",
              "      <td>4.24</td>\n",
              "      <td>403</td>\n",
              "      <td>(169.85, 222.0]</td>\n",
              "      <td>Interval(169.850000000000, 222.000000000000)</td>\n",
              "      <td>221.1160</td>\n",
              "    </tr>\n",
              "    <tr>\n",
              "      <th>404</th>\n",
              "      <td>BR-101</td>\n",
              "      <td>and including</td>\n",
              "      <td>195.00</td>\n",
              "      <td>198.00</td>\n",
              "      <td>3.00</td>\n",
              "      <td>42.70</td>\n",
              "      <td>404</td>\n",
              "      <td>(195.0, 198.0]</td>\n",
              "      <td>Interval(195.000000000000, 198.000000000000)</td>\n",
              "      <td>128.1000</td>\n",
              "    </tr>\n",
              "    <tr>\n",
              "      <th>405</th>\n",
              "      <td>BR-101</td>\n",
              "      <td>and including</td>\n",
              "      <td>195.50</td>\n",
              "      <td>197.50</td>\n",
              "      <td>2.00</td>\n",
              "      <td>61.73</td>\n",
              "      <td>405</td>\n",
              "      <td>(195.5, 197.5]</td>\n",
              "      <td>Interval(195.500000000000, 197.500000000000)</td>\n",
              "      <td>123.4600</td>\n",
              "    </tr>\n",
              "    <tr>\n",
              "      <th>406</th>\n",
              "      <td>BR-101</td>\n",
              "      <td>and including</td>\n",
              "      <td>197.00</td>\n",
              "      <td>197.50</td>\n",
              "      <td>0.50</td>\n",
              "      <td>118.00</td>\n",
              "      <td>406</td>\n",
              "      <td>(197.0, 197.5]</td>\n",
              "      <td>Interval(197.000000000000, 197.500000000000)</td>\n",
              "      <td>59.0000</td>\n",
              "    </tr>\n",
              "    <tr>\n",
              "      <th>407</th>\n",
              "      <td>BR-101</td>\n",
              "      <td>and including</td>\n",
              "      <td>211.90</td>\n",
              "      <td>222.00</td>\n",
              "      <td>10.10</td>\n",
              "      <td>5.91</td>\n",
              "      <td>407</td>\n",
              "      <td>(211.9, 222.0]</td>\n",
              "      <td>Interval(211.900000000000, 222.000000000000)</td>\n",
              "      <td>59.6910</td>\n",
              "    </tr>\n",
              "    <tr>\n",
              "      <th>408</th>\n",
              "      <td>BR-101</td>\n",
              "      <td>and including</td>\n",
              "      <td>211.90</td>\n",
              "      <td>221.00</td>\n",
              "      <td>9.10</td>\n",
              "      <td>6.50</td>\n",
              "      <td>408</td>\n",
              "      <td>(211.9, 221.0]</td>\n",
              "      <td>Interval(211.900000000000, 221.000000000000)</td>\n",
              "      <td>59.1500</td>\n",
              "    </tr>\n",
              "    <tr>\n",
              "      <th>409</th>\n",
              "      <td>BR-101</td>\n",
              "      <td>and including</td>\n",
              "      <td>211.90</td>\n",
              "      <td>217.00</td>\n",
              "      <td>5.10</td>\n",
              "      <td>7.68</td>\n",
              "      <td>409</td>\n",
              "      <td>(211.9, 217.0]</td>\n",
              "      <td>Interval(211.900000000000, 217.000000000000)</td>\n",
              "      <td>39.1680</td>\n",
              "    </tr>\n",
              "    <tr>\n",
              "      <th>410</th>\n",
              "      <td>BR-101</td>\n",
              "      <td>and including</td>\n",
              "      <td>212.45</td>\n",
              "      <td>218.00</td>\n",
              "      <td>5.55</td>\n",
              "      <td>7.82</td>\n",
              "      <td>410</td>\n",
              "      <td>(212.45, 218.0]</td>\n",
              "      <td>Interval(212.450000000000, 218.000000000000)</td>\n",
              "      <td>43.4010</td>\n",
              "    </tr>\n",
              "    <tr>\n",
              "      <th>411</th>\n",
              "      <td>BR-101</td>\n",
              "      <td>and including</td>\n",
              "      <td>216.00</td>\n",
              "      <td>218.00</td>\n",
              "      <td>2.00</td>\n",
              "      <td>8.21</td>\n",
              "      <td>411</td>\n",
              "      <td>(216.0, 218.0]</td>\n",
              "      <td>Interval(216.000000000000, 218.000000000000)</td>\n",
              "      <td>16.4200</td>\n",
              "    </tr>\n",
              "  </tbody>\n",
              "</table>\n",
              "</div>"
            ],
            "text/plain": [
              "    Drill Hole  ... grade_len\n",
              "398     BR-101  ...    3.7350\n",
              "399     BR-101  ...    6.4770\n",
              "400     BR-101  ...    2.4200\n",
              "401     BR-101  ...    2.8900\n",
              "402     BR-101  ...  228.3325\n",
              "403     BR-101  ...  221.1160\n",
              "404     BR-101  ...  128.1000\n",
              "405     BR-101  ...  123.4600\n",
              "406     BR-101  ...   59.0000\n",
              "407     BR-101  ...   59.6910\n",
              "408     BR-101  ...   59.1500\n",
              "409     BR-101  ...   39.1680\n",
              "410     BR-101  ...   43.4010\n",
              "411     BR-101  ...   16.4200\n",
              "\n",
              "[14 rows x 10 columns]"
            ]
          },
          "metadata": {
            "tags": []
          },
          "execution_count": 118
        }
      ]
    },
    {
      "cell_type": "code",
      "metadata": {
        "colab": {
          "base_uri": "https://localhost:8080/"
        },
        "id": "86bDkuCYEG5Y",
        "outputId": "a8fddc87-836c-4427-9f0c-aff14fceb7ae"
      },
      "source": [
        "from sympy import Union\n",
        "import functools\n",
        "\n",
        "for node in levelord_nodes[1:]:\n",
        "  parent_interval = dh_101[dh_101['Record'] == float(node[0])]\n",
        "  child_names = [child.name for child in node[1]]\n",
        "  child_intervals = [dh_101[dh_101['Record'] == float(child)] for child in child_names]\n",
        "  #print(child_names)\n",
        "\n",
        "  l_child_int = [intv['Interval_obj'].values[0]._measure for intv in child_intervals]\n",
        "  print(l_child_int)\n",
        "  #g_child_int = [dh_101.loc[int(child_name)]['Gold (g/t)'] for child_name in child_names]\n",
        "  lg_child_int = [dh_101.loc[int(child_name)]['grade_len'] for child_name in child_names]\n",
        "\n",
        "  #print(parent_interval.grade_len)\n",
        "  #print(sum(lg_child_int))\n",
        "  #print(parent_interval['Width (m)'].values[0])\n",
        "  #print(child_intervals)\n",
        "\n",
        "\n",
        "  #resid_grade = (parent_interval.grade_len - sum(lg_child_int)) / (parent_interval['Width (m)'] - sum(l_child_int))\n",
        "  #print(resid_grade)\n",
        "\n",
        "\n",
        "  \n",
        "  #try:\n",
        "  #  print(parent_interval)\n",
        "  #  print(parent_interval._boundary)\n",
        "  #  print(parent_interval._measure)\n",
        "  #except TypeError:\n",
        "  #  print(\"typeerror\")"
      ],
      "execution_count": null,
      "outputs": [
        {
          "output_type": "stream",
          "text": [
            "[]\n",
            "[1.00000000000000]\n",
            "[]\n",
            "[52.1500000000000]\n",
            "[]\n",
            "[3.00000000000000, 10.1000000000000]\n",
            "[2.00000000000000]\n",
            "[9.09999999999999]\n",
            "[0.500000000000000]\n",
            "[5.09999999999999, 5.55000000000001]\n",
            "[]\n",
            "[]\n",
            "[2.00000000000000]\n",
            "[]\n"
          ],
          "name": "stdout"
        }
      ]
    },
    {
      "cell_type": "code",
      "metadata": {
        "colab": {
          "base_uri": "https://localhost:8080/"
        },
        "id": "gbGwj6FwIrrV",
        "outputId": "061ad62b-4863-446e-c425-85b6be6576b4"
      },
      "source": [
        "Interval(120.300000000000, 133.000000000000) - Interval(127.850000000000, 128.850000000000)"
      ],
      "execution_count": null,
      "outputs": [
        {
          "output_type": "execute_result",
          "data": {
            "text/plain": [
              "Union(Interval.Ropen(120.300000000000, 127.850000000000), Interval.Lopen(128.850000000000, 133.000000000000))"
            ]
          },
          "metadata": {
            "tags": []
          },
          "execution_count": 41
        }
      ]
    },
    {
      "cell_type": "code",
      "metadata": {
        "colab": {
          "base_uri": "https://localhost:8080/"
        },
        "id": "J-tOth8Koiq4",
        "outputId": "e141076e-df41-47b7-ea09-7c2dbb0a5184"
      },
      "source": [
        "{Interval(120.300000000000, 133.000000000000) : 1, Interval(127.850000000000, 128.850000000000):2}"
      ],
      "execution_count": null,
      "outputs": [
        {
          "output_type": "execute_result",
          "data": {
            "text/plain": [
              "{Interval(120.300000000000, 133.000000000000): 1,\n",
              " Interval(127.850000000000, 128.850000000000): 2}"
            ]
          },
          "metadata": {
            "tags": []
          },
          "execution_count": 42
        }
      ]
    },
    {
      "cell_type": "code",
      "metadata": {
        "colab": {
          "base_uri": "https://localhost:8080/",
          "height": 78
        },
        "id": "n7KRHaGSvQ1Q",
        "outputId": "a4351e48-75df-49db-f2a8-69a451763f0d"
      },
      "source": [
        "dh_101[dh_101.Record == 398]"
      ],
      "execution_count": null,
      "outputs": [
        {
          "output_type": "execute_result",
          "data": {
            "text/html": [
              "<div>\n",
              "<style scoped>\n",
              "    .dataframe tbody tr th:only-of-type {\n",
              "        vertical-align: middle;\n",
              "    }\n",
              "\n",
              "    .dataframe tbody tr th {\n",
              "        vertical-align: top;\n",
              "    }\n",
              "\n",
              "    .dataframe thead th {\n",
              "        text-align: right;\n",
              "    }\n",
              "</style>\n",
              "<table border=\"1\" class=\"dataframe\">\n",
              "  <thead>\n",
              "    <tr style=\"text-align: right;\">\n",
              "      <th></th>\n",
              "      <th>Drill Hole</th>\n",
              "      <th>Unnamed: 1</th>\n",
              "      <th>From (m)</th>\n",
              "      <th>To (m)</th>\n",
              "      <th>Width (m)</th>\n",
              "      <th>Gold (g/t)</th>\n",
              "      <th>Record</th>\n",
              "      <th>Interval</th>\n",
              "      <th>Interval_obj</th>\n",
              "    </tr>\n",
              "  </thead>\n",
              "  <tbody>\n",
              "    <tr>\n",
              "      <th>398</th>\n",
              "      <td>BR-101</td>\n",
              "      <td>NaN</td>\n",
              "      <td>108.3</td>\n",
              "      <td>108.8</td>\n",
              "      <td>0.5</td>\n",
              "      <td>7.47</td>\n",
              "      <td>398</td>\n",
              "      <td>(108.3, 108.8]</td>\n",
              "      <td>Interval(108.300000000000, 108.800000000000)</td>\n",
              "    </tr>\n",
              "  </tbody>\n",
              "</table>\n",
              "</div>"
            ],
            "text/plain": [
              "    Drill Hole  ...                                  Interval_obj\n",
              "398     BR-101  ...  Interval(108.300000000000, 108.800000000000)\n",
              "\n",
              "[1 rows x 9 columns]"
            ]
          },
          "metadata": {
            "tags": []
          },
          "execution_count": 95
        }
      ]
    }
  ]
}