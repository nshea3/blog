{
  "nbformat": 4,
  "nbformat_minor": 0,
  "metadata": {
    "colab": {
      "provenance": [],
      "collapsed_sections": []
    },
    "kernelspec": {
      "name": "python3",
      "display_name": "Python 3"
    },
    "language_info": {
      "name": "python"
    },
    "accelerator": "TPU",
    "gpuClass": "standard"
  },
  "cells": [
    {
      "cell_type": "markdown",
      "source": [
        "# ConvNet House Numbers \n",
        "\n",
        "- toc: true\n",
        "- branch: master\n",
        "- badges: true\n",
        "- comments: true\n",
        "- author: nshea3\n",
        "- categories: [keras, cnn, deeplearning, neuralnets]"
      ],
      "metadata": {
        "id": "83axtd5TpGD9"
      }
    },
    {
      "cell_type": "markdown",
      "source": [
        "## Introduction\n",
        "\n",
        "I recently encountered a problem at work where we could have made use of georeferenced, exterior images of single-family homes. \n",
        "\n",
        "![](https://upload.wikimedia.org/wikipedia/commons/2/2c/Tibbetts-Rumsey_House%2C_Ithaca_NY.jpg)\n",
        "\n",
        "Basically like this. \n",
        "\n",
        "We immediately thought of Google Streetview and Zillow, but unfortunately both of those platforms have very restrictive use policies. We also considered using data from assessors' offices, but that's difficult to do at scale because of the huge variety of ways that these images are stored, to say nothing of the metadata attached to them. \n",
        "\n",
        "So we set out to find a single source of just *images*, no licensing or metadata to hold us back. [Mapillary](https://www.mapillary.com/) provides an open alternative of entirely crowdsourced photos shared from dashcams. Much better than the alternatives, but it leaves us with a different challenge: \n",
        "While we know what street we're on and roughly where we are, we don't know the camera parameters, so we can't precisely associate parts of the image with an address. We don't even have a particularly good idea of which direction the camera is pointed. \n",
        "\n",
        "The natural solution to this problem is to do what humans did before GPS - look at road signs and house numbers! The address is literally painted all over the structure! We just have to segment it and extract it, ideally in an automated way. \n",
        "\n",
        "\n",
        "It's difficult to imagine a script that we could explicitly program that would handle all the varying fonts, varying camera angles, varying lighting conditions, varying photo qualities that we'll see in reality. In short, this is a classic use case for deep learning, so we'll assemble and train a quick convolutional neural network here! "
      ],
      "metadata": {
        "id": "gpN7uNr8q-71"
      }
    },
    {
      "cell_type": "markdown",
      "source": [
        "## The dataset\n",
        "\n",
        "For this demonstration we'll use the [The Street View House Numbers (SVHN) Dataset](http://ufldl.stanford.edu/housenumbers/) from Stanford. This dataset contains a large number of labeled examples that we can use to train a convnet to label individual digits of a street number. "
      ],
      "metadata": {
        "id": "D7d1xMcJ00f_"
      }
    },
    {
      "cell_type": "code",
      "execution_count": 1,
      "metadata": {
        "id": "6dtnrq2XosTP"
      },
      "outputs": [],
      "source": [
        "import scipy.io\n",
        "import tensorflow as tf\n",
        "from matplotlib.pyplot import *\n",
        "import numpy as np\n",
        "from tensorflow import keras\n",
        "from tensorflow.keras import layers\n",
        "from tensorflow.python.ops.numpy_ops import np_config\n",
        "np_config.enable_numpy_behavior()\n",
        "\n",
        "mat = scipy.io.loadmat('/content/drive/MyDrive/DATA/train_32x32.mat')\n",
        "mat_test = scipy.io.loadmat('/content/drive/MyDrive/DATA/test_32x32.mat')"
      ]
    },
    {
      "cell_type": "markdown",
      "source": [
        "This is what the 32x32 pixel digits look like: "
      ],
      "metadata": {
        "id": "DyLXvNHf1dGG"
      }
    },
    {
      "cell_type": "code",
      "source": [
        "ax = imshow(mat[\"X\"][:,:,:,3])"
      ],
      "metadata": {
        "colab": {
          "base_uri": "https://localhost:8080/",
          "height": 266
        },
        "id": "Zxiyyschq1V-",
        "outputId": "425b765c-92e1-46f6-f909-14e03642da39"
      },
      "execution_count": 2,
      "outputs": [
        {
          "output_type": "display_data",
          "data": {
            "text/plain": [
              "<Figure size 432x288 with 1 Axes>"
            ],
            "image/png": "[encoded data removed]"
          },
          "metadata": {
            "needs_background": "light"
          }
        }
      ]
    },
    {
      "cell_type": "code",
      "source": [
        "ax = imshow(mat[\"X\"][:,:,:,115])"
      ],
      "metadata": {
        "colab": {
          "base_uri": "https://localhost:8080/",
          "height": 266
        },
        "id": "0CwmfYQj1mJi",
        "outputId": "8772c8b0-3520-493d-aa07-6b7d331acea8"
      },
      "execution_count": 3,
      "outputs": [
        {
          "output_type": "display_data",
          "data": {
            "text/plain": [
              "<Figure size 432x288 with 1 Axes>"
            ],
            "image/png": "[encoded data removed]"
          },
          "metadata": {
            "needs_background": "light"
          }
        }
      ]
    },
    {
      "cell_type": "markdown",
      "source": [
        "And the associated labels:"
      ],
      "metadata": {
        "id": "ZpgQgttZ1ioA"
      }
    },
    {
      "cell_type": "code",
      "source": [
        "mat[\"y\"][3]"
      ],
      "metadata": {
        "colab": {
          "base_uri": "https://localhost:8080/"
        },
        "id": "CjtX1M60qZZE",
        "outputId": "1fcb07e8-8698-46a1-dcda-39661dd5dd7b"
      },
      "execution_count": 4,
      "outputs": [
        {
          "output_type": "execute_result",
          "data": {
            "text/plain": [
              "array([3], dtype=uint8)"
            ]
          },
          "metadata": {},
          "execution_count": 4
        }
      ]
    },
    {
      "cell_type": "code",
      "source": [
        "mat[\"y\"][115]"
      ],
      "metadata": {
        "colab": {
          "base_uri": "https://localhost:8080/"
        },
        "id": "IcWtsbGH1tnZ",
        "outputId": "ac638902-b9d0-4626-b4f2-35bb04988604"
      },
      "execution_count": 5,
      "outputs": [
        {
          "output_type": "execute_result",
          "data": {
            "text/plain": [
              "array([3], dtype=uint8)"
            ]
          },
          "metadata": {},
          "execution_count": 5
        }
      ]
    },
    {
      "cell_type": "markdown",
      "source": [
        "Even this toy example includes some of the challenges we listed above (varying fonts, varying camera angles, varying lighting conditions, varying photo qualities) - and others that we didn't discuss:\n",
        "\n",
        "> Character level ground truth in an MNIST-like format. All digits have been resized to a fixed resolution of 32-by-32 pixels. The original character bounding boxes are extended in the appropriate dimension to become square windows, so that resizing them to 32-by-32 pixels does not introduce aspect ratio distortions. Nevertheless this preprocessing introduces some distracting digits to the sides of the digit of interest. \n"
      ],
      "metadata": {
        "id": "i6-YKVER1337"
      }
    },
    {
      "cell_type": "markdown",
      "source": [
        "## Preprocessing\n",
        "\n",
        "We need to turn our array of RGB images into an array of greyscale images (it's definitely possible to do deep learning with RGB images, but it's a little more involved) And doing a little reshaping as well - need it in batch, pixel_x, pixel_y format.\n",
        "\n",
        "We're using the "
      ],
      "metadata": {
        "id": "ldXcT6Let_dE"
      }
    },
    {
      "cell_type": "code",
      "source": [
        "x_train = tf.transpose(np.tensordot(mat[\"X\"], [0.299, 0.587, 0.114], axes=([2], [0])), [2, 0, 1])\n",
        "x_test = tf.transpose(np.tensordot(mat_test[\"X\"], [0.299, 0.587, 0.114], axes=([2], [0])), [2, 0, 1])\n",
        "\n",
        "x_train.shape"
      ],
      "metadata": {
        "colab": {
          "base_uri": "https://localhost:8080/"
        },
        "id": "A7u-TcZCsXfp",
        "outputId": "f195c5fb-29c0-4bc1-d3c8-e6ed397fd696"
      },
      "execution_count": 6,
      "outputs": [
        {
          "output_type": "execute_result",
          "data": {
            "text/plain": [
              "TensorShape([73257, 32, 32])"
            ]
          },
          "metadata": {},
          "execution_count": 6
        }
      ]
    },
    {
      "cell_type": "markdown",
      "source": [
        "We're using the $v_{gray}(r,g,b) = 0.2989 * r + 0.5870 * g + 0.1140 * b$ formula to convert the (r,g,b) values into a grayscale value. "
      ],
      "metadata": {
        "id": "EbC8XV_X24Rr"
      }
    },
    {
      "cell_type": "code",
      "source": [
        "imshow(x_train[3,:,:])"
      ],
      "metadata": {
        "colab": {
          "base_uri": "https://localhost:8080/",
          "height": 284
        },
        "id": "QHl_HRNav1WT",
        "outputId": "fbebba8a-0304-4c47-f44e-b61290112498"
      },
      "execution_count": 7,
      "outputs": [
        {
          "output_type": "execute_result",
          "data": {
            "text/plain": [
              "<matplotlib.image.AxesImage at 0x7f441762d8d0>"
            ]
          },
          "metadata": {},
          "execution_count": 7
        },
        {
          "output_type": "display_data",
          "data": {
            "text/plain": [
              "<Figure size 432x288 with 1 Axes>"
            ],
            "image/png": "[encoded data removed]"
          },
          "metadata": {
            "needs_background": "light"
          }
        }
      ]
    },
    {
      "cell_type": "markdown",
      "source": [
        "New! with zero color! \n",
        "\n",
        "Now we move on to preparing the labels and further altering the shape of our tensor."
      ],
      "metadata": {
        "id": "S5aaJmSJyjHq"
      }
    },
    {
      "cell_type": "code",
      "source": [
        "num_classes = len(np.unique(mat[\"y\"])) + 1\n",
        "print(f\"Num classes: {num_classes}\")\n",
        "\n",
        "y_train = mat[\"y\"].ravel()\n",
        "y_test = mat_test[\"y\"].ravel()\n",
        "\n",
        "input_shape = (32, 32, 1)\n",
        "\n",
        "def scale_and_expand(x_):\n",
        "  return np.expand_dims((x_.astype(\"float32\") / 255), -1)\n",
        "\n",
        "\n",
        "x_train, x_test = (scale_and_expand(x) for x in (x_train, x_test))\n",
        "\n",
        "print(\"x_train shape:\", x_train.shape)\n",
        "print(x_train.shape[0], \"train samples\")\n",
        "print(x_test.shape[0], \"test samples\")\n",
        "\n",
        "# convert class vectors to binary class matrices\n",
        "y_train = keras.utils.to_categorical(y_train, num_classes)\n",
        "y_test = keras.utils.to_categorical(y_test, num_classes)"
      ],
      "metadata": {
        "colab": {
          "base_uri": "https://localhost:8080/"
        },
        "id": "e3gQ6DxfrXVC",
        "outputId": "eec75fad-66fb-4a1f-a94b-295fe970941f"
      },
      "execution_count": 8,
      "outputs": [
        {
          "output_type": "stream",
          "name": "stdout",
          "text": [
            "Num classes: 11\n",
            "x_train shape: (73257, 32, 32, 1)\n",
            "73257 train samples\n",
            "26032 test samples\n"
          ]
        }
      ]
    },
    {
      "cell_type": "markdown",
      "source": [
        "## Model Topology\n",
        "\n",
        "This is a simple ConvNet architecture (borrowed from [here](https://keras.io/examples/vision/mnist_convnet/) in the keras docs, credit to François Chollet)"
      ],
      "metadata": {
        "id": "xxn8mWnI3nRj"
      }
    },
    {
      "cell_type": "code",
      "source": [
        "model = keras.Sequential(\n",
        "    [\n",
        "        keras.Input(shape=input_shape),\n",
        "        layers.Conv2D(32, kernel_size=(3, 3), activation=\"relu\"),\n",
        "        layers.MaxPooling2D(pool_size=(2, 2)),\n",
        "        layers.Conv2D(64, kernel_size=(3, 3), activation=\"relu\"),\n",
        "        layers.MaxPooling2D(pool_size=(2, 2)),\n",
        "        layers.Flatten(),\n",
        "        layers.Dropout(0.5),\n",
        "        layers.Dense(num_classes, activation=\"softmax\"),\n",
        "    ]\n",
        ")\n",
        "\n",
        "model.summary()\n"
      ],
      "metadata": {
        "colab": {
          "base_uri": "https://localhost:8080/"
        },
        "id": "uP4koXzbvTS-",
        "outputId": "72aeac1e-5d3a-4b44-cbd2-870a7163ceea"
      },
      "execution_count": 9,
      "outputs": [
        {
          "output_type": "stream",
          "name": "stdout",
          "text": [
            "Model: \"sequential\"\n",
            "_________________________________________________________________\n",
            " Layer (type)                Output Shape              Param #   \n",
            "=================================================================\n",
            " conv2d (Conv2D)             (None, 30, 30, 32)        320       \n",
            "                                                                 \n",
            " max_pooling2d (MaxPooling2D  (None, 15, 15, 32)       0         \n",
            " )                                                               \n",
            "                                                                 \n",
            " conv2d_1 (Conv2D)           (None, 13, 13, 64)        18496     \n",
            "                                                                 \n",
            " max_pooling2d_1 (MaxPooling  (None, 6, 6, 64)         0         \n",
            " 2D)                                                             \n",
            "                                                                 \n",
            " flatten (Flatten)           (None, 2304)              0         \n",
            "                                                                 \n",
            " dropout (Dropout)           (None, 2304)              0         \n",
            "                                                                 \n",
            " dense (Dense)               (None, 11)                25355     \n",
            "                                                                 \n",
            "=================================================================\n",
            "Total params: 44,171\n",
            "Trainable params: 44,171\n",
            "Non-trainable params: 0\n",
            "_________________________________________________________________\n"
          ]
        }
      ]
    },
    {
      "cell_type": "markdown",
      "source": [
        "## Parameters and Training"
      ],
      "metadata": {
        "id": "diL6RK4q45_B"
      }
    },
    {
      "cell_type": "code",
      "source": [
        "batch_size = 128\n",
        "epochs = 15\n",
        "\n",
        "model.compile(loss=\"categorical_crossentropy\", optimizer=\"adam\", metrics=[\"accuracy\"])\n",
        "\n",
        "model.fit(x_train, y_train, batch_size=batch_size, epochs=epochs, validation_split=0.1)\n"
      ],
      "metadata": {
        "colab": {
          "base_uri": "https://localhost:8080/"
        },
        "id": "5htvfMyLvVoI",
        "outputId": "3fbd6bfb-e18c-4316-9b6a-ed18c741bdaa"
      },
      "execution_count": 10,
      "outputs": [
        {
          "output_type": "stream",
          "name": "stdout",
          "text": [
            "Epoch 1/15\n",
            "516/516 [==============================] - 101s 195ms/step - loss: 1.5204 - accuracy: 0.5037 - val_loss: 0.7716 - val_accuracy: 0.7935\n",
            "Epoch 2/15\n",
            "516/516 [==============================] - 87s 168ms/step - loss: 0.8102 - accuracy: 0.7637 - val_loss: 0.6294 - val_accuracy: 0.8354\n",
            "Epoch 3/15\n",
            "516/516 [==============================] - 77s 150ms/step - loss: 0.7143 - accuracy: 0.7977 - val_loss: 0.5900 - val_accuracy: 0.8460\n",
            "Epoch 4/15\n",
            "516/516 [==============================] - 89s 173ms/step - loss: 0.6613 - accuracy: 0.8141 - val_loss: 0.5400 - val_accuracy: 0.8598\n",
            "Epoch 5/15\n",
            "516/516 [==============================] - 88s 170ms/step - loss: 0.6289 - accuracy: 0.8232 - val_loss: 0.5257 - val_accuracy: 0.8597\n",
            "Epoch 6/15\n",
            "516/516 [==============================] - 83s 161ms/step - loss: 0.6051 - accuracy: 0.8284 - val_loss: 0.5008 - val_accuracy: 0.8677\n",
            "Epoch 7/15\n",
            "516/516 [==============================] - 80s 155ms/step - loss: 0.5827 - accuracy: 0.8354 - val_loss: 0.4865 - val_accuracy: 0.8657\n",
            "Epoch 8/15\n",
            "516/516 [==============================] - 79s 152ms/step - loss: 0.5680 - accuracy: 0.8377 - val_loss: 0.4763 - val_accuracy: 0.8647\n",
            "Epoch 9/15\n",
            "516/516 [==============================] - 79s 152ms/step - loss: 0.5498 - accuracy: 0.8421 - val_loss: 0.4652 - val_accuracy: 0.8743\n",
            "Epoch 10/15\n",
            "516/516 [==============================] - 78s 151ms/step - loss: 0.5381 - accuracy: 0.8475 - val_loss: 0.4508 - val_accuracy: 0.8721\n",
            "Epoch 11/15\n",
            "516/516 [==============================] - 82s 158ms/step - loss: 0.5284 - accuracy: 0.8489 - val_loss: 0.4342 - val_accuracy: 0.8793\n",
            "Epoch 12/15\n",
            "516/516 [==============================] - 78s 152ms/step - loss: 0.5147 - accuracy: 0.8515 - val_loss: 0.4243 - val_accuracy: 0.8804\n",
            "Epoch 13/15\n",
            "516/516 [==============================] - 78s 151ms/step - loss: 0.5066 - accuracy: 0.8536 - val_loss: 0.4201 - val_accuracy: 0.8795\n",
            "Epoch 14/15\n",
            "516/516 [==============================] - 78s 152ms/step - loss: 0.4945 - accuracy: 0.8564 - val_loss: 0.4294 - val_accuracy: 0.8855\n",
            "Epoch 15/15\n",
            "516/516 [==============================] - 78s 151ms/step - loss: 0.4897 - accuracy: 0.8574 - val_loss: 0.4050 - val_accuracy: 0.8833\n"
          ]
        },
        {
          "output_type": "execute_result",
          "data": {
            "text/plain": [
              "<keras.callbacks.History at 0x7f4416c3fe10>"
            ]
          },
          "metadata": {},
          "execution_count": 10
        }
      ]
    },
    {
      "cell_type": "markdown",
      "source": [
        "Looking at the train/validation scores in the diagnostic output, I always have to remind myself that dropout means that validation accuracy will often be **higher** than training accuracy! Otherwise quite happy with the convergence of our model. Let's see how it does on a held-out test set: "
      ],
      "metadata": {
        "id": "QofzSEVi5mmS"
      }
    },
    {
      "cell_type": "code",
      "source": [
        "score = model.evaluate(x_test, y_test, verbose=0)\n",
        "print(\"Test loss:\", score[0])\n",
        "print(\"Test accuracy:\", score[1])"
      ],
      "metadata": {
        "colab": {
          "base_uri": "https://localhost:8080/"
        },
        "id": "ou4H1lU1ztx1",
        "outputId": "5b065a1a-d21e-4582-fbbe-73d742b77e83"
      },
      "execution_count": 11,
      "outputs": [
        {
          "output_type": "stream",
          "name": "stdout",
          "text": [
            "Test loss: 0.4587405323982239\n",
            "Test accuracy: 0.8741933107376099\n"
          ]
        }
      ]
    },
    {
      "cell_type": "markdown",
      "source": [
        "Not too bad for a first pass! "
      ],
      "metadata": {
        "id": "qmEG6JrVztLm"
      }
    },
    {
      "cell_type": "markdown",
      "source": [
        "Sources: \n",
        "\n",
        "- [Higher validation accuracy, than training accurracy using Tensorflow and Keras](https://stackoverflow.com/questions/43979449/higher-validation-accuracy-than-training-accurracy-using-tensorflow-and-keras)\n",
        "\n",
        "- [CS231n Convolutional Neural Networks for Visual Recognition: Lecture 3, Learning](https://cs231n.github.io/neural-networks-3/)\n",
        "\n",
        "- [The Street View House Numbers (SVHN) Dataset](http://ufldl.stanford.edu/housenumbers/)\n",
        "\n",
        "- [Simple MNIST convnet](https://keras.io/examples/vision/mnist_convnet/)\n"
      ],
      "metadata": {
        "id": "4hBG_azt5NVE"
      }
    }
  ]
}