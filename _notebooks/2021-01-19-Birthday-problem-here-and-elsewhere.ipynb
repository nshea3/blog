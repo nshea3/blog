{
  "nbformat": 4,
  "nbformat_minor": 0,
  "metadata": {
    "colab": {
      "name": "2021-01-19-Birthday-problem-here-and-elsewhere.ipynb",
      "provenance": [],
      "collapsed_sections": [],
      "authorship_tag": "ABX9TyM3+De0w7sZa2rS1k7pgeib"
    },
    "kernelspec": {
      "name": "python3",
      "display_name": "Python 3"
    }
  },
  "cells": [
    {
      "cell_type": "markdown",
      "metadata": {
        "id": "kyn-rz0LkFmY"
      },
      "source": [
        "# The birthday problem here and elsewhere \r\n",
        "\r\n",
        "- toc: true\r\n",
        "- branch: master\r\n",
        "- badges: true\r\n",
        "- comments: true"
      ]
    },
    {
      "cell_type": "markdown",
      "metadata": {
        "id": "_bMDFppVkMDj"
      },
      "source": [
        "## Introduction\r\n",
        "\r\n",
        "The birthday problem is a classic probabilistic puzzle concerning the probability of any two people among $n$ people in a group sharing the same birthday.\r\n",
        "\r\n",
        "> In a group of $n$ people, what is the probability that two of these people share a birthday?\r\n",
        "\r\n",
        "The intuition around the puzzle is very misleading, so much so that it is sometimes called the birthday *paradox*, even though there is ultimately no paradox in the problem or its solution. \r\n",
        "\r\n",
        "## Birthday Problem *Here*\r\n",
        "\r\n",
        "In fact, given some reasonable assumptions, there is a simple closed form expression for the probability:\r\n",
        "\r\n",
        "$p(n)=\\frac{365 !}{365^{n}(365-n) !}$\r\n",
        "\r\n",
        "under the assumption that all $n$ birthdays are drawn uniformly at random from 365 possible dates.\r\n",
        "\r\n",
        "However, this model leads to some very surprising results when we consider the probabilities of finding shared birthdays in groups of different size $n$. \r\n",
        "\r\n",
        "We can ask more interesting questions: for instance, what group size $n$ would result in a 50% chance of a shared birthday within the group? As an upper bound on $n$, a party of size $n=366$ *must* have two individuals that share the same birthday, for $p=1.0$, since there are only 365 unique birthdays to be assigned [(by the famous ***pigeonhole principle***)](https://en.wikipedia.org/wiki/Pigeonhole_principle).  The answer for $p=0.5$, it turns out, is only $n=23$. \r\n",
        "\r\n",
        "***There is >50% probability that among a group of 23 people, 2 share a birthday!***\r\n",
        "\r\n",
        "This is such a surprising conclusion that the whole problem is sometimes called a *paradox*! \r\n",
        "\r\n",
        "Fortunately, verifying this result can be done with simulation just as well as with analytical methods. The code below assembles groups individual by individual, stopping when two individuals share a birthday. This is detected when a `list` of day numbers differs in size from a `set` of day numbers, because a `set` discards duplicates while a `list` does not:"
      ]
    },
    {
      "cell_type": "code",
      "metadata": {
        "id": "hGIsMfLhh2Zv"
      },
      "source": [
        "import random\r\n",
        "\r\n",
        "def birthday_sim(n_days=365):\r\n",
        "  dates = []\r\n",
        "  while len(set(dates)) == len(dates):\r\n",
        "    dates.append(random.randint(1,n_days + 1))\r\n",
        "  return len(dates)\r\n"
      ],
      "execution_count": 1,
      "outputs": []
    },
    {
      "cell_type": "markdown",
      "metadata": {
        "id": "idDWppq3qhyM"
      },
      "source": [
        "This code can easily run 100,000 simulations:"
      ]
    },
    {
      "cell_type": "code",
      "metadata": {
        "id": "tgMwZDU9im6u"
      },
      "source": [
        "sims_100k = [birthday_sim() for x in range(100000)]"
      ],
      "execution_count": 2,
      "outputs": []
    },
    {
      "cell_type": "markdown",
      "metadata": {
        "id": "vsDTOljlqrgX"
      },
      "source": [
        "The distribution is right-skewed, which we'd expect with a distribution centered at near 20 but taking values up to 365. The peak near 20 confirms the conclusion above that a value in this area corresponds to the 50th percentile, or the approximation of $p=0.5$ in this sample."
      ]
    },
    {
      "cell_type": "code",
      "metadata": {
        "colab": {
          "base_uri": "https://localhost:8080/",
          "height": 265
        },
        "id": "H1kQJ-Dvi0RT",
        "outputId": "b172997f-eb4b-467f-cca2-39160e4ce37f"
      },
      "source": [
        "import matplotlib.pyplot as plt\r\n",
        "\r\n",
        "hist100k = plt.hist(sims_100k, bins = 89)"
      ],
      "execution_count": 3,
      "outputs": [
        {
          "output_type": "display_data",
          "data": {
            "image/png": "[encoded data removed]",
            "text/plain": [
              "<Figure size 432x288 with 1 Axes>"
            ]
          },
          "metadata": {
            "tags": [],
            "needs_background": "light"
          }
        }
      ]
    },
    {
      "cell_type": "markdown",
      "metadata": {
        "id": "TbzdhDzzseDJ"
      },
      "source": [
        "The median represents the 50th percentile/2nd quantile/50% probability and sits exactly at 23:"
      ]
    },
    {
      "cell_type": "code",
      "metadata": {
        "colab": {
          "base_uri": "https://localhost:8080/"
        },
        "id": "L3FipmEzj5Hx",
        "outputId": "9e815e4b-5763-4e6e-d01a-e20afb52a442"
      },
      "source": [
        "import statistics\r\n",
        "\r\n",
        "statistics.median(sims_100k)"
      ],
      "execution_count": 4,
      "outputs": [
        {
          "output_type": "execute_result",
          "data": {
            "text/plain": [
              "23.0"
            ]
          },
          "metadata": {
            "tags": []
          },
          "execution_count": 4
        }
      ]
    },
    {
      "cell_type": "markdown",
      "metadata": {
        "id": "QApzXQ_Esnoq"
      },
      "source": [
        "The CDF gives a nice view of the problem: now we can read off the probabilities and the corresponding group size $n$. Here we find a few more surprising conclusions: we hit 80% probability of having a shared birthday just under $n=40$, and a 90% probability just over $n=40$. "
      ]
    },
    {
      "cell_type": "code",
      "metadata": {
        "colab": {
          "base_uri": "https://localhost:8080/",
          "height": 265
        },
        "id": "V335CWz4kbVU",
        "outputId": "198dcd4f-3741-48a0-9502-58c84444a62d"
      },
      "source": [
        "hist100k = plt.hist(sims_100k, bins = 89, cumulative=True, density=True)"
      ],
      "execution_count": 5,
      "outputs": [
        {
          "output_type": "display_data",
          "data": {
            "image/png": "[encoded data removed]",
            "text/plain": [
              "<Figure size 432x288 with 1 Axes>"
            ]
          },
          "metadata": {
            "tags": [],
            "needs_background": "light"
          }
        }
      ]
    },
    {
      "cell_type": "markdown",
      "metadata": {
        "id": "fJQO8eun-akl"
      },
      "source": [
        "In group sizes over $n=60$ finding a shared birthday should be a near certainty. [The table](https://en.wikipedia.org/wiki/Birthday_problem#Calculating_the_probability) puts the probability at 99.4% where $n=60$. \r\n",
        "\r\n",
        "This phenomenon is likely so unintuitive partially because the question is misunderstood. \"Find any two people with the same birthday\" can so easily be misunderstood as \"Select one person, and find another person with the same birthday\", or \"find one person in the group that shares MY birthday\". Neither of these is the correct interpretation. There is no need to match a specific person, or a specific date. These interpretations lack the combinatorial characteristic that makes these probabilities so high for low $n$; there are just so many different ways of combining $n$ people into groups of two! \r\n",
        "\r\n"
      ]
    },
    {
      "cell_type": "markdown",
      "metadata": {
        "id": "maMSI2CaknA5"
      },
      "source": [
        "## Birthday Problem Elsewhere\r\n",
        "\r\n",
        "Another advantage of the simulation method is *flexibility*. If we imagine we're meeting groups of $n$ individuals born on a different planet with a different year length, there is no need to re-derive the equation above because the simulation method adapts seamlessly to the new problem. We simply have to change the `n_days` parameter.\r\n",
        "\r\n",
        "For example, a single year lasts 88 earth days on Mercury (though a Mercury day lasts 2 Mercury years!):"
      ]
    },
    {
      "cell_type": "code",
      "metadata": {
        "id": "SKv8WMl2kyR-",
        "colab": {
          "base_uri": "https://localhost:8080/",
          "height": 265
        },
        "outputId": "3814efe1-1c5a-4ab2-a570-331bd29a625e"
      },
      "source": [
        "mercury_sims_100k = [birthday_sim(88) for x in range(100000)]\r\n",
        "\r\n",
        "hist100k = plt.hist(mercury_sims_100k, bins = 39, cumulative=True, density=True)"
      ],
      "execution_count": 6,
      "outputs": [
        {
          "output_type": "display_data",
          "data": {
            "image/png": "[encoded data removed]",
            "text/plain": [
              "<Figure size 432x288 with 1 Axes>"
            ]
          },
          "metadata": {
            "tags": [],
            "needs_background": "light"
          }
        }
      ]
    },
    {
      "cell_type": "code",
      "metadata": {
        "colab": {
          "base_uri": "https://localhost:8080/"
        },
        "id": "E0hNeIYRlWw4",
        "outputId": "e89d469e-47d9-45de-fdd5-0b82403d3061"
      },
      "source": [
        "statistics.median(mercury_sims_100k)"
      ],
      "execution_count": 17,
      "outputs": [
        {
          "output_type": "execute_result",
          "data": {
            "text/plain": [
              "12.0"
            ]
          },
          "metadata": {
            "tags": []
          },
          "execution_count": 17
        }
      ]
    },
    {
      "cell_type": "markdown",
      "metadata": {
        "id": "ZbJxt2kNtjJq"
      },
      "source": [
        "So the corresponding value for 50% probability on Mercury? $n=12$.\r\n",
        "\r\n",
        "Clearly, the simulation technique is well suited to this problem - in fact, this class of problems - and might even be considered an improvement on the available analytical methods!"
      ]
    }
  ]
}